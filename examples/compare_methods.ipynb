{
 "cells": [
  {
   "cell_type": "code",
   "execution_count": 1,
   "id": "7c5fcad1",
   "metadata": {},
   "outputs": [],
   "source": [
    "from protosc.simulation import create_correlated_data\n",
    "from protosc.benchmark import Benchmark\n",
    "import pandas as pd\n",
    "import numpy as np"
   ]
  },
  {
   "cell_type": "code",
   "execution_count": 2,
   "id": "466b8810",
   "metadata": {},
   "outputs": [],
   "source": [
    "# Create data\n",
    "np.random.seed(1928374)\n",
    "X, y, truth = create_correlated_data()"
   ]
  },
  {
   "cell_type": "code",
   "execution_count": 3,
   "id": "5b5d9696",
   "metadata": {},
   "outputs": [
    {
     "name": "stdout",
     "output_type": "stream",
     "text": [
      "--- Round 1/2 ---\n",
      "Running filter_model...\n"
     ]
    },
    {
     "name": "stderr",
     "output_type": "stream",
     "text": [
      "100%|██████████████████████████████████████████████████████████████████████████████████████████████████████████████████████████████████████████████████████| 8/8 [00:39<00:00,  4.90s/it]\n"
     ]
    },
    {
     "name": "stdout",
     "output_type": "stream",
     "text": [
      "Running 'slow' wrapper...\n"
     ]
    },
    {
     "name": "stderr",
     "output_type": "stream",
     "text": [
      "100%|██████████████████████████████████████████████████████████████████████████████████████████████████████████████████████████████████████████████████████| 8/8 [00:39<00:00,  4.96s/it]\n"
     ]
    },
    {
     "name": "stdout",
     "output_type": "stream",
     "text": [
      "Running 'fast' wrapper...\n"
     ]
    },
    {
     "name": "stderr",
     "output_type": "stream",
     "text": [
      "100%|██████████████████████████████████████████████████████████████████████████████████████████████████████████████████████████████████████████████████████| 8/8 [00:34<00:00,  4.33s/it]\n"
     ]
    },
    {
     "name": "stdout",
     "output_type": "stream",
     "text": [
      "--- Round 2/2 ---\n",
      "Running filter_model...\n"
     ]
    },
    {
     "name": "stderr",
     "output_type": "stream",
     "text": [
      "100%|██████████████████████████████████████████████████████████████████████████████████████████████████████████████████████████████████████████████████████| 8/8 [00:37<00:00,  4.74s/it]\n"
     ]
    },
    {
     "name": "stdout",
     "output_type": "stream",
     "text": [
      "Running 'slow' wrapper...\n"
     ]
    },
    {
     "name": "stderr",
     "output_type": "stream",
     "text": [
      "100%|██████████████████████████████████████████████████████████████████████████████████████████████████████████████████████████████████████████████████████| 8/8 [00:37<00:00,  4.69s/it]\n"
     ]
    },
    {
     "name": "stdout",
     "output_type": "stream",
     "text": [
      "Running 'fast' wrapper...\n"
     ]
    },
    {
     "name": "stderr",
     "output_type": "stream",
     "text": [
      "100%|██████████████████████████████████████████████████████████████████████████████████████████████████████████████████████████████████████████████████████| 8/8 [00:38<00:00,  4.80s/it]\n"
     ]
    }
   ],
   "source": [
    "# Run filter_model + fast and slow wrapper model n times in parallel\n",
    "compare = Benchmark(X, y, n=2, n_fold=8, fold_seed = 213874)\n",
    "output = compare.execute()"
   ]
  },
  {
   "cell_type": "code",
   "execution_count": 4,
   "id": "d90fbf67",
   "metadata": {},
   "outputs": [
    {
     "data": {
      "text/html": [
       "<div>\n",
       "<style scoped>\n",
       "    .dataframe tbody tr th:only-of-type {\n",
       "        vertical-align: middle;\n",
       "    }\n",
       "\n",
       "    .dataframe tbody tr th {\n",
       "        vertical-align: top;\n",
       "    }\n",
       "\n",
       "    .dataframe thead th {\n",
       "        text-align: right;\n",
       "    }\n",
       "</style>\n",
       "<table border=\"1\" class=\"dataframe\">\n",
       "  <thead>\n",
       "    <tr style=\"text-align: right;\">\n",
       "      <th></th>\n",
       "      <th>filter</th>\n",
       "      <th>wrapper_slow</th>\n",
       "      <th>wrapper_fast</th>\n",
       "    </tr>\n",
       "  </thead>\n",
       "  <tbody>\n",
       "    <tr>\n",
       "      <th>Mean accuracy</th>\n",
       "      <td>0.699337</td>\n",
       "      <td>0.795299</td>\n",
       "      <td>0.808604</td>\n",
       "    </tr>\n",
       "    <tr>\n",
       "      <th>Unique features</th>\n",
       "      <td>20</td>\n",
       "      <td>70</td>\n",
       "      <td>95</td>\n",
       "    </tr>\n",
       "    <tr>\n",
       "      <th>Mean features</th>\n",
       "      <td>20</td>\n",
       "      <td>18</td>\n",
       "      <td>29</td>\n",
       "    </tr>\n",
       "    <tr>\n",
       "      <th>Recurring features</th>\n",
       "      <td>[81, 175, 176, 251, 344, 451, 468, 473, 485, 4...</td>\n",
       "      <td>[]</td>\n",
       "      <td>[473, 485, 497, 788, 862]</td>\n",
       "    </tr>\n",
       "    <tr>\n",
       "      <th>Feature frequencies</th>\n",
       "      <td>{769: 8, 788: 8, 682: 8, 175: 8, 176: 8, 693: ...</td>\n",
       "      <td>{788: 4, 473: 4, 862: 4, 485: 4, 497: 4, 769: ...</td>\n",
       "      <td>{788: 8, 862: 8, 473: 8, 485: 8, 497: 8, 591: ...</td>\n",
       "    </tr>\n",
       "  </tbody>\n",
       "</table>\n",
       "</div>"
      ],
      "text/plain": [
       "                                                                filter  \\\n",
       "Mean accuracy                                                 0.699337   \n",
       "Unique features                                                     20   \n",
       "Mean features                                                       20   \n",
       "Recurring features   [81, 175, 176, 251, 344, 451, 468, 473, 485, 4...   \n",
       "Feature frequencies  {769: 8, 788: 8, 682: 8, 175: 8, 176: 8, 693: ...   \n",
       "\n",
       "                                                          wrapper_slow  \\\n",
       "Mean accuracy                                                 0.795299   \n",
       "Unique features                                                     70   \n",
       "Mean features                                                       18   \n",
       "Recurring features                                                  []   \n",
       "Feature frequencies  {788: 4, 473: 4, 862: 4, 485: 4, 497: 4, 769: ...   \n",
       "\n",
       "                                                          wrapper_fast  \n",
       "Mean accuracy                                                 0.808604  \n",
       "Unique features                                                     95  \n",
       "Mean features                                                       29  \n",
       "Recurring features                           [473, 485, 497, 788, 862]  \n",
       "Feature frequencies  {788: 8, 862: 8, 473: 8, 485: 8, 497: 8, 591: ...  "
      ]
     },
     "execution_count": 4,
     "metadata": {},
     "output_type": "execute_result"
    }
   ],
   "source": [
    "# Compare output\n",
    "pd.DataFrame(output[0])"
   ]
  },
  {
   "cell_type": "code",
   "execution_count": 5,
   "id": "484422ed",
   "metadata": {},
   "outputs": [
    {
     "data": {
      "text/html": [
       "<div>\n",
       "<style scoped>\n",
       "    .dataframe tbody tr th:only-of-type {\n",
       "        vertical-align: middle;\n",
       "    }\n",
       "\n",
       "    .dataframe tbody tr th {\n",
       "        vertical-align: top;\n",
       "    }\n",
       "\n",
       "    .dataframe thead th {\n",
       "        text-align: right;\n",
       "    }\n",
       "</style>\n",
       "<table border=\"1\" class=\"dataframe\">\n",
       "  <thead>\n",
       "    <tr style=\"text-align: right;\">\n",
       "      <th></th>\n",
       "      <th>filter</th>\n",
       "      <th>wrapper_slow</th>\n",
       "      <th>wrapper_fast</th>\n",
       "    </tr>\n",
       "  </thead>\n",
       "  <tbody>\n",
       "    <tr>\n",
       "      <th>Mean accuracy</th>\n",
       "      <td>0.696991</td>\n",
       "      <td>0.770452</td>\n",
       "      <td>0.811819</td>\n",
       "    </tr>\n",
       "    <tr>\n",
       "      <th>Unique features</th>\n",
       "      <td>20</td>\n",
       "      <td>65</td>\n",
       "      <td>85</td>\n",
       "    </tr>\n",
       "    <tr>\n",
       "      <th>Mean features</th>\n",
       "      <td>20</td>\n",
       "      <td>15</td>\n",
       "      <td>29</td>\n",
       "    </tr>\n",
       "    <tr>\n",
       "      <th>Recurring features</th>\n",
       "      <td>[81, 175, 176, 251, 344, 451, 468, 473, 485, 4...</td>\n",
       "      <td>[]</td>\n",
       "      <td>[473, 485, 497, 788, 862]</td>\n",
       "    </tr>\n",
       "    <tr>\n",
       "      <th>Feature frequencies</th>\n",
       "      <td>{769: 8, 788: 8, 682: 8, 175: 8, 176: 8, 693: ...</td>\n",
       "      <td>{788: 4, 175: 4, 591: 4, 81: 4, 344: 4, 473: 4...</td>\n",
       "      <td>{788: 8, 862: 8, 473: 8, 485: 8, 497: 8, 591: ...</td>\n",
       "    </tr>\n",
       "  </tbody>\n",
       "</table>\n",
       "</div>"
      ],
      "text/plain": [
       "                                                                filter  \\\n",
       "Mean accuracy                                                 0.696991   \n",
       "Unique features                                                     20   \n",
       "Mean features                                                       20   \n",
       "Recurring features   [81, 175, 176, 251, 344, 451, 468, 473, 485, 4...   \n",
       "Feature frequencies  {769: 8, 788: 8, 682: 8, 175: 8, 176: 8, 693: ...   \n",
       "\n",
       "                                                          wrapper_slow  \\\n",
       "Mean accuracy                                                 0.770452   \n",
       "Unique features                                                     65   \n",
       "Mean features                                                       15   \n",
       "Recurring features                                                  []   \n",
       "Feature frequencies  {788: 4, 175: 4, 591: 4, 81: 4, 344: 4, 473: 4...   \n",
       "\n",
       "                                                          wrapper_fast  \n",
       "Mean accuracy                                                 0.811819  \n",
       "Unique features                                                     85  \n",
       "Mean features                                                       29  \n",
       "Recurring features                           [473, 485, 497, 788, 862]  \n",
       "Feature frequencies  {788: 8, 862: 8, 473: 8, 485: 8, 497: 8, 591: ...  "
      ]
     },
     "execution_count": 5,
     "metadata": {},
     "output_type": "execute_result"
    }
   ],
   "source": [
    "pd.DataFrame(output[1])"
   ]
  }
 ],
 "metadata": {
  "kernelspec": {
   "display_name": "protosc",
   "language": "python",
   "name": "protosc"
  },
  "language_info": {
   "codemirror_mode": {
    "name": "ipython",
    "version": 3
   },
   "file_extension": ".py",
   "mimetype": "text/x-python",
   "name": "python",
   "nbconvert_exporter": "python",
   "pygments_lexer": "ipython3",
   "version": "3.8.8"
  }
 },
 "nbformat": 4,
 "nbformat_minor": 5
}
