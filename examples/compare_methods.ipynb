{
 "cells": [
  {
   "cell_type": "code",
   "execution_count": 1,
   "id": "7c5fcad1",
   "metadata": {},
   "outputs": [],
   "source": [
    "from protosc.simulation import create_correlated_data\n",
    "from protosc.benchmark import Benchmark\n",
    "import pandas as pd\n",
    "import numpy as np"
   ]
  },
  {
   "cell_type": "code",
   "execution_count": 2,
   "id": "466b8810",
   "metadata": {},
   "outputs": [],
   "source": [
    "# Create data\n",
    "np.random.seed(1928374)\n",
    "X, y, truth = create_correlated_data()"
   ]
  },
  {
   "cell_type": "code",
   "execution_count": 3,
   "id": "5b5d9696",
   "metadata": {},
   "outputs": [
    {
     "name": "stderr",
     "output_type": "stream",
     "text": [
      "100%|██████████████████████████████████████████████████████████████████████████████████████████████████████████████████████████████████████████████████████| 8/8 [00:35<00:00,  4.41s/it]\n",
      "100%|██████████████████████████████████████████████████████████████████████████████████████████████████████████████████████████████████████████████████████| 8/8 [00:31<00:00,  3.91s/it]\n",
      "100%|██████████████████████████████████████████████████████████████████████████████████████████████████████████████████████████████████████████████████████| 8/8 [00:35<00:00,  4.47s/it]\n"
     ]
    }
   ],
   "source": [
    "# Run filter_model + fast and slow wrapper model.\n",
    "compare = Benchmark(X, y, n_fold=8, fold_seed = 213874)\n",
    "\n",
    "# Save summary of model outputs.\n",
    "output = compare.execute()"
   ]
  },
  {
   "cell_type": "code",
   "execution_count": 4,
   "id": "d90fbf67",
   "metadata": {},
   "outputs": [
    {
     "data": {
      "text/html": [
       "<div>\n",
       "<style scoped>\n",
       "    .dataframe tbody tr th:only-of-type {\n",
       "        vertical-align: middle;\n",
       "    }\n",
       "\n",
       "    .dataframe tbody tr th {\n",
       "        vertical-align: top;\n",
       "    }\n",
       "\n",
       "    .dataframe thead th {\n",
       "        text-align: right;\n",
       "    }\n",
       "</style>\n",
       "<table border=\"1\" class=\"dataframe\">\n",
       "  <thead>\n",
       "    <tr style=\"text-align: right;\">\n",
       "      <th></th>\n",
       "      <th>filter</th>\n",
       "      <th>wrapper_slow</th>\n",
       "      <th>wrapper_fast</th>\n",
       "    </tr>\n",
       "  </thead>\n",
       "  <tbody>\n",
       "    <tr>\n",
       "      <th>Accuracy</th>\n",
       "      <td>0.706528</td>\n",
       "      <td>0.833066</td>\n",
       "      <td>0.827538</td>\n",
       "    </tr>\n",
       "    <tr>\n",
       "      <th>Recurring features</th>\n",
       "      <td>[81, 175, 176, 251, 344, 451, 468, 473, 485, 4...</td>\n",
       "      <td>[]</td>\n",
       "      <td>[81, 175, 344, 473, 485, 486, 497, 591, 788, 862]</td>\n",
       "    </tr>\n",
       "    <tr>\n",
       "      <th>Feature frequencies</th>\n",
       "      <td>{769: 8, 788: 8, 682: 8, 175: 8, 176: 8, 693: ...</td>\n",
       "      <td>{591: 6, 81: 6, 175: 6, 344: 6, 486: 6, 788: 5...</td>\n",
       "      <td>{591: 8, 81: 8, 175: 8, 788: 8, 344: 8, 862: 8...</td>\n",
       "    </tr>\n",
       "  </tbody>\n",
       "</table>\n",
       "</div>"
      ],
      "text/plain": [
       "                                                                filter  \\\n",
       "Accuracy                                                      0.706528   \n",
       "Recurring features   [81, 175, 176, 251, 344, 451, 468, 473, 485, 4...   \n",
       "Feature frequencies  {769: 8, 788: 8, 682: 8, 175: 8, 176: 8, 693: ...   \n",
       "\n",
       "                                                          wrapper_slow  \\\n",
       "Accuracy                                                      0.833066   \n",
       "Recurring features                                                  []   \n",
       "Feature frequencies  {591: 6, 81: 6, 175: 6, 344: 6, 486: 6, 788: 5...   \n",
       "\n",
       "                                                          wrapper_fast  \n",
       "Accuracy                                                      0.827538  \n",
       "Recurring features   [81, 175, 344, 473, 485, 486, 497, 591, 788, 862]  \n",
       "Feature frequencies  {591: 8, 81: 8, 175: 8, 788: 8, 344: 8, 862: 8...  "
      ]
     },
     "execution_count": 4,
     "metadata": {},
     "output_type": "execute_result"
    }
   ],
   "source": [
    "# Compare output\n",
    "pd.DataFrame(output)"
   ]
  }
 ],
 "metadata": {
  "kernelspec": {
   "display_name": "protosc",
   "language": "python",
   "name": "protosc"
  },
  "language_info": {
   "codemirror_mode": {
    "name": "ipython",
    "version": 3
   },
   "file_extension": ".py",
   "mimetype": "text/x-python",
   "name": "python",
   "nbconvert_exporter": "python",
   "pygments_lexer": "ipython3",
   "version": "3.8.8"
  }
 },
 "nbformat": 4,
 "nbformat_minor": 5
}
