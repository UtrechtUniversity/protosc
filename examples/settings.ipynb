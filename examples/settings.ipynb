{
 "cells": [
  {
   "cell_type": "code",
   "execution_count": 1,
   "metadata": {},
   "outputs": [],
   "source": [
    "from protosc.settings import ProtoscSettings\n",
    "from protosc.model import FilterModel"
   ]
  },
  {
   "cell_type": "code",
   "execution_count": 2,
   "metadata": {},
   "outputs": [],
   "source": [
    "settings = ProtoscSettings()"
   ]
  },
  {
   "cell_type": "code",
   "execution_count": 3,
   "metadata": {},
   "outputs": [
    {
     "name": "stdout",
     "output_type": "stream",
     "text": [
      "combined:\n",
      "    n_fold = 8\n",
      "    fast_wrapper:\n",
      "        search_fraction = 0.15\n",
      "        reversed_clusters = True\n",
      "        greedy = True\n",
      "        exclusion_step = False\n",
      "        max_nop_rounds = 10\n",
      "    slow_wrapper:\n",
      "        search_fraction = 0.15\n",
      "        reversed_clusters = True\n",
      "        greedy = True\n",
      "        exclusion_step = False\n",
      "        max_nop_rounds = 10\n",
      "genetic:\n",
      "    n_chromo = 100\n",
      "    mutation_rate = 0.1\n",
      "    k_tournament = 5\n",
      "    num_penalty = 0.005\n",
      "    n_gen_data = 3\n",
      "    n_random_features = 100\n",
      "    signif_criterion = 0.5\n",
      "\n"
     ]
    }
   ],
   "source": [
    "print(settings)"
   ]
  },
  {
   "cell_type": "code",
   "execution_count": 4,
   "metadata": {},
   "outputs": [],
   "source": [
    "settings.n_chromo = 101"
   ]
  },
  {
   "cell_type": "code",
   "execution_count": 5,
   "metadata": {},
   "outputs": [
    {
     "data": {
      "text/plain": [
       "combined:\n",
       "    n_fold = 8\n",
       "    fast_wrapper:\n",
       "        search_fraction = 0.15\n",
       "        reversed_clusters = True\n",
       "        greedy = True\n",
       "        exclusion_step = False\n",
       "        max_nop_rounds = 10\n",
       "    slow_wrapper:\n",
       "        search_fraction = 0.15\n",
       "        reversed_clusters = True\n",
       "        greedy = True\n",
       "        exclusion_step = False\n",
       "        max_nop_rounds = 10\n",
       "genetic:\n",
       "    n_chromo = 101\n",
       "    mutation_rate = 0.1\n",
       "    k_tournament = 5\n",
       "    num_penalty = 0.005\n",
       "    n_gen_data = 3\n",
       "    n_random_features = 100\n",
       "    signif_criterion = 0.5"
      ]
     },
     "execution_count": 5,
     "metadata": {},
     "output_type": "execute_result"
    }
   ],
   "source": [
    "settings"
   ]
  },
  {
   "cell_type": "code",
   "execution_count": null,
   "metadata": {},
   "outputs": [],
   "source": []
  }
 ],
 "metadata": {
  "kernelspec": {
   "display_name": "Python 3",
   "language": "python",
   "name": "python3"
  },
  "language_info": {
   "codemirror_mode": {
    "name": "ipython",
    "version": 3
   },
   "file_extension": ".py",
   "mimetype": "text/x-python",
   "name": "python",
   "nbconvert_exporter": "python",
   "pygments_lexer": "ipython3",
   "version": "3.9.7"
  }
 },
 "nbformat": 4,
 "nbformat_minor": 4
}
