{
 "cells": [
  {
   "cell_type": "code",
   "execution_count": 1,
   "metadata": {},
   "outputs": [],
   "source": [
    "from protosc.settings import ProtoscSettings\n",
    "from protosc.model import FilterModel\n",
    "from protosc.settings import default_visual_pipeline as pipe"
   ]
  },
  {
   "cell_type": "code",
   "execution_count": 2,
   "metadata": {},
   "outputs": [
    {
     "name": "stdout",
     "output_type": "stream",
     "text": [
      "FourierFeatures  : ReadImage -> ViolaJones -> CutCircle -> FourierFeatures\n",
      "HOGFeatures      : ReadImage -> ViolaJones -> CutCircle -> HOGFeatures\n",
      "FourierFeatures_2: ReadImage -> FourierFeatures\n",
      "\n"
     ]
    }
   ],
   "source": [
    "print(pipe)"
   ]
  },
  {
   "cell_type": "code",
   "execution_count": 3,
   "metadata": {},
   "outputs": [],
   "source": [
    "settings = pipe.settings"
   ]
  },
  {
   "cell_type": "code",
   "execution_count": 4,
   "metadata": {},
   "outputs": [],
   "source": [
    "settings.FourierFeatures.add_perc = 10"
   ]
  },
  {
   "cell_type": "code",
   "execution_count": 5,
   "metadata": {},
   "outputs": [
    {
     "data": {
      "text/plain": [
       "FourierFeatures:\n",
       "    ReadImage:\n",
       "    ViolaJones:\n",
       "        add_perc = 10\n",
       "    CutCircle:\n",
       "    FourierFeatures:\n",
       "        n_angular = 8\n",
       "        n_spatial = 7\n",
       "        cut_circle = True\n",
       "        absolute = True\n",
       "HOGFeatures:\n",
       "    ReadImage:\n",
       "    ViolaJones:\n",
       "        add_perc = 20\n",
       "    CutCircle:\n",
       "    HOGFeatures:\n",
       "        orientations = 9\n",
       "        hog_cellsize = [10, 10]\n",
       "FourierFeatures_2:\n",
       "    ReadImage:\n",
       "    FourierFeatures:\n",
       "        n_angular = 8\n",
       "        n_spatial = 7\n",
       "        cut_circle = True\n",
       "        absolute = True"
      ]
     },
     "execution_count": 5,
     "metadata": {},
     "output_type": "execute_result"
    }
   ],
   "source": [
    "pipe.settings"
   ]
  },
  {
   "cell_type": "code",
   "execution_count": 6,
   "metadata": {},
   "outputs": [
    {
     "data": {
      "text/plain": [
       "{'FourierFeatures': FileNotFoundError(\"Cannot read file '123'.\"),\n",
       " 'HOGFeatures': FileNotFoundError(\"Cannot read file '123'.\"),\n",
       " 'FourierFeatures_2': FileNotFoundError(\"Cannot read file '123'.\")}"
      ]
     },
     "execution_count": 6,
     "metadata": {},
     "output_type": "execute_result"
    }
   ],
   "source": [
    "pipe.execute(123)"
   ]
  },
  {
   "cell_type": "code",
   "execution_count": 7,
   "metadata": {},
   "outputs": [
    {
     "data": {
      "text/plain": [
       "FourierFeatures:\n",
       "    ReadImage:\n",
       "    ViolaJones:\n",
       "        add_perc = 10\n",
       "    CutCircle:\n",
       "    FourierFeatures:\n",
       "        n_angular = 8\n",
       "        n_spatial = 7\n",
       "        cut_circle = True\n",
       "        absolute = True\n",
       "HOGFeatures:\n",
       "    ReadImage:\n",
       "    ViolaJones:\n",
       "        add_perc = 20\n",
       "    CutCircle:\n",
       "    HOGFeatures:\n",
       "        orientations = 9\n",
       "        hog_cellsize = [10, 10]\n",
       "FourierFeatures_2:\n",
       "    ReadImage:\n",
       "    FourierFeatures:\n",
       "        n_angular = 8\n",
       "        n_spatial = 7\n",
       "        cut_circle = True\n",
       "        absolute = True"
      ]
     },
     "execution_count": 7,
     "metadata": {},
     "output_type": "execute_result"
    }
   ],
   "source": [
    "pipe.settings"
   ]
  },
  {
   "cell_type": "code",
   "execution_count": null,
   "metadata": {},
   "outputs": [],
   "source": []
  }
 ],
 "metadata": {
  "kernelspec": {
   "display_name": "Python 3",
   "language": "python",
   "name": "python3"
  },
  "language_info": {
   "codemirror_mode": {
    "name": "ipython",
    "version": 3
   },
   "file_extension": ".py",
   "mimetype": "text/x-python",
   "name": "python",
   "nbconvert_exporter": "python",
   "pygments_lexer": "ipython3",
   "version": "3.6.12"
  }
 },
 "nbformat": 4,
 "nbformat_minor": 4
}
