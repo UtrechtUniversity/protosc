{
 "cells": [
  {
   "cell_type": "code",
   "execution_count": 11,
   "metadata": {},
   "outputs": [],
   "source": [
    "from protosc import filter_model\n",
    "from protosc.simulation import create_simulation_data, create_correlated_data\n",
    "from protosc.filter_model import select_fold, train_xvalidate, select_features\n",
    "from protosc.final_selection import final_selection\n",
    "from protosc.wrapper import wrapper, calc_accuracy\n",
    "from collections import defaultdict\n",
    "import numpy as np\n",
    "from sklearn.model_selection import train_test_split"
   ]
  },
  {
   "cell_type": "code",
   "execution_count": 12,
   "metadata": {},
   "outputs": [
    {
     "name": "stdout",
     "output_type": "stream",
     "text": [
      "features: [[ 1.35946304 -0.05495788 -1.25547915 ... -0.29250157  0.71268609\n",
      "  -1.15811878]\n",
      " [ 1.16041638  0.11066386  0.96355358 ... -0.74329004  0.1515906\n",
      "  -0.07321478]\n",
      " [ 0.30436521  0.61188844 -0.84293664 ... -0.04545197  1.07970547\n",
      "  -1.35302247]\n",
      " [-0.44400432 -0.55848696  0.62296112 ...  0.09136625 -0.86405888\n",
      "  -1.28561021]\n",
      " [-1.91110816 -2.27302481 -1.0157041  ... -0.01774011  0.13587279\n",
      "  -0.88981648]]\n",
      "categories: [0 0 0 1 1]\n"
     ]
    }
   ],
   "source": [
    "# Create data: features (X) and categories (y)\n",
    "np.random.seed(1928374)\n",
    "X, y, ground_truth = create_correlated_data()\n",
    "print(f'features: {X[:5]}')\n",
    "print(f'categories: {y[:5]}')"
   ]
  },
  {
   "cell_type": "code",
   "execution_count": 13,
   "metadata": {},
   "outputs": [
    {
     "name": "stdout",
     "output_type": "stream",
     "text": [
      "Selected clusters (n=15): [485, 862, 788, 497, 473, 175, 81, 486, 344, 591]\n"
     ]
    }
   ],
   "source": [
    "# Calculate chi-square scores, rank them, calculate cumulative sum, and scale.\n",
    "# Create vector with n features till max percentage of the cumulative rank scores (in this case 95%) \n",
    "selected_clusters = select_features(X, y, chisq_threshold=0.25)\n",
    "print(f'Selected clusters (n={len(selected_clusters)}): {selected_clusters[:10]}')"
   ]
  },
  {
   "cell_type": "code",
   "execution_count": 14,
   "metadata": {},
   "outputs": [],
   "source": [
    "X_train, X_test, y_train, y_test = train_test_split(X, y, test_size=0.2)"
   ]
  },
  {
   "cell_type": "code",
   "execution_count": 9,
   "metadata": {},
   "outputs": [
    {
     "name": "stdout",
     "output_type": "stream",
     "text": [
      "model: 485, selected [0]\n",
      "rest = [1, 2, 3, 4, 5, 6, 7, 8, 9, 10, 11, 12, 13, 14]\n",
      "selection = [485 862]\n",
      "added 1, new accuracy = 0.5862068965517241\n",
      "selection = [485 788]\n",
      "selection = [485 497]\n",
      "selection = [485 473]\n",
      "added 4, new accuracy = 0.603448275862069\n",
      "selection = [485 175]\n",
      "added 5, new accuracy = 0.6724137931034483\n",
      "selection = [485  81]\n",
      "added 6, new accuracy = 0.6896551724137931\n",
      "selection = [485 486]\n",
      "selection = [485 344]\n",
      "selection = [485 591]\n",
      "selection = [485 635]\n",
      "selection = [485 769]\n",
      "selection = [485 682]\n",
      "selection = [485 693]\n",
      "selection = [485 863]\n",
      "model: [485 862 473 175  81 788], selected [0, 1, 4, 5, 6]\n",
      "rest = [3, 7, 8, 9, 10, 11, 12, 13, 14]\n",
      "selection = [485 862 473 175  81 788 497]\n",
      "selection = [485 862 473 175  81 788 486]\n",
      "added 7, new accuracy = 0.7068965517241379\n",
      "selection = [485 862 473 175  81 788 344]\n",
      "selection = [485 862 473 175  81 788 591]\n",
      "selection = [485 862 473 175  81 788 635]\n",
      "added 10, new accuracy = 0.7413793103448276\n",
      "selection = [485 862 473 175  81 788 769]\n",
      "selection = [485 862 473 175  81 788 682]\n",
      "selection = [485 862 473 175  81 788 693]\n",
      "selection = [485 862 473 175  81 788 863]\n",
      "model: [485 862 473 175  81 486 635 497], selected [0, 1, 4, 5, 6, 7, 10]\n",
      "rest = [2, 8, 9, 11, 12, 13, 14]\n",
      "selection = [485 862 473 175  81 486 635 497 788]\n",
      "selection = [485 862 473 175  81 486 635 497 344]\n",
      "selection = [485 862 473 175  81 486 635 497 591]\n",
      "selection = [485 862 473 175  81 486 635 497 769]\n",
      "selection = [485 862 473 175  81 486 635 497 682]\n",
      "selection = [485 862 473 175  81 486 635 497 693]\n",
      "selection = [485 862 473 175  81 486 635 497 863]\n",
      "added 14, new accuracy = 0.7758620689655172\n",
      "model: [485 862 473 175  81 486 635 863 344], selected [0, 1, 4, 5, 6, 7, 10, 14]\n",
      "rest = [2, 3, 9, 11, 12, 13]\n",
      "selection = [485 862 473 175  81 486 635 863 344 788]\n",
      "selection = [485 862 473 175  81 486 635 863 344 497]\n",
      "added 3, new accuracy = 0.7931034482758621\n",
      "selection = [485 862 473 175  81 486 635 863 344 591]\n",
      "selection = [485 862 473 175  81 486 635 863 344 769]\n",
      "selection = [485 862 473 175  81 486 635 863 344 682]\n",
      "selection = [485 862 473 175  81 486 635 863 344 693]\n",
      "model: [485 862 473 175  81 486 635 863 497 591], selected [0, 1, 4, 5, 6, 7, 10, 14, 3]\n",
      "rest = [2, 8, 11, 12, 13]\n",
      "selection = [485 862 473 175  81 486 635 863 497 591 788]\n",
      "selection = [485 862 473 175  81 486 635 863 497 591 344]\n",
      "selection = [485 862 473 175  81 486 635 863 497 591 769]\n",
      "selection = [485 862 473 175  81 486 635 863 497 591 682]\n",
      "selection = [485 862 473 175  81 486 635 863 497 591 693]\n",
      "model: [485 862 473 175  81 486 635 863 497 769], selected [0, 1, 4, 5, 6, 7, 10, 14, 3]\n",
      "rest = [2, 8, 9, 12, 13]\n",
      "selection = [485 862 473 175  81 486 635 863 497 769 788]\n",
      "selection = [485 862 473 175  81 486 635 863 497 769 344]\n",
      "selection = [485 862 473 175  81 486 635 863 497 769 591]\n",
      "selection = [485 862 473 175  81 486 635 863 497 769 682]\n",
      "selection = [485 862 473 175  81 486 635 863 497 769 693]\n",
      "model: [485 862 473 175  81 486 635 863 497 682], selected [0, 1, 4, 5, 6, 7, 10, 14, 3]\n",
      "rest = [2, 8, 9, 11, 13]\n",
      "selection = [485 862 473 175  81 486 635 863 497 682 788]\n",
      "selection = [485 862 473 175  81 486 635 863 497 682 344]\n",
      "selection = [485 862 473 175  81 486 635 863 497 682 591]\n",
      "selection = [485 862 473 175  81 486 635 863 497 682 769]\n",
      "selection = [485 862 473 175  81 486 635 863 497 682 693]\n",
      "model: [485 862 473 175  81 486 635 863 497 693], selected [0, 1, 4, 5, 6, 7, 10, 14, 3]\n",
      "rest = [2, 8, 9, 11, 12]\n",
      "selection = [485 862 473 175  81 486 635 863 497 693 788]\n",
      "selection = [485 862 473 175  81 486 635 863 497 693 344]\n",
      "selection = [485 862 473 175  81 486 635 863 497 693 591]\n",
      "selection = [485 862 473 175  81 486 635 863 497 693 769]\n",
      "selection = [485 862 473 175  81 486 635 863 497 693 682]\n"
     ]
    }
   ],
   "source": [
    "model, final_accuracy = wrapper(X, y, selected_clusters, n_fold=3)"
   ]
  },
  {
   "cell_type": "code",
   "execution_count": 10,
   "metadata": {
    "scrolled": true
   },
   "outputs": [
    {
     "name": "stdout",
     "output_type": "stream",
     "text": [
      "Final accuracy = 0.7931034482758621\n",
      "Selected features = [485 862 473 175  81 486 635 863 497]\n"
     ]
    }
   ],
   "source": [
    "print(f'Final accuracy = {final_accuracy}')\n",
    "print(f'Selected features = {model}')"
   ]
  },
  {
   "cell_type": "code",
   "execution_count": null,
   "metadata": {},
   "outputs": [],
   "source": []
  }
 ],
 "metadata": {
  "kernelspec": {
   "display_name": "Python 3",
   "language": "python",
   "name": "python3"
  },
  "language_info": {
   "codemirror_mode": {
    "name": "ipython",
    "version": 3
   },
   "file_extension": ".py",
   "mimetype": "text/x-python",
   "name": "python",
   "nbconvert_exporter": "python",
   "pygments_lexer": "ipython3",
   "version": "3.8.5"
  }
 },
 "nbformat": 4,
 "nbformat_minor": 4
}
