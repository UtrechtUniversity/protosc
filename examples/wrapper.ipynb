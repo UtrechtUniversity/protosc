{
 "cells": [
  {
   "cell_type": "code",
   "execution_count": 1,
   "metadata": {},
   "outputs": [],
   "source": [
    "from protosc import filter_model\n",
    "from protosc.simulation import create_simulation_data, create_correlated_data, compare_results\n",
    "from protosc.filter_model import train_xvalidate, select_features\n",
    "from protosc.final_selection import final_selection\n",
    "from protosc.wrapper import wrapper, calc_accuracy\n",
    "from collections import defaultdict\n",
    "import numpy as np\n",
    "from sklearn.model_selection import train_test_split"
   ]
  },
  {
   "cell_type": "code",
   "execution_count": 2,
   "metadata": {},
   "outputs": [
    {
     "name": "stdout",
     "output_type": "stream",
     "text": [
      "features: [[ 1.35946304 -0.05495788 -1.25547915 ... -0.29250157  0.71268609\n",
      "  -1.15811878]\n",
      " [ 1.16041638  0.11066386  0.96355358 ... -0.74329004  0.1515906\n",
      "  -0.07321478]\n",
      " [ 0.30436521  0.61188844 -0.84293664 ... -0.04545197  1.07970547\n",
      "  -1.35302247]\n",
      " [-0.44400432 -0.55848696  0.62296112 ...  0.09136625 -0.86405888\n",
      "  -1.28561021]\n",
      " [-1.91110816 -2.27302481 -1.0157041  ... -0.01774011  0.13587279\n",
      "  -0.88981648]]\n",
      "categories: [0 0 0 1 1]\n"
     ]
    }
   ],
   "source": [
    "# Create data: features (X) and categories (y)\n",
    "np.random.seed(1928374)\n",
    "X, y, ground_truth = create_correlated_data()\n",
    "print(f'features: {X[:5]}')\n",
    "print(f'categories: {y[:5]}')"
   ]
  },
  {
   "cell_type": "code",
   "execution_count": 3,
   "metadata": {},
   "outputs": [
    {
     "name": "stdout",
     "output_type": "stream",
     "text": [
      "Clusters (n=200): [[485, 862, 788, 497, 473], [175, 81, 486, 344, 591], [635, 769, 682, 693, 863], [451, 251, 468, 176, 766], [597, 684, 12, 984, 950], [367, 983, 0, 215, 702], [191, 495, 60, 455, 261], [496, 955, 193, 903, 934], [479, 567, 107, 834, 511], [302, 124, 732, 899, 867]]\n",
      "Selected features (n=20): [485, 862, 788, 497, 473, 175, 81, 486, 344, 591, 635, 769, 682, 693, 863, 451, 251, 468, 176, 766]\n"
     ]
    }
   ],
   "source": [
    "# Create clusters of correlating features, and select n features from these clusters for filter model\n",
    "selected_clusters, clusters = select_features(X, y, chisq_threshold=0.25)\n",
    "print(f'Clusters (n={len(clusters)}): {clusters[:10]}')\n",
    "print(f'Selected features (n={len(selected_clusters)}): {selected_clusters}')"
   ]
  },
  {
   "cell_type": "code",
   "execution_count": 4,
   "metadata": {},
   "outputs": [],
   "source": [
    "# Split data into training and test data\n",
    "X_train, X_test, y_train, y_test = train_test_split(X, y, test_size=0.2)"
   ]
  },
  {
   "cell_type": "markdown",
   "metadata": {},
   "source": [
    "Options for wrapper():\n",
    "* X: np.array, features\n",
    "* y: np.array, categories (1/0)\n",
    "* clusters: np.array, clusters of correlating features\n",
    "* decrease: boolean, if True clusters are ranked from high to low chi-square scores, if False from low to high\n",
    "* add_im: boolean, if True clusters are immediately added to model if they increase the accuracy, if False it only adds the cluster with the highest accuracy increase\n",
    "* search_space: float, percentage of clusters that will be used to select clusters from\n",
    "* stop: int, max number of rounds where no clusters can be added, after which looping will stop\n",
    "* n_fold: int, number of folds (used for calculating accuracy)"
   ]
  },
  {
   "cell_type": "markdown",
   "metadata": {},
   "source": [
    "### 'Slow' method\n",
    "Select clusters that increase accuracy, but per loop only add the cluster with *highest* impact.\n",
    "* decrease: True\n",
    "* add_im: False\n",
    "* search_space: 0.15\n",
    "* stop: 4\n",
    "* n_fold: 3"
   ]
  },
  {
   "cell_type": "code",
   "execution_count": 5,
   "metadata": {},
   "outputs": [
    {
     "name": "stdout",
     "output_type": "stream",
     "text": [
      "selected clusters: [0]\n",
      "added cluster 1, new accuracy = 0.6851851851851852\n",
      "selected clusters: [0, 1]\n",
      "added cluster 6, new accuracy = 0.7345679012345679\n",
      "selected clusters: [0, 1, 6]\n",
      "selected clusters: [0, 1, 6]\n",
      "selected clusters: [0, 1, 6]\n",
      "selected clusters: [0, 1, 6]\n",
      "added cluster 17, new accuracy = 0.7530864197530864\n",
      "selected clusters: [0, 1, 6, 17]\n",
      "selected clusters: [0, 1, 6, 17]\n",
      "added cluster 19, new accuracy = 0.7592592592592593\n",
      "selected clusters: [0, 1, 6, 17, 19]\n",
      "selected clusters: [0, 1, 6, 17, 19]\n",
      "selected clusters: [0, 1, 6, 17, 19]\n",
      "selected clusters: [0, 1, 6, 17, 19]\n",
      "No features were added in 4 rounds. Stop searching.\n"
     ]
    }
   ],
   "source": [
    "model, selected, final_accuracy = wrapper(X, y, clusters, decrease=True, add_im=False, search_space=0.15, stop=4, n_fold=3)"
   ]
  },
  {
   "cell_type": "code",
   "execution_count": 6,
   "metadata": {
    "scrolled": true
   },
   "outputs": [
    {
     "name": "stdout",
     "output_type": "stream",
     "text": [
      "Selected clusters = [0, 1, 6, 17, 19]\n",
      "Selected features = [485 862 788 497 473 175  81 486 344 591 191 495  60 455 261 895 555  19\n",
      " 768 860 811  84 722 117  28 424 381 563 465 203 216  80 293 379 836 663\n",
      " 106  27 371 528  38 587 324 521 407]\n",
      "Final accuracy = 0.7592592592592593\n",
      "Percentage of features correct: 0.3333333333333333\n",
      "Percentage of features found: 0.3\n",
      "Percentage of bias found: 0.36296296296296293\n"
     ]
    }
   ],
   "source": [
    "print(f'Selected clusters = {selected}')\n",
    "print(f'Selected features = {model}')\n",
    "print(f'Final accuracy = {final_accuracy}')\n",
    "compare_results(model, ground_truth)"
   ]
  },
  {
   "cell_type": "markdown",
   "metadata": {},
   "source": [
    "### 'Fast' method\n",
    "Select clusters that increase accuracy; when one cluster increases accuracy, immediately add it to model and continue with this new model\n",
    "* decrease: True\n",
    "* add_im: True\n",
    "* search_space: 0.15\n",
    "* stop: 4\n",
    "* n_fold: 3"
   ]
  },
  {
   "cell_type": "code",
   "execution_count": 7,
   "metadata": {},
   "outputs": [
    {
     "name": "stdout",
     "output_type": "stream",
     "text": [
      "selected clusters: [0]\n",
      "added cluster 1, new accuracy = 0.6666666666666666\n",
      "selected clusters: [0, 1]\n",
      "added cluster 2, new accuracy = 0.6975308641975309\n",
      "selected clusters: [0, 1, 2]\n",
      "added cluster 4, new accuracy = 0.7160493827160493\n",
      "selected clusters: [0, 1, 2, 4]\n",
      "added cluster 9, new accuracy = 0.7283950617283951\n",
      "selected clusters: [0, 1, 2, 4, 9]\n",
      "added cluster 11, new accuracy = 0.7345679012345679\n",
      "selected clusters: [0, 1, 2, 4, 9, 11]\n",
      "added cluster 13, new accuracy = 0.7469135802469136\n",
      "selected clusters: [0, 1, 2, 4, 9, 11, 13]\n",
      "added cluster 29, new accuracy = 0.7716049382716049\n",
      "selected clusters: [0, 1, 2, 4, 9, 11, 13, 29]\n",
      "selected clusters: [0, 1, 2, 4, 9, 11, 13, 29]\n",
      "added cluster 7, new accuracy = 0.7777777777777778\n",
      "selected clusters: [0, 1, 2, 4, 9, 11, 13, 29, 7]\n",
      "selected clusters: [0, 1, 2, 4, 9, 11, 13, 29, 7]\n",
      "selected clusters: [0, 1, 2, 4, 9, 11, 13, 29, 7]\n",
      "selected clusters: [0, 1, 2, 4, 9, 11, 13, 29, 7]\n",
      "selected clusters: [0, 1, 2, 4, 9, 11, 13, 29, 7]\n",
      "No features were added in 4 rounds. Stop searching.\n"
     ]
    }
   ],
   "source": [
    "model_f, selected_f, final_accuracy_f = wrapper(X, y, clusters, decrease=True, add_im=True, search_space=0.15, stop=4, n_fold=3)"
   ]
  },
  {
   "cell_type": "code",
   "execution_count": 8,
   "metadata": {},
   "outputs": [
    {
     "name": "stdout",
     "output_type": "stream",
     "text": [
      "Selected clusters = [0, 1, 2, 4, 9, 11, 13, 29, 7]\n",
      "Selected features = [485 862 788 497 473 175  81 486 344 591 635 769 682 693 863 597 684  12\n",
      " 984 950 302 124 732 899 867 216  80 293 379 836  38 587 324 521 407 830\n",
      " 915 631 842 432 496 955 193 903 934 367 983   0 215 702 191 495  60 455\n",
      " 261 479 567 107 834 511 424 381 563 465 203]\n",
      "Final accuracy = 0.7777777777777778\n"
     ]
    }
   ],
   "source": [
    "print(f'Selected clusters = {selected_f}')\n",
    "print(f'Selected features = {model_f}')\n",
    "print(f'Final accuracy = {final_accuracy_f}')"
   ]
  },
  {
   "cell_type": "code",
   "execution_count": 9,
   "metadata": {},
   "outputs": [
    {
     "name": "stdout",
     "output_type": "stream",
     "text": [
      "Percentage of features correct: 0.6923076923076923\n",
      "Percentage of features found: 0.9\n",
      "Percentage of bias found: 0.8814814814814815\n"
     ]
    }
   ],
   "source": [
    "compare_results(model_f, ground_truth)"
   ]
  },
  {
   "cell_type": "code",
   "execution_count": null,
   "metadata": {},
   "outputs": [],
   "source": []
  }
 ],
 "metadata": {
  "kernelspec": {
   "display_name": "Python 3",
   "language": "python",
   "name": "python3"
  },
  "language_info": {
   "codemirror_mode": {
    "name": "ipython",
    "version": 3
   },
   "file_extension": ".py",
   "mimetype": "text/x-python",
   "name": "python",
   "nbconvert_exporter": "python",
   "pygments_lexer": "ipython3",
   "version": "3.9.5"
  }
 },
 "nbformat": 4,
 "nbformat_minor": 4
}
