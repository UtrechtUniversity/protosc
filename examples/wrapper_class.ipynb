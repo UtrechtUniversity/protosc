{
 "cells": [
  {
   "cell_type": "code",
   "execution_count": 139,
   "metadata": {},
   "outputs": [],
   "source": [
    "from protosc import filter_model\n",
    "from protosc.simulation import create_simulation_data, create_correlated_data, slightly_correlated_data\n",
    "from protosc.filter_model import train_xvalidate, select_features\n",
    "from protosc.final_selection import final_selection\n",
    "from protosc.wrapper import Wrapper\n",
    "from collections import defaultdict\n",
    "import numpy as np\n",
    "from sklearn.model_selection import train_test_split\n",
    "import pandas as pd\n",
    "from protosc.parallel import execute_parallel"
   ]
  },
  {
   "cell_type": "code",
   "execution_count": 140,
   "metadata": {},
   "outputs": [
    {
     "name": "stdout",
     "output_type": "stream",
     "text": [
      "features: [[ 1.35946304 -0.05495788 -1.25547915 ... -0.29250157  0.71268609\n",
      "  -1.15811878]\n",
      " [ 1.16041638  0.11066386  0.96355358 ... -0.74329004  0.1515906\n",
      "  -0.07321478]\n",
      " [ 0.30436521  0.61188844 -0.84293664 ... -0.04545197  1.07970547\n",
      "  -1.35302247]\n",
      " [-0.44400432 -0.55848696  0.62296112 ...  0.09136625 -0.86405888\n",
      "  -1.28561021]\n",
      " [-1.91110816 -2.27302481 -1.0157041  ... -0.01774011  0.13587279\n",
      "  -0.88981648]]\n",
      "categories: [0 0 0 1 1]\n"
     ]
    }
   ],
   "source": [
    "# Create data: features (X) and categories (y)\n",
    "np.random.seed(1928374)\n",
    "X, y, ground_truth = create_correlated_data()\n",
    "print(f'features: {X[:5]}')\n",
    "print(f'categories: {y[:5]}')"
   ]
  },
  {
   "cell_type": "code",
   "execution_count": 141,
   "metadata": {},
   "outputs": [
    {
     "name": "stdout",
     "output_type": "stream",
     "text": [
      "Clusters (n=200): [[485, 862, 788, 497, 473], [175, 81, 486, 344, 591], [635, 769, 682, 693, 863], [451, 251, 468, 176, 766], [597, 684, 12, 984, 950], [367, 983, 0, 215, 702], [191, 495, 60, 455, 261], [496, 955, 193, 903, 934], [479, 567, 107, 834, 511], [302, 124, 732, 899, 867]]\n",
      "Selected features (n=20): [485, 862, 788, 497, 473, 175, 81, 486, 344, 591, 635, 769, 682, 693, 863, 451, 251, 468, 176, 766]\n"
     ]
    }
   ],
   "source": [
    "# Create clusters of correlating features, and select n features from these clusters for filter model\n",
    "selected_features, clusters = select_features(X, y, chisq_threshold=0.25)\n",
    "print(f'Clusters (n={len(clusters)}): {clusters[:10]}')\n",
    "print(f'Selected features (n={len(selected_features)}): {selected_features}')"
   ]
  },
  {
   "cell_type": "code",
   "execution_count": 142,
   "metadata": {},
   "outputs": [
    {
     "name": "stdout",
     "output_type": "stream",
     "text": [
      "-- Round 1 of 2 --\n",
      "\n",
      "                    added cluster 0, new accuracy = 0.66\n",
      "\n",
      "                    added cluster 10, new accuracy = 0.7\n",
      "\n",
      "                    added cluster 22, new accuracy = 0.76\n",
      "\n",
      "                    nothing added\n",
      "\n",
      "                    nothing added\n",
      "\n",
      "                    nothing added\n",
      "\n",
      "                    nothing added\n",
      "\n",
      "                    No features were added in 4 rounds.\n",
      "                    Stop searching for new clusters.\n",
      "-- Round 2 of 2 --\n",
      "\n",
      "                    added cluster 2, new accuracy = 0.74\n",
      "\n",
      "                    added cluster 9, new accuracy = 0.78\n",
      "\n",
      "                    nothing added\n",
      "\n",
      "                    nothing added\n",
      "\n",
      "                    nothing added\n",
      "\n",
      "                    nothing added\n",
      "\n",
      "                    No features were added in 4 rounds.\n",
      "                    Stop searching for new clusters.\n"
     ]
    },
    {
     "data": {
      "text/html": [
       "<div>\n",
       "<style scoped>\n",
       "    .dataframe tbody tr th:only-of-type {\n",
       "        vertical-align: middle;\n",
       "    }\n",
       "\n",
       "    .dataframe tbody tr th {\n",
       "        vertical-align: top;\n",
       "    }\n",
       "\n",
       "    .dataframe thead th {\n",
       "        text-align: right;\n",
       "    }\n",
       "</style>\n",
       "<table border=\"1\" class=\"dataframe\">\n",
       "  <thead>\n",
       "    <tr style=\"text-align: right;\">\n",
       "      <th></th>\n",
       "      <th>Model</th>\n",
       "      <th>Features</th>\n",
       "      <th>Clusters</th>\n",
       "      <th>Accuracy</th>\n",
       "      <th>Recurring features</th>\n",
       "    </tr>\n",
       "  </thead>\n",
       "  <tbody>\n",
       "    <tr>\n",
       "      <th>0</th>\n",
       "      <td>[[485, 862, 788, 497, 473], [424, 381, 563, 46...</td>\n",
       "      <td>[485, 862, 788, 497, 473, 424, 381, 563, 465, ...</td>\n",
       "      <td>[0, 10, 22]</td>\n",
       "      <td>0.76</td>\n",
       "      <td>[]</td>\n",
       "    </tr>\n",
       "    <tr>\n",
       "      <th>1</th>\n",
       "      <td>[[635, 769, 682, 693, 863], [302, 124, 732, 89...</td>\n",
       "      <td>[635, 769, 682, 693, 863, 302, 124, 732, 899, ...</td>\n",
       "      <td>[2, 9]</td>\n",
       "      <td>0.78</td>\n",
       "      <td>[]</td>\n",
       "    </tr>\n",
       "  </tbody>\n",
       "</table>\n",
       "</div>"
      ],
      "text/plain": [
       "                                               Model  \\\n",
       "0  [[485, 862, 788, 497, 473], [424, 381, 563, 46...   \n",
       "1  [[635, 769, 682, 693, 863], [302, 124, 732, 89...   \n",
       "\n",
       "                                            Features     Clusters Accuracy  \\\n",
       "0  [485, 862, 788, 497, 473, 424, 381, 563, 465, ...  [0, 10, 22]     0.76   \n",
       "1  [635, 769, 682, 693, 863, 302, 124, 732, 899, ...       [2, 9]     0.78   \n",
       "\n",
       "  Recurring features  \n",
       "0                 []  \n",
       "1                 []  "
      ]
     },
     "execution_count": 142,
     "metadata": {},
     "output_type": "execute_result"
    }
   ],
   "source": [
    "# Fast method (add immediately = True)\n",
    "slow = Wrapper(X, y, clusters, n=2)\n",
    "out_slow = slow.wrapper()\n",
    "\n",
    "# Print outcome in dataframe\n",
    "df = pd.DataFrame([value for key, value in out_slow.items() if key != 'recurring']).T\n",
    "df = df.rename(columns={0: 'Model', 1: 'Features', 2: 'Clusters', 3: 'Accuracy'})\n",
    "try:\n",
    "    df['Recurring features'] = [np.array(clusters)[out_slow['recurring']]] * len(df)\n",
    "except KeyError:\n",
    "    pass\n",
    "df"
   ]
  },
  {
   "cell_type": "code",
   "execution_count": 143,
   "metadata": {},
   "outputs": [
    {
     "name": "stdout",
     "output_type": "stream",
     "text": [
      "\n",
      "                            added cluster 0, new accuracy = 0.58\n",
      "\n",
      "                            added cluster 1, new accuracy = 0.64\n",
      "\n",
      "                            added cluster 2, new accuracy = 0.76\n",
      "\n",
      "                            added cluster 7, new accuracy = 0.78\n",
      "\n",
      "                            added cluster 15, new accuracy = 0.8\n",
      "\n",
      "                            added cluster 9, new accuracy = 0.84\n",
      "\n",
      "                    nothing added\n",
      "\n",
      "                    nothing added\n",
      "\n",
      "                    nothing added\n",
      "\n",
      "                    nothing added\n",
      "\n",
      "                    No features were added in 4 rounds.\n",
      "                    Stop searching for new clusters.\n"
     ]
    },
    {
     "data": {
      "text/html": [
       "<div>\n",
       "<style scoped>\n",
       "    .dataframe tbody tr th:only-of-type {\n",
       "        vertical-align: middle;\n",
       "    }\n",
       "\n",
       "    .dataframe tbody tr th {\n",
       "        vertical-align: top;\n",
       "    }\n",
       "\n",
       "    .dataframe thead th {\n",
       "        text-align: right;\n",
       "    }\n",
       "</style>\n",
       "<table border=\"1\" class=\"dataframe\">\n",
       "  <thead>\n",
       "    <tr style=\"text-align: right;\">\n",
       "      <th></th>\n",
       "      <th>Model</th>\n",
       "      <th>Features</th>\n",
       "      <th>Clusters</th>\n",
       "      <th>Accuracy</th>\n",
       "    </tr>\n",
       "  </thead>\n",
       "  <tbody>\n",
       "    <tr>\n",
       "      <th>0</th>\n",
       "      <td>[[485, 862, 788, 497, 473], [175, 81, 486, 344...</td>\n",
       "      <td>[485, 862, 788, 497, 473, 175, 81, 486, 344, 5...</td>\n",
       "      <td>[0, 1, 2, 7, 15, 9]</td>\n",
       "      <td>0.84</td>\n",
       "    </tr>\n",
       "  </tbody>\n",
       "</table>\n",
       "</div>"
      ],
      "text/plain": [
       "                                               Model  \\\n",
       "0  [[485, 862, 788, 497, 473], [175, 81, 486, 344...   \n",
       "\n",
       "                                            Features             Clusters  \\\n",
       "0  [485, 862, 788, 497, 473, 175, 81, 486, 344, 5...  [0, 1, 2, 7, 15, 9]   \n",
       "\n",
       "  Accuracy  \n",
       "0     0.84  "
      ]
     },
     "execution_count": 143,
     "metadata": {},
     "output_type": "execute_result"
    }
   ],
   "source": [
    "# Fast method (add immediately = True)\n",
    "fast = Wrapper(X, y, clusters, add_im=True)\n",
    "out_fast = fast.wrapper()\n",
    "\n",
    "# Print outcome in dataframe\n",
    "df = pd.DataFrame([value for key, value in out_fast.items() if key != 'recurring']).T\n",
    "df = df.rename(columns={0: 'Model', 1: 'Features', 2: 'Clusters', 3: 'Accuracy'})\n",
    "try:\n",
    "    df['Recurring features'] = [np.array(clusters)[out_fast['recurring']]] * len(df)\n",
    "except KeyError:\n",
    "    pass\n",
    "df"
   ]
  },
  {
   "cell_type": "code",
   "execution_count": 145,
   "metadata": {
    "scrolled": false
   },
   "outputs": [
    {
     "name": "stdout",
     "output_type": "stream",
     "text": [
      "-- Round 1 of 2 --\n",
      "\n",
      "                            added cluster 0, new accuracy = 0.56\n",
      "\n",
      "                            added cluster 1, new accuracy = 0.66\n",
      "\n",
      "                            added cluster 2, new accuracy = 0.76\n",
      "\n",
      "                            added cluster 3, new accuracy = 0.8\n",
      "\n",
      "                            added cluster 17, new accuracy = 0.82\n",
      "\n",
      "                            added cluster 14, new accuracy = 0.84\n",
      "\n",
      "                            added cluster 25, new accuracy = 0.86\n",
      "\n",
      "                    nothing added\n",
      "\n",
      "                    nothing added\n",
      "\n",
      "                    nothing added\n",
      "\n",
      "                    nothing added\n",
      "\n",
      "                    No features were added in 4 rounds.\n",
      "                    Stop searching for new clusters.\n",
      "\n",
      "        Trying to increase accuracy by removing/replacing clusters...\n",
      "        \n",
      "\n",
      "                    Removal/replacement of clusters did not increase accuracy.\n",
      "                    \n",
      "-- Round 2 of 2 --\n",
      "\n",
      "                            added cluster 0, new accuracy = 0.6\n",
      "\n",
      "                            added cluster 1, new accuracy = 0.64\n",
      "\n",
      "                            added cluster 2, new accuracy = 0.76\n",
      "\n",
      "                            added cluster 7, new accuracy = 0.8\n",
      "\n",
      "                            added cluster 26, new accuracy = 0.86\n",
      "\n",
      "                    nothing added\n",
      "\n",
      "                    nothing added\n",
      "\n",
      "                    nothing added\n",
      "\n",
      "                    nothing added\n",
      "\n",
      "                    No features were added in 4 rounds.\n",
      "                    Stop searching for new clusters.\n",
      "\n",
      "        Trying to increase accuracy by removing/replacing clusters...\n",
      "        \n",
      "\n",
      "                    Removal/replacement of clusters did not increase accuracy.\n",
      "                    \n"
     ]
    }
   ],
   "source": [
    "# Fast method (add immediately = True) with exclusion (excl=True)\n",
    "fast_excl = Wrapper(X, y, clusters, excl=True, add_im=True, n=2)\n",
    "out_fast_excl = fast_excl.wrapper()\n",
    "\n",
    "# Print outcome in dataframe\n",
    "df = pd.DataFrame([value for key, value in out_fast_excl.items() if key != 'recurring']).T\n",
    "df = df.rename(columns={0: 'Model', 1: 'Features', 2: 'Clusters', 3: 'Accuracy'})\n",
    "try:\n",
    "    df['Recurring features'] = [np.array(clusters)[out_fast_excl['recurring']]] * len(df)\n",
    "except KeyError:\n",
    "    pass\n",
    "df"
   ]
  }
 ],
 "metadata": {
  "kernelspec": {
   "display_name": "protosc",
   "language": "python",
   "name": "protosc"
  },
  "language_info": {
   "codemirror_mode": {
    "name": "ipython",
    "version": 3
   },
   "file_extension": ".py",
   "mimetype": "text/x-python",
   "name": "python",
   "nbconvert_exporter": "python",
   "pygments_lexer": "ipython3",
   "version": "3.8.8"
  }
 },
 "nbformat": 4,
 "nbformat_minor": 4
}
