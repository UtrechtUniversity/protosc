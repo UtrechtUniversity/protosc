{
 "cells": [
  {
   "cell_type": "code",
   "execution_count": 1,
   "metadata": {},
   "outputs": [],
   "source": [
    "from protosc import filter_model\n",
    "from protosc.simulation import create_simulation_data, create_correlated_data, slightly_correlated_data\n",
    "from protosc.filter_model import train_xvalidate, select_features\n",
    "from protosc.final_selection import final_selection\n",
    "from protosc.wrapper import Wrapper\n",
    "from collections import defaultdict\n",
    "import numpy as np\n",
    "from sklearn.model_selection import train_test_split\n",
    "import pandas as pd\n",
    "from protosc.parallel import execute_parallel"
   ]
  },
  {
   "cell_type": "code",
   "execution_count": 2,
   "metadata": {},
   "outputs": [
    {
     "name": "stdout",
     "output_type": "stream",
     "text": [
      "features: [[ 1.35946304 -0.05495788 -1.25547915 ... -0.29250157  0.71268609\n",
      "  -1.15811878]\n",
      " [ 1.16041638  0.11066386  0.96355358 ... -0.74329004  0.1515906\n",
      "  -0.07321478]\n",
      " [ 0.30436521  0.61188844 -0.84293664 ... -0.04545197  1.07970547\n",
      "  -1.35302247]\n",
      " [-0.44400432 -0.55848696  0.62296112 ...  0.09136625 -0.86405888\n",
      "  -1.28561021]\n",
      " [-1.91110816 -2.27302481 -1.0157041  ... -0.01774011  0.13587279\n",
      "  -0.88981648]]\n",
      "categories: [0 0 0 1 1]\n"
     ]
    }
   ],
   "source": [
    "# Create data: features (X) and categories (y)\n",
    "np.random.seed(1928374)\n",
    "X, y, ground_truth = create_correlated_data()\n",
    "print(f'features: {X[:5]}')\n",
    "print(f'categories: {y[:5]}')"
   ]
  },
  {
   "cell_type": "code",
   "execution_count": 3,
   "metadata": {},
   "outputs": [
    {
     "name": "stdout",
     "output_type": "stream",
     "text": [
      "Clusters (n=200): [[485, 862, 788, 497, 473], [175, 81, 486, 344, 591], [635, 769, 682, 693, 863], [451, 251, 468, 176, 766], [597, 684, 12, 984, 950], [367, 983, 0, 215, 702], [191, 495, 60, 455, 261], [496, 955, 193, 903, 934], [479, 567, 107, 834, 511], [302, 124, 732, 899, 867]]\n",
      "Selected features (n=20): [485, 862, 788, 497, 473, 175, 81, 486, 344, 591, 635, 769, 682, 693, 863, 451, 251, 468, 176, 766]\n"
     ]
    }
   ],
   "source": [
    "# Create clusters of correlating features, and select n features from these clusters for filter model\n",
    "selected_features, clusters = select_features(X, y, chisq_threshold=0.25)\n",
    "print(f'Clusters (n={len(clusters)}): {clusters[:10]}')\n",
    "print(f'Selected features (n={len(selected_features)}): {selected_features}')"
   ]
  },
  {
   "cell_type": "code",
   "execution_count": 4,
   "metadata": {},
   "outputs": [
    {
     "name": "stderr",
     "output_type": "stream",
     "text": [
      "100%|████████████████████████████████████████████████████████████████████████████████████| 4/4 [00:52<00:00, 13.22s/it]\n"
     ]
    },
    {
     "data": {
      "text/html": [
       "<div>\n",
       "<style scoped>\n",
       "    .dataframe tbody tr th:only-of-type {\n",
       "        vertical-align: middle;\n",
       "    }\n",
       "\n",
       "    .dataframe tbody tr th {\n",
       "        vertical-align: top;\n",
       "    }\n",
       "\n",
       "    .dataframe thead th {\n",
       "        text-align: right;\n",
       "    }\n",
       "</style>\n",
       "<table border=\"1\" class=\"dataframe\">\n",
       "  <thead>\n",
       "    <tr style=\"text-align: right;\">\n",
       "      <th></th>\n",
       "      <th>Model</th>\n",
       "      <th>Features</th>\n",
       "      <th>Clusters</th>\n",
       "      <th>Accuracy</th>\n",
       "      <th>Recurring clusters</th>\n",
       "    </tr>\n",
       "  </thead>\n",
       "  <tbody>\n",
       "    <tr>\n",
       "      <th>0</th>\n",
       "      <td>[[635, 769, 682, 693, 863], [663, 106, 27, 371...</td>\n",
       "      <td>[635, 769, 682, 693, 863, 663, 106, 27, 371, 5...</td>\n",
       "      <td>[2, 12, 3]</td>\n",
       "      <td>0.8</td>\n",
       "      <td>[]</td>\n",
       "    </tr>\n",
       "    <tr>\n",
       "      <th>1</th>\n",
       "      <td>[[485, 862, 788, 497, 473], [424, 381, 563, 46...</td>\n",
       "      <td>[485, 862, 788, 497, 473, 424, 381, 563, 465, ...</td>\n",
       "      <td>[0, 10, 22]</td>\n",
       "      <td>0.72</td>\n",
       "      <td>[]</td>\n",
       "    </tr>\n",
       "    <tr>\n",
       "      <th>2</th>\n",
       "      <td>[[302, 124, 732, 899, 867], [773, 452, 612, 27...</td>\n",
       "      <td>[302, 124, 732, 899, 867, 773, 452, 612, 279, ...</td>\n",
       "      <td>[9, 22, 23]</td>\n",
       "      <td>0.76</td>\n",
       "      <td>[]</td>\n",
       "    </tr>\n",
       "    <tr>\n",
       "      <th>3</th>\n",
       "      <td>[[635, 769, 682, 693, 863], [175, 81, 486, 344...</td>\n",
       "      <td>[635, 769, 682, 693, 863, 175, 81, 486, 344, 5...</td>\n",
       "      <td>[2, 1, 10, 8]</td>\n",
       "      <td>0.78</td>\n",
       "      <td>[]</td>\n",
       "    </tr>\n",
       "  </tbody>\n",
       "</table>\n",
       "</div>"
      ],
      "text/plain": [
       "                                               Model  \\\n",
       "0  [[635, 769, 682, 693, 863], [663, 106, 27, 371...   \n",
       "1  [[485, 862, 788, 497, 473], [424, 381, 563, 46...   \n",
       "2  [[302, 124, 732, 899, 867], [773, 452, 612, 27...   \n",
       "3  [[635, 769, 682, 693, 863], [175, 81, 486, 344...   \n",
       "\n",
       "                                            Features       Clusters Accuracy  \\\n",
       "0  [635, 769, 682, 693, 863, 663, 106, 27, 371, 5...     [2, 12, 3]      0.8   \n",
       "1  [485, 862, 788, 497, 473, 424, 381, 563, 465, ...    [0, 10, 22]     0.72   \n",
       "2  [302, 124, 732, 899, 867, 773, 452, 612, 279, ...    [9, 22, 23]     0.76   \n",
       "3  [635, 769, 682, 693, 863, 175, 81, 486, 344, 5...  [2, 1, 10, 8]     0.78   \n",
       "\n",
       "  Recurring clusters  \n",
       "0                 []  \n",
       "1                 []  \n",
       "2                 []  \n",
       "3                 []  "
      ]
     },
     "execution_count": 4,
     "metadata": {},
     "output_type": "execute_result"
    }
   ],
   "source": [
    "# Slow method (add immediately = False)\n",
    "slow = Wrapper(X, y, clusters, fold_seed=123)\n",
    "out_slow = slow.wrapper(n_rounds=4, n_jobs=-1)\n",
    "\n",
    "# Print outcome in dataframe\n",
    "df = pd.DataFrame([value for key, value in out_slow.items() if key != 'recurring']).T\n",
    "df = df.rename(columns={0: 'Model', 1: 'Features', 2: 'Clusters', 3: 'Accuracy'})\n",
    "try:\n",
    "    df['Recurring clusters'] = [out_slow['recurring']] * len(df)\n",
    "except KeyError:\n",
    "    pass\n",
    "df"
   ]
  },
  {
   "cell_type": "code",
   "execution_count": 5,
   "metadata": {},
   "outputs": [
    {
     "name": "stderr",
     "output_type": "stream",
     "text": [
      "100%|████████████████████████████████████████████████████████████████████████████████████| 4/4 [00:50<00:00, 12.74s/it]\n"
     ]
    },
    {
     "data": {
      "text/html": [
       "<div>\n",
       "<style scoped>\n",
       "    .dataframe tbody tr th:only-of-type {\n",
       "        vertical-align: middle;\n",
       "    }\n",
       "\n",
       "    .dataframe tbody tr th {\n",
       "        vertical-align: top;\n",
       "    }\n",
       "\n",
       "    .dataframe thead th {\n",
       "        text-align: right;\n",
       "    }\n",
       "</style>\n",
       "<table border=\"1\" class=\"dataframe\">\n",
       "  <thead>\n",
       "    <tr style=\"text-align: right;\">\n",
       "      <th></th>\n",
       "      <th>Model</th>\n",
       "      <th>Features</th>\n",
       "      <th>Clusters</th>\n",
       "      <th>Accuracy</th>\n",
       "      <th>Recurring clusters</th>\n",
       "    </tr>\n",
       "  </thead>\n",
       "  <tbody>\n",
       "    <tr>\n",
       "      <th>0</th>\n",
       "      <td>[[485, 862, 788, 497, 473], [635, 769, 682, 69...</td>\n",
       "      <td>[485, 862, 788, 497, 473, 635, 769, 682, 693, ...</td>\n",
       "      <td>[0, 2, 3, 7, 9, 13, 30]</td>\n",
       "      <td>0.86</td>\n",
       "      <td>[0, 2]</td>\n",
       "    </tr>\n",
       "    <tr>\n",
       "      <th>1</th>\n",
       "      <td>[[485, 862, 788, 497, 473], [175, 81, 486, 344...</td>\n",
       "      <td>[485, 862, 788, 497, 473, 175, 81, 486, 344, 5...</td>\n",
       "      <td>[0, 1, 2, 7, 15]</td>\n",
       "      <td>0.8</td>\n",
       "      <td>[0, 2]</td>\n",
       "    </tr>\n",
       "    <tr>\n",
       "      <th>2</th>\n",
       "      <td>[[485, 862, 788, 497, 473], [175, 81, 486, 344...</td>\n",
       "      <td>[485, 862, 788, 497, 473, 175, 81, 486, 344, 5...</td>\n",
       "      <td>[0, 1, 2, 7, 16]</td>\n",
       "      <td>0.8</td>\n",
       "      <td>[0, 2]</td>\n",
       "    </tr>\n",
       "    <tr>\n",
       "      <th>3</th>\n",
       "      <td>[[485, 862, 788, 497, 473], [175, 81, 486, 344...</td>\n",
       "      <td>[485, 862, 788, 497, 473, 175, 81, 486, 344, 5...</td>\n",
       "      <td>[0, 1, 2, 12]</td>\n",
       "      <td>0.76</td>\n",
       "      <td>[0, 2]</td>\n",
       "    </tr>\n",
       "  </tbody>\n",
       "</table>\n",
       "</div>"
      ],
      "text/plain": [
       "                                               Model  \\\n",
       "0  [[485, 862, 788, 497, 473], [635, 769, 682, 69...   \n",
       "1  [[485, 862, 788, 497, 473], [175, 81, 486, 344...   \n",
       "2  [[485, 862, 788, 497, 473], [175, 81, 486, 344...   \n",
       "3  [[485, 862, 788, 497, 473], [175, 81, 486, 344...   \n",
       "\n",
       "                                            Features                 Clusters  \\\n",
       "0  [485, 862, 788, 497, 473, 635, 769, 682, 693, ...  [0, 2, 3, 7, 9, 13, 30]   \n",
       "1  [485, 862, 788, 497, 473, 175, 81, 486, 344, 5...         [0, 1, 2, 7, 15]   \n",
       "2  [485, 862, 788, 497, 473, 175, 81, 486, 344, 5...         [0, 1, 2, 7, 16]   \n",
       "3  [485, 862, 788, 497, 473, 175, 81, 486, 344, 5...            [0, 1, 2, 12]   \n",
       "\n",
       "  Accuracy Recurring clusters  \n",
       "0     0.86             [0, 2]  \n",
       "1      0.8             [0, 2]  \n",
       "2      0.8             [0, 2]  \n",
       "3     0.76             [0, 2]  "
      ]
     },
     "execution_count": 5,
     "metadata": {},
     "output_type": "execute_result"
    }
   ],
   "source": [
    "# Fast method (add immediately = True)\n",
    "fast = Wrapper(X, y, clusters, add_im=True, fold_seed=123)\n",
    "out_fast = fast.wrapper(n_rounds=4, n_jobs=-1)\n",
    "\n",
    "# Print outcome in dataframe\n",
    "df = pd.DataFrame([value for key, value in out_fast.items() if key != 'recurring']).T\n",
    "df = df.rename(columns={0: 'Model', 1: 'Features', 2: 'Clusters', 3: 'Accuracy'})\n",
    "try:\n",
    "    df['Recurring clusters'] = [out_fast['recurring']] * len(df)\n",
    "except KeyError:\n",
    "    pass\n",
    "df"
   ]
  },
  {
   "cell_type": "code",
   "execution_count": 6,
   "metadata": {
    "scrolled": false
   },
   "outputs": [
    {
     "name": "stderr",
     "output_type": "stream",
     "text": [
      "100%|████████████████████████████████████████████████████████████████████████████████████| 4/4 [02:35<00:00, 38.82s/it]\n"
     ]
    },
    {
     "data": {
      "text/html": [
       "<div>\n",
       "<style scoped>\n",
       "    .dataframe tbody tr th:only-of-type {\n",
       "        vertical-align: middle;\n",
       "    }\n",
       "\n",
       "    .dataframe tbody tr th {\n",
       "        vertical-align: top;\n",
       "    }\n",
       "\n",
       "    .dataframe thead th {\n",
       "        text-align: right;\n",
       "    }\n",
       "</style>\n",
       "<table border=\"1\" class=\"dataframe\">\n",
       "  <thead>\n",
       "    <tr style=\"text-align: right;\">\n",
       "      <th></th>\n",
       "      <th>Model</th>\n",
       "      <th>Features</th>\n",
       "      <th>Clusters</th>\n",
       "      <th>Accuracy</th>\n",
       "      <th>Recurring clusters</th>\n",
       "    </tr>\n",
       "  </thead>\n",
       "  <tbody>\n",
       "    <tr>\n",
       "      <th>0</th>\n",
       "      <td>[[485, 862, 788, 497, 473], [635, 769, 682, 69...</td>\n",
       "      <td>[485, 862, 788, 497, 473, 635, 769, 682, 693, ...</td>\n",
       "      <td>[0, 2, 8, 7, 9, 13, 30]</td>\n",
       "      <td>0.82</td>\n",
       "      <td>[0, 2]</td>\n",
       "    </tr>\n",
       "    <tr>\n",
       "      <th>1</th>\n",
       "      <td>[[485, 862, 788, 497, 473], [175, 81, 486, 344...</td>\n",
       "      <td>[485, 862, 788, 497, 473, 175, 81, 486, 344, 5...</td>\n",
       "      <td>[0, 1, 2, 7, 15]</td>\n",
       "      <td>0.8</td>\n",
       "      <td>[0, 2]</td>\n",
       "    </tr>\n",
       "    <tr>\n",
       "      <th>2</th>\n",
       "      <td>[[485, 862, 788, 497, 473], [175, 81, 486, 344...</td>\n",
       "      <td>[485, 862, 788, 497, 473, 175, 81, 486, 344, 5...</td>\n",
       "      <td>[0, 1, 2, 7, 16]</td>\n",
       "      <td>0.8</td>\n",
       "      <td>[0, 2]</td>\n",
       "    </tr>\n",
       "    <tr>\n",
       "      <th>3</th>\n",
       "      <td>[[485, 862, 788, 497, 473], [175, 81, 486, 344...</td>\n",
       "      <td>[485, 862, 788, 497, 473, 175, 81, 486, 344, 5...</td>\n",
       "      <td>[0, 1, 2, 12]</td>\n",
       "      <td>0.76</td>\n",
       "      <td>[0, 2]</td>\n",
       "    </tr>\n",
       "  </tbody>\n",
       "</table>\n",
       "</div>"
      ],
      "text/plain": [
       "                                               Model  \\\n",
       "0  [[485, 862, 788, 497, 473], [635, 769, 682, 69...   \n",
       "1  [[485, 862, 788, 497, 473], [175, 81, 486, 344...   \n",
       "2  [[485, 862, 788, 497, 473], [175, 81, 486, 344...   \n",
       "3  [[485, 862, 788, 497, 473], [175, 81, 486, 344...   \n",
       "\n",
       "                                            Features                 Clusters  \\\n",
       "0  [485, 862, 788, 497, 473, 635, 769, 682, 693, ...  [0, 2, 8, 7, 9, 13, 30]   \n",
       "1  [485, 862, 788, 497, 473, 175, 81, 486, 344, 5...         [0, 1, 2, 7, 15]   \n",
       "2  [485, 862, 788, 497, 473, 175, 81, 486, 344, 5...         [0, 1, 2, 7, 16]   \n",
       "3  [485, 862, 788, 497, 473, 175, 81, 486, 344, 5...            [0, 1, 2, 12]   \n",
       "\n",
       "  Accuracy Recurring clusters  \n",
       "0     0.82             [0, 2]  \n",
       "1      0.8             [0, 2]  \n",
       "2      0.8             [0, 2]  \n",
       "3     0.76             [0, 2]  "
      ]
     },
     "execution_count": 6,
     "metadata": {},
     "output_type": "execute_result"
    }
   ],
   "source": [
    "# Fast method (add immediately = True) with exclusion (excl=True)\n",
    "fast_excl = Wrapper(X, y, clusters, add_im=True, excl=True, fold_seed=123)\n",
    "out_fast_excl = fast_excl.wrapper(n_rounds=4, n_jobs=-1)\n",
    "\n",
    "# Print outcome in dataframe\n",
    "df = pd.DataFrame([value for key, value in out_fast_excl.items() if key != 'recurring']).T\n",
    "df = df.rename(columns={0: 'Model', 1: 'Features', 2: 'Clusters', 3: 'Accuracy'})\n",
    "try:\n",
    "    df['Recurring clusters'] = [out_fast_excl['recurring']] * len(df)\n",
    "except KeyError:\n",
    "    pass\n",
    "df"
   ]
  }
 ],
 "metadata": {
  "kernelspec": {
   "display_name": "protosc",
   "language": "python",
   "name": "protosc"
  },
  "language_info": {
   "codemirror_mode": {
    "name": "ipython",
    "version": 3
   },
   "file_extension": ".py",
   "mimetype": "text/x-python",
   "name": "python",
   "nbconvert_exporter": "python",
   "pygments_lexer": "ipython3",
   "version": "3.8.8"
  }
 },
 "nbformat": 4,
 "nbformat_minor": 4
}
