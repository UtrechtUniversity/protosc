{
 "cells": [
  {
   "cell_type": "code",
   "execution_count": 1,
   "metadata": {},
   "outputs": [],
   "source": [
    "from protosc import filter_model\n",
    "from protosc import create_simulation_data\n",
    "from sklearn.model_selection import train_test_split\n"
   ]
  },
  {
   "cell_type": "code",
   "execution_count": 2,
   "metadata": {},
   "outputs": [],
   "source": [
    "X, y, selected_features, biases = create_simulation_data()"
   ]
  },
  {
   "cell_type": "code",
   "execution_count": 3,
   "metadata": {},
   "outputs": [
    {
     "name": "stdout",
     "output_type": "stream",
     "text": [
      "0.5396825396825397 0.5 63 432\n",
      "0.5396825396825397 0.5 63 432\n",
      "0.5238095238095238 0.5 63 434\n",
      "0.5238095238095238 0.5 63 434\n",
      "0.5645161290322581 0.5 62 430\n",
      "0.45161290322580644 0.5 62 432\n",
      "0.4032258064516129 0.5 62 426\n",
      "0.45161290322580644 0.5 62 432\n",
      "7 feature(s) used for the filter selection\n",
      "7 feature(s) used for the filter selection\n",
      "7 feature(s) used for the filter selection\n",
      "6 feature(s) used for the filter selection\n",
      "7 feature(s) used for the filter selection\n",
      "7 feature(s) used for the filter selection\n",
      "6 feature(s) used for the filter selection\n",
      "7 feature(s) used for the filter selection\n",
      "{'Accuracy': [0.7, 0.78, 0.7, 0.73, 0.76, 0.68, 0.63, 0.74], 'Precision': [0.73, 0.83, 0.73, 0.74, 0.78, 0.62, 0.53, 0.73], 'Recall': [0.71, 0.74, 0.67, 0.76, 0.8, 0.71, 0.76, 0.68], 'F1_score': [0.72, 0.78, 0.7, 0.75, 0.79, 0.67, 0.62, 0.7]}\n",
      "{'Accuracy': [0.7, 0.7, 0.71, 0.67, 0.77, 0.79, 0.61, 0.76], 'Precision': [0.74, 0.73, 0.71, 0.73, 0.82, 0.73, 0.52, 0.72], 'Recall': [0.68, 0.71, 0.76, 0.58, 0.77, 0.86, 0.6, 0.75], 'F1_score': [0.71, 0.72, 0.74, 0.64, 0.79, 0.79, 0.56, 0.74]}\n"
     ]
    }
   ],
   "source": [
    "filter_model(X, y)"
   ]
  },
  {
   "cell_type": "code",
   "execution_count": 4,
   "metadata": {},
   "outputs": [
    {
     "data": {
      "text/plain": [
       "25"
      ]
     },
     "execution_count": 4,
     "metadata": {},
     "output_type": "execute_result"
    }
   ],
   "source": [
    "len(selected_features)"
   ]
  },
  {
   "cell_type": "code",
   "execution_count": null,
   "metadata": {},
   "outputs": [],
   "source": []
  }
 ],
 "metadata": {
  "kernelspec": {
   "display_name": "Python 3",
   "language": "python",
   "name": "python3"
  },
  "language_info": {
   "codemirror_mode": {
    "name": "ipython",
    "version": 3
   },
   "file_extension": ".py",
   "mimetype": "text/x-python",
   "name": "python",
   "nbconvert_exporter": "python",
   "pygments_lexer": "ipython3",
   "version": "3.9.4"
  }
 },
 "nbformat": 4,
 "nbformat_minor": 4
}
