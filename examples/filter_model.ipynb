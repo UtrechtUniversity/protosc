{
 "cells": [
  {
   "cell_type": "code",
   "execution_count": 1,
   "metadata": {},
   "outputs": [],
   "source": [
    "from protosc import filter_model\n",
    "from protosc.simulation import create_simulation_data, create_correlated_data\n",
    "from protosc.filter_model import calc_chisquare\n",
    "from protosc.final_selection import final_selection\n",
    "from collections import defaultdict\n",
    "import numpy as np"
   ]
  },
  {
   "cell_type": "code",
   "execution_count": 2,
   "metadata": {},
   "outputs": [],
   "source": [
    "np.random.seed(1928374)\n",
    "X, y, truth = create_correlated_data()"
   ]
  },
  {
   "cell_type": "code",
   "execution_count": 3,
   "metadata": {},
   "outputs": [
    {
     "name": "stdout",
     "output_type": "stream",
     "text": [
      "Wall time: 821 ms\n"
     ]
    }
   ],
   "source": [
    "%%time\n",
    "np.random.seed(9835)\n",
    "feature_accuracy = filter_model(X, y, fold_seed=213874)"
   ]
  },
  {
   "cell_type": "code",
   "execution_count": 4,
   "metadata": {},
   "outputs": [
    {
     "name": "stdout",
     "output_type": "stream",
     "text": [
      "[9 9 9 9 9 6 6 6 6 6 8 8 8 8 8]\n",
      "[8 8 8 8 8 9 9 9 9 9 7 7 7 7 7]\n",
      "[8 8 8 8 8 6 6 6 6 6 7 7 7 7 7]\n",
      "[8 8 8 8 8 9 9 9 9 9 6 6 6 6 6]\n",
      "[8 8 8 8 8 9 9 9 9 9 6 6 6 6 6 7 7 7 7 7]\n",
      "[8 8 8 8 8 9 9 9 9 9 6 6 6 6 6]\n",
      "[8 8 8 8 8 9 9 9 9 9 6 6 6 6 6]\n",
      "[8 8 8 8 8 9 9 9 9 9 6 6 6 6 6]\n"
     ]
    }
   ],
   "source": [
    "for res in feature_accuracy:\n",
    "    print(truth[\"clusters\"][res[0]])"
   ]
  },
  {
   "cell_type": "code",
   "execution_count": 5,
   "metadata": {},
   "outputs": [],
   "source": [
    "null_accuracy = defaultdict(lambda: [])\n",
    "for _ in range(100):\n",
    "    res = filter_model(X, y, fold_seed=213874, null_distribution=True)\n",
    "    for i, val in enumerate(res):\n",
    "        null_accuracy[i].append(val[1])\n",
    "null_accuracy = list(null_accuracy.values())"
   ]
  },
  {
   "cell_type": "code",
   "execution_count": 6,
   "metadata": {},
   "outputs": [],
   "source": [
    "feature_selection = final_selection(feature_accuracy, null_accuracy)"
   ]
  },
  {
   "cell_type": "code",
   "execution_count": 10,
   "metadata": {},
   "outputs": [
    {
     "name": "stdout",
     "output_type": "stream",
     "text": [
      "set()\n"
     ]
    }
   ],
   "source": [
    "print(set(feature_selection)-set(truth[\"selected_features\"]))"
   ]
  },
  {
   "cell_type": "code",
   "execution_count": null,
   "metadata": {},
   "outputs": [],
   "source": []
  }
 ],
 "metadata": {
  "kernelspec": {
   "display_name": "Python 3",
   "language": "python",
   "name": "python3"
  },
  "language_info": {
   "codemirror_mode": {
    "name": "ipython",
    "version": 3
   },
   "file_extension": ".py",
   "mimetype": "text/x-python",
   "name": "python",
   "nbconvert_exporter": "python",
   "pygments_lexer": "ipython3",
   "version": "3.8.5"
  }
 },
 "nbformat": 4,
 "nbformat_minor": 4
}
