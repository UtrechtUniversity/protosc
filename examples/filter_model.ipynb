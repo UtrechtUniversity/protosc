{
 "cells": [
  {
   "cell_type": "code",
   "execution_count": 1,
   "metadata": {},
   "outputs": [],
   "source": [
    "import numpy as np\n",
    "\n",
    "from protosc.model import FilterModel\n",
    "from protosc.model.filter import select_with_filter\n",
    "from protosc.simulation import create_correlated_data\n",
    "from protosc.model.final_selection import final_selection"
   ]
  },
  {
   "cell_type": "code",
   "execution_count": 2,
   "metadata": {},
   "outputs": [],
   "source": [
    "np.random.seed(1928374)\n",
    "X, y, truth = create_correlated_data()"
   ]
  },
  {
   "cell_type": "code",
   "execution_count": 3,
   "metadata": {},
   "outputs": [
    {
     "name": "stdout",
     "output_type": "stream",
     "text": [
      "CPU times: user 26.4 s, sys: 14.4 s, total: 40.8 s\n",
      "Wall time: 22.6 s\n"
     ]
    }
   ],
   "source": [
    "%%time\n",
    "np.random.seed(9835)\n",
    "feature_accuracy = FilterModel().execute(X, y, fold_seed=213874)"
   ]
  },
  {
   "cell_type": "code",
   "execution_count": 4,
   "metadata": {},
   "outputs": [
    {
     "name": "stdout",
     "output_type": "stream",
     "text": [
      "[9 9 9 9 9 6 6 6 6 6 8 8 8 8 8 7 7 7 7 7]\n",
      "[8 8 8 8 8 9 9 9 9 9 7 7 7 7 7 6 6 6 6 6]\n",
      "[8 8 8 8 8 6 6 6 6 6 7 7 7 7 7 9 9 9 9 9]\n",
      "[8 8 8 8 8 9 9 9 9 9 6 6 6 6 6 7 7 7 7 7]\n",
      "[8 8 8 8 8 9 9 9 9 9 6 6 6 6 6 7 7 7 7 7]\n",
      "[8 8 8 8 8 9 9 9 9 9 6 6 6 6 6 7 7 7 7 7]\n",
      "[8 8 8 8 8 9 9 9 9 9 6 6 6 6 6 7 7 7 7 7]\n",
      "[8 8 8 8 8 9 9 9 9 9 6 6 6 6 6 7 7 7 7 7]\n"
     ]
    }
   ],
   "source": [
    "for res in feature_accuracy:\n",
    "    print(truth[\"clusters\"][res[\"features\"]])"
   ]
  },
  {
   "cell_type": "code",
   "execution_count": 5,
   "metadata": {},
   "outputs": [
    {
     "name": "stderr",
     "output_type": "stream",
     "text": [
      "100%|██████████| 101/101 [03:18<00:00,  1.97s/it]\n"
     ]
    }
   ],
   "source": [
    "feature_selection = select_with_filter(X, y, n_fold=8, n_jobs=-1)"
   ]
  },
  {
   "cell_type": "code",
   "execution_count": 6,
   "metadata": {},
   "outputs": [
    {
     "name": "stdout",
     "output_type": "stream",
     "text": [
      "set()\n"
     ]
    }
   ],
   "source": [
    "print(set(feature_selection)-set(truth[\"selected_features\"]))"
   ]
  },
  {
   "cell_type": "code",
   "execution_count": null,
   "metadata": {},
   "outputs": [],
   "source": []
  }
 ],
 "metadata": {
  "kernelspec": {
   "display_name": "Python 3",
   "language": "python",
   "name": "python3"
  },
  "language_info": {
   "codemirror_mode": {
    "name": "ipython",
    "version": 3
   },
   "file_extension": ".py",
   "mimetype": "text/x-python",
   "name": "python",
   "nbconvert_exporter": "python",
   "pygments_lexer": "ipython3",
   "version": "3.6.12"
  }
 },
 "nbformat": 4,
 "nbformat_minor": 4
}
