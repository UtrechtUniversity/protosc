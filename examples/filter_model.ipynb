{
 "cells": [
  {
   "cell_type": "code",
   "execution_count": 1,
   "metadata": {},
   "outputs": [],
   "source": [
    "from protosc import filter_model\n",
    "from protosc import create_simulation_data\n",
    "from protosc.final_selection import final_selection\n",
    "from collections import defaultdict\n",
    "import numpy as np"
   ]
  },
  {
   "cell_type": "code",
   "execution_count": 2,
   "metadata": {},
   "outputs": [],
   "source": [
    "np.random.seed(1928374)\n",
    "X, y, selected_features, biases = create_simulation_data()"
   ]
  },
  {
   "cell_type": "code",
   "execution_count": 3,
   "metadata": {},
<<<<<<< HEAD
   "outputs": [
    {
     "name": "stdout",
     "output_type": "stream",
     "text": [
      "[([161, 14, 45, 12, 101, 29, 395, 183, 32, 51], 0.746031746031746), ([14, 12, 161, 101, 45, 29, 183, 2, 32, 353], 0.7619047619047619), ([14, 101, 161, 12, 45, 29, 2, 156, 183, 51], 0.6984126984126984), ([12, 45, 14, 161, 101, 2, 29, 353, 395, 381], 0.6984126984126984), ([14, 12, 45, 161, 29, 101, 353, 183, 2, 127], 0.7580645161290323), ([161, 14, 45, 101, 12, 353, 29, 395, 183, 2], 0.6935483870967742), ([45, 161, 14, 101, 29, 2, 395, 12, 353, 156], 0.7258064516129032), ([45, 14, 101, 12, 161, 29, 32, 2, 395, 156], 0.7741935483870968)]\n"
     ]
    }
   ],
   "source": [
    "np.random.seed(9835)\n",
    "feature_accuracy = filter_model(X, y, fold_seed=213874)\n",
    "print(feature_accuracy)"
   ]
  },
  {
   "cell_type": "code",
   "execution_count": null,
   "metadata": {},
   "outputs": [],
   "source": [
=======
   "outputs": [],
   "source": [
    "np.random.seed(9835)\n",
    "feature_accuracy = filter_model(X, y, fold_seed=213874)\n",
>>>>>>> fbe53608ea138167fbced599d6b8b5b7d4b2bef5
    "null_accuracy = defaultdict(lambda: [])\n",
    "for _ in range(100):\n",
    "    res = filter_model(X, y, fold_seed=213874, null_distribution=True)\n",
    "    for i, val in enumerate(res):\n",
    "        null_accuracy[i].append(val[1])\n",
    "null_accuracy = list(null_accuracy.values())"
   ]
  },
  {
   "cell_type": "code",
<<<<<<< HEAD
   "execution_count": 4,
=======
   "execution_count": 6,
>>>>>>> fbe53608ea138167fbced599d6b8b5b7d4b2bef5
   "metadata": {},
   "outputs": [],
   "source": [
    "feature_selection = final_selection(feature_accuracy, null_accuracy)"
   ]
  },
  {
   "cell_type": "code",
<<<<<<< HEAD
   "execution_count": 5,
=======
   "execution_count": 11,
>>>>>>> fbe53608ea138167fbced599d6b8b5b7d4b2bef5
   "metadata": {},
   "outputs": [
    {
     "name": "stdout",
     "output_type": "stream",
     "text": [
      "set()\n"
     ]
    }
   ],
   "source": [
    "print(set(feature_selection)-set(selected_features))"
   ]
  }
 ],
 "metadata": {
  "kernelspec": {
   "display_name": "Python 3",
   "language": "python",
   "name": "python3"
  },
  "language_info": {
   "codemirror_mode": {
    "name": "ipython",
    "version": 3
   },
   "file_extension": ".py",
   "mimetype": "text/x-python",
   "name": "python",
   "nbconvert_exporter": "python",
   "pygments_lexer": "ipython3",
<<<<<<< HEAD
   "version": "3.8.5"
=======
   "version": "3.9.5"
>>>>>>> fbe53608ea138167fbced599d6b8b5b7d4b2bef5
  }
 },
 "nbformat": 4,
 "nbformat_minor": 4
}
