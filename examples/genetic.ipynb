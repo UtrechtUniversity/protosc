{
 "cells": [
  {
   "cell_type": "code",
   "execution_count": 35,
   "metadata": {},
   "outputs": [],
   "source": [
    "from protosc.simulation import create_simulation_data\n",
    "from protosc.genetic_algorithm import genetic_algorithm\n",
    "from protosc.filter_model import train_kfold_validate\n",
    "import numpy as np\n",
    "from matplotlib import pyplot as plt\n",
    "from scipy import stats"
   ]
  },
  {
   "cell_type": "code",
   "execution_count": 2,
   "metadata": {},
   "outputs": [
    {
     "data": {
      "text/plain": [
       "15.109575122340466"
      ]
     },
     "execution_count": 2,
     "metadata": {},
     "output_type": "execute_result"
    }
   ],
   "source": [
    "360*np.arctan(0.27)/(2*np.pi)"
   ]
  },
  {
   "cell_type": "code",
   "execution_count": 3,
   "metadata": {},
   "outputs": [
    {
     "data": {
      "text/plain": [
       "1.215"
      ]
     },
     "execution_count": 3,
     "metadata": {},
     "output_type": "execute_result"
    }
   ],
   "source": [
    "0.27*4.5"
   ]
  },
  {
   "cell_type": "code",
   "execution_count": 4,
   "metadata": {},
   "outputs": [],
   "source": [
    "X, y, truth = create_simulation_data(n_features=50, n_true_features=10)"
   ]
  },
  {
   "cell_type": "code",
   "execution_count": 25,
   "metadata": {},
   "outputs": [
    {
     "name": "stdout",
     "output_type": "stream",
     "text": [
      "{'selected_features': array([31, 32, 23, 35, 36, 30, 11, 12, 49,  0]), 'biases': array([ 0.25      , -0.27777778,  0.30555556, -0.33333333,  0.36111111,\n",
      "       -0.38888889,  0.41666667, -0.44444444,  0.47222222, -0.5       ])}\n"
     ]
    },
    {
     "data": {
      "text/plain": [
       "array([2, 3, 4])"
      ]
     },
     "execution_count": 25,
     "metadata": {},
     "output_type": "execute_result"
    }
   ],
   "source": [
    "print(truth)"
   ]
  },
  {
   "cell_type": "code",
   "execution_count": 6,
   "metadata": {},
   "outputs": [],
   "source": [
    "acc_max = [train_kfold_validate(X, y, truth[\"selected_features\"]) for _ in range(10)]\n",
    "acc_all = [train_kfold_validate(X, y, np.arange(X.shape[1])) for _ in range(10)]"
   ]
  },
  {
   "cell_type": "code",
   "execution_count": 23,
   "metadata": {},
   "outputs": [
    {
     "name": "stdout",
     "output_type": "stream",
     "text": [
      "2 0.6045625380714021 0.6715281832010263 0.5351766513056835 0.03030799214441704\n",
      "3 0.630554416340217 0.6791742377659097 0.5699777199533874 0.025476489766494005\n",
      "4 0.646225709797751 0.6859710553709321 0.5983248655050355 0.020752241446604768\n",
      "5 0.6595916183613264 0.7064132680203676 0.601437134255453 0.023029630141762764\n",
      "6 0.6718413029948159 0.7143896297818833 0.5949168129069107 0.02105136127610087\n",
      "7 0.6889732134940594 0.7311241700578281 0.6365984778348153 0.01882299287206951\n",
      "8 0.7021893474345776 0.7292271275076747 0.6647687604930254 0.014929630227534385\n",
      "9 0.7095661447070245 0.7335056190222861 0.6779023218805345 0.011361944848861985\n",
      "10 0.7157676302257859 0.7346619101163704 0.7010910227489942 0.007180346174077153\n"
     ]
    }
   ],
   "source": [
    "not_selected = np.delete(np.arange(50), truth[\"selected_features\"])\n",
    "selected = truth[\"selected_features\"]\n",
    "\n",
    "for n_choice in range(2, len(selected)+1):\n",
    "    acc = []\n",
    "    for _ in range(100):\n",
    "        cur_choice = np.random.choice(selected, size=n_choice, replace=False)\n",
    "        if isinstance(cur_choice, int):\n",
    "            cur_choice = [cur_choice]\n",
    "        acc.append(train_kfold_validate(X, y, cur_choice))\n",
    "    print(n_choice, np.mean(acc), np.max(acc), np.min(acc), np.std(acc))"
   ]
  },
  {
   "cell_type": "code",
   "execution_count": 39,
   "metadata": {},
   "outputs": [],
   "source": [
    "def compute_dacc(i_feature):\n",
    "    remainder_features = selected[selected!=i_feature]\n",
    "    print(f\"------------- {i_feature} ------------\")\n",
    "    for n_extra in range(2, len(selected)):\n",
    "        d_acc = []\n",
    "        for _ in range(200):\n",
    "            cur_choice = np.random.choice(remainder_features, size=n_extra, replace=False)\n",
    "            acc_without = train_kfold_validate(X, y, cur_choice)\n",
    "            acc_with = train_kfold_validate(X, y, np.append(cur_choice, [i_feature]))\n",
    "            d_acc.append(acc_with-acc_without)\n",
    "        print(n_extra, np.mean(d_acc), np.mean(d_acc)/stats.sem(d_acc))\n",
    "    print(remainder_features)"
   ]
  },
  {
   "cell_type": "code",
   "execution_count": 42,
   "metadata": {},
   "outputs": [
    {
     "name": "stdout",
     "output_type": "stream",
     "text": [
      "------------- 0 ------------\n",
      "2 0.051701332729372655 26.226844515096232\n",
      "3 0.04504474789534957 26.35937745201343\n",
      "4 0.03586617894969566 25.181606240282168\n",
      "5 0.03824933929204752 25.902577737006958\n",
      "6 0.030762257192256406 26.346502449804397\n",
      "7 0.02983810085884477 26.878444596530517\n",
      "8 0.021209950612251473 20.372718463048393\n",
      "9 0.007953554796622431 11.835034169668598\n",
      "[31 32 23 35 36 30 11 12 49]\n"
     ]
    }
   ],
   "source": [
    "compute_dacc(0)"
   ]
  },
  {
   "cell_type": "code",
   "execution_count": 40,
   "metadata": {},
   "outputs": [
    {
     "name": "stdout",
     "output_type": "stream",
     "text": [
      "------------- 1 ------------\n",
      "2 -0.0031796177444112033 -3.694336826786472\n",
      "3 -0.0019034700679614114 -2.349974485859209\n",
      "4 -0.0028968339850811912 -3.727308610221209\n",
      "5 -0.0020450114804348983 -2.6327685986393257\n",
      "6 -0.0008671876259450972 -1.120136156125798\n",
      "7 -0.0005908814026166692 -0.7811710958431253\n",
      "8 0.001086513230999705 1.4452948899769726\n",
      "9 0.0009419080062503338 1.2043065424416421\n",
      "[31 32 23 35 36 30 11 12 49  0]\n"
     ]
    }
   ],
   "source": [
    "compute_dacc(1)"
   ]
  },
  {
   "cell_type": "code",
   "execution_count": 41,
   "metadata": {},
   "outputs": [
    {
     "name": "stdout",
     "output_type": "stream",
     "text": [
      "------------- 2 ------------\n",
      "2 -0.0031165207646752747 -3.348979942774363\n",
      "3 -0.002431156145717471 -2.5371301690137744\n",
      "4 -0.0037566621355221057 -4.058886273074444\n",
      "5 -0.004484812281359318 -5.477358435688109\n",
      "6 -0.0029070868871439916 -3.4345457519778604\n",
      "7 -0.0029923167736408255 -3.9013005558200295\n",
      "8 -0.0030585121465764847 -3.67757762537594\n",
      "9 -0.0021658697940776014 -2.880470698188608\n",
      "[31 32 23 35 36 30 11 12 49  0]\n"
     ]
    }
   ],
   "source": [
    "compute_dacc(2)"
   ]
  },
  {
   "cell_type": "code",
   "execution_count": 43,
   "metadata": {},
   "outputs": [
    {
     "name": "stdout",
     "output_type": "stream",
     "text": [
      "------------- 3 ------------\n",
      "2 -0.0038281788685150526 -4.962116832550371\n",
      "3 -0.0021494968961371834 -2.614477447107697\n",
      "4 -0.003166871021574468 -3.978351791922557\n",
      "5 -0.0017549904843085406 -2.5225402294321797\n",
      "6 0.0004355660231520092 0.5403654006093418\n",
      "7 -0.0028364977577455468 -3.6234938008488187\n",
      "8 -0.000837187433069178 -1.1679013456870986\n",
      "9 2.5415539638015127e-05 0.03663206061766206\n",
      "[31 32 23 35 36 30 11 12 49  0]\n"
     ]
    }
   ],
   "source": [
    "compute_dacc(3)"
   ]
  },
  {
   "cell_type": "code",
   "execution_count": 46,
   "metadata": {},
   "outputs": [
    {
     "name": "stdout",
     "output_type": "stream",
     "text": [
      "------------- 29 ------------\n",
      "2 0.011217655573135102 9.838772411903422\n",
      "3 0.012273313624005971 11.738245845169962\n",
      "4 0.00930297455678842 8.59662996619008\n",
      "5 0.008060479300960122 7.604207019784192\n",
      "6 0.0052634612273356396 5.448377591153226\n",
      "7 0.005338141053321258 6.045558736456615\n",
      "8 0.0014102804588489088 1.593828554833321\n",
      "9 0.00424917725469062 5.158359486743474\n",
      "[31 32 23 35 36 30 11 12 49  0]\n"
     ]
    }
   ],
   "source": [
    "compute_dacc(not_selected[25])"
   ]
  },
  {
   "cell_type": "code",
   "execution_count": 47,
   "metadata": {},
   "outputs": [
    {
     "name": "stdout",
     "output_type": "stream",
     "text": [
      "------------- 31 ------------\n",
      "2 0.006610163452260042 4.706873152365376\n",
      "3 0.005714426161055424 5.51940524215752\n",
      "4 0.0025763587820145234 2.6481382280426904\n",
      "5 0.007142790823770142 7.681892773234692\n",
      "6 0.0036343290048524144 3.800791722536144\n",
      "7 0.004119453666024132 3.88635242830577\n",
      "8 0.004020654959098793 4.831685638120617\n",
      "9 0.003186269948263213 4.880225093609471\n",
      "[32 23 35 36 30 11 12 49  0]\n"
     ]
    }
   ],
   "source": [
    "compute_dacc(selected[0])"
   ]
  },
  {
   "cell_type": "code",
   "execution_count": 48,
   "metadata": {},
   "outputs": [
    {
     "name": "stdout",
     "output_type": "stream",
     "text": [
      "------------- 32 ------------\n",
      "2 0.0019108033828707865 1.8560788390641492\n",
      "3 0.0018516780996022753 1.8822148800201235\n",
      "4 -0.0013216265571131514 -1.1790966028836731\n",
      "5 0.0013852444457494771 1.508090306335557\n",
      "6 -0.001561301506504818 -1.80136711410308\n",
      "7 -0.00324628922577882 -4.099843532846348\n",
      "8 -0.0034173463023672553 -3.9635069701431465\n",
      "9 -0.0018773203404058342 -2.524626159473045\n",
      "[31 23 35 36 30 11 12 49  0]\n"
     ]
    }
   ],
   "source": [
    "compute_dacc(selected[1])"
   ]
  },
  {
   "cell_type": "code",
   "execution_count": 24,
   "metadata": {},
   "outputs": [
    {
     "name": "stdout",
     "output_type": "stream",
     "text": [
      "0.7147907569832596 0.00889782298221633\n",
      "0.6782807285873191 0.007720709340000266\n"
     ]
    }
   ],
   "source": [
    "print(np.mean(acc_max), np.std(acc_max))\n",
    "print(np.mean(acc_all), np.std(acc_all))"
   ]
  },
  {
   "cell_type": "code",
   "execution_count": 8,
   "metadata": {},
   "outputs": [
    {
     "name": "stdout",
     "output_type": "stream",
     "text": [
      "2.0857236868143687\n",
      "10.2 9.95\n",
      "[ 8  8  8  8  9 10 10 12 14 15]\n",
      "[ 5  5  6  6  7  7  7  8  8  8  8  9  9  9  9  9  9  9  9 10 10 10 10 10\n",
      " 10 11 11 11 11 12 12 12 12 12 13 13 13 14 15 19]\n",
      "Avg fitness: 0.5607376492125481, Max: 0.6681795047176872. stdev: 0.045131835787545906\n",
      "Avg # of features: 5.0\n",
      "3.38912067713438\n",
      "13.6 8.7\n",
      "[ 5  8 10 11 12 16 17 17 18 22]\n",
      "[ 3  4  4  5  5  5  5  6  6  6  6  7  7  7  7  8  8  8  8  8  8  9  9  9\n",
      "  9 10 10 10 10 10 11 12 12 12 12 12 13 14 16 17]\n",
      "Avg fitness: 0.5701699459530027, Max: 0.681540371807184. stdev: 0.09423385497897832\n",
      "Avg # of features: 4.84\n",
      "1.9618060203081873\n",
      "18.1 8.75\n",
      "[ 5  6  9 12 14 16 17 25 33 44]\n",
      "[ 3  3  4  5  5  5  5  5  5  6  6  6  6  7  7  7  8  8  8  8  8  8  8  8\n",
      "  9 10 10 10 11 11 11 13 13 13 14 14 14 14 15 19]\n",
      "Avg fitness: 0.576326846837238, Max: 0.6879888072956609. stdev: 0.13964339818668403\n",
      "Avg # of features: 5.31\n",
      "1.438193856023262\n",
      "21.5 9.625\n",
      "[ 9 10 10 13 15 18 18 19 43 60]\n",
      "[ 2  3  4  4  4  5  5  5  5  6  6  6  6  7  7  7  8  9  9  9 10 10 10 10\n",
      " 11 11 12 12 12 13 13 13 14 14 15 16 16 17 19 20]\n",
      "Avg fitness: 0.6230963543285961, Max: 0.7052869662518971. stdev: 0.048024836439097995\n",
      "Avg # of features: 6.0\n",
      "1.9216885736592997\n",
      "20.7 8.975\n",
      "[ 8  9 10 11 11 18 21 23 41 55]\n",
      "[ 1  2  3  4  4  5  5  6  6  6  7  7  7  8  8  8  8  8  8  8  8  8  9  9\n",
      "  9  9 10 10 11 12 12 13 13 13 13 13 14 17 18 19]\n",
      "Avg fitness: 0.592081961575376, Max: 0.7056786734800802. stdev: 0.13075196424087243\n",
      "Avg # of features: 5.66\n",
      "2.557281547541616\n",
      "23.1 9.825\n",
      "[ 7  7  8 14 15 19 24 34 46 57]\n",
      "[ 0  3  4  4  5  5  5  5  5  6  6  6  7  7  7  8  8  8  8  9  9  9  9  9\n",
      " 10 10 11 11 11 12 13 13 14 14 15 16 18 23 23 27]\n",
      "Avg fitness: 0.6077788336894341, Max: 0.7017546346354472. stdev: 0.11573598958166023\n",
      "Avg # of features: 6.24\n",
      "2.1366197668061604\n",
      "26.2 11.4\n",
      "[ 7 10 11 11 21 22 23 44 47 66]\n",
      "[ 2  3  4  4  5  6  6  6  6  6  8  8  8  8  9  9  9  9 10 10 10 10 10 11\n",
      " 11 12 13 13 14 14 14 14 14 15 18 19 22 23 24 39]\n",
      "Avg fitness: 0.6312087406757451, Max: 0.6960586706934551. stdev: 0.0747645706469801\n",
      "Avg # of features: 7.18\n",
      "1.589917509493629\n",
      "25.6 11.35\n",
      "[ 6  8  9 16 22 25 25 45 47 53]\n",
      "[ 2  2  3  4  5  6  6  6  6  7  7  7  7  8  8  8  9  9  9  9  9 12 12 12\n",
      " 13 13 13 14 15 15 15 15 16 16 17 17 19 23 25 35]\n",
      "Avg fitness: 0.6253444601503972, Max: 0.6877052005391313. stdev: 0.07557038770902023\n",
      "Avg # of features: 7.1\n",
      "2.298826920867507\n",
      "28.1 10.425\n",
      "[11 13 17 23 26 26 26 38 49 52]\n",
      "[ 2  2  3  3  4  4  5  5  5  5  6  6  8  8  8  9  9  9 10 11 11 11 11 11\n",
      " 11 12 12 12 12 12 13 13 13 15 16 16 17 22 26 29]\n",
      "Avg fitness: 0.6340409227989692, Max: 0.7070394778129369. stdev: 0.04057236135753017\n",
      "Avg # of features: 6.98\n"
     ]
    },
    {
     "name": "stderr",
     "output_type": "stream",
     "text": [
      "/home/qubix/Documents/shared_work/protosc/protosc/protosc/genetic_algorithm.py:147: RuntimeWarning: invalid value encountered in sqrt\n",
      "  print(dif_mean/np.sqrt(var_std))\n"
     ]
    },
    {
     "name": "stdout",
     "output_type": "stream",
     "text": [
      "nan\n",
      "29.1 10.925\n",
      "[15 15 17 23 24 24 27 39 47 60]\n",
      "[ 3  5  6  6  7  7  7  7  8  8  8  8  9  9  9 10 10 10 10 10 11 11 11 11\n",
      " 12 12 12 12 13 13 13 14 14 14 14 16 17 19 20 21]\n",
      "Avg fitness: 0.6186220107112341, Max: 0.7209368278130519. stdev: 0.10043661263063862\n",
      "Avg # of features: 7.28\n",
      "2.8054745298952333\n",
      "31.1 12.675\n",
      "[ 7 11 15 18 27 31 34 49 52 67]\n",
      "[ 2  4  5  6  7  8  8  9  9  9  9  9 10 10 10 10 11 11 12 12 12 13 13 13\n",
      " 13 14 14 15 15 16 16 16 16 17 19 19 21 22 24 28]\n",
      "Avg fitness: 0.6434273512725204, Max: 0.7011050674259645. stdev: 0.039903789909445174\n",
      "Avg # of features: 8.18\n",
      "2.2612370213830184\n",
      "30.0 12.3\n",
      "[ 3  9 14 23 25 29 37 43 47 70]\n",
      "[ 3  3  4  4  4  5  6  6  7  7  8  8  9 10 10 10 10 10 11 12 12 13 13 13\n",
      " 13 13 14 15 15 16 17 18 18 18 19 20 21 21 25 31]\n",
      "Avg fitness: 0.6429851363200888, Max: 0.7109849741028104. stdev: 0.03864118106139265\n",
      "Avg # of features: 7.92\n",
      "1.7999233800282208\n",
      "30.8 11.45\n",
      "[ 6  7 16 26 28 30 33 43 47 72]\n",
      "[ 2  3  4  5  5  5  6  6  7  7  8  8  8  9  9  9  9  9  9 10 10 10 11 11\n",
      " 12 12 12 13 13 14 14 14 15 18 19 19 21 25 26 31]\n",
      "Avg fitness: 0.6431067203293515, Max: 0.7130624671823075. stdev: 0.03631880542150275\n",
      "Avg # of features: 7.66\n",
      "5.69021133541348\n",
      "32.5 10.825\n",
      "[16 18 18 25 25 27 34 43 58 61]\n",
      "[ 3  3  4  6  6  6  7  7  7  8  8  8  8  8  9  9  9 10 11 11 11 11 11 11\n",
      " 11 11 12 12 12 13 13 13 14 15 15 15 16 19 23 27]\n",
      "Avg fitness: 0.6386150675382355, Max: 0.710823951503511. stdev: 0.07202843656832804\n",
      "Avg # of features: 7.58\n",
      "1.3368622806284998\n",
      "34.5 12.925\n",
      "[19 19 23 26 28 31 37 41 51 70]\n",
      "[ 3  5  5  5  6  7  8  8  9  9 10 10 10 11 11 11 11 11 11 12 12 12 12 13\n",
      " 14 14 14 14 15 15 15 16 16 17 19 20 21 22 31 32]\n",
      "Avg fitness: 0.6460182743449704, Max: 0.7117217205049549. stdev: 0.03932452387501485\n",
      "Avg # of features: 8.62\n",
      "3.916776516314046\n",
      "35.1 13.1\n",
      "[16 17 18 25 30 31 38 46 63 67]\n",
      "[ 4  5  5  5  5  6  6  6  7  7  7  9  9  9  9  9  9 10 10 10 11 11 14 15\n",
      " 15 15 16 16 18 18 19 20 21 21 21 22 23 24 25 32]\n",
      "Avg fitness: 0.6417810074297529, Max: 0.7105159869661943. stdev: 0.07577019125480475\n",
      "Avg # of features: 8.75\n",
      "2.2218262915044864\n",
      "38.5 13.375\n",
      "[13 23 24 27 30 30 46 51 70 71]\n",
      "[ 4  5  5  5  6  6  6  8  8  9 10 10 10 11 11 11 12 12 12 12 13 13 14 14\n",
      " 14 14 15 15 15 17 17 18 19 19 19 20 21 25 27 33]\n",
      "Avg fitness: 0.6465368168810179, Max: 0.706968628301057. stdev: 0.04000833238714278\n",
      "Avg # of features: 9.2\n",
      "19.050729616042368\n",
      "41.6 13.25\n",
      "[11 12 36 36 37 39 42 61 68 74]\n",
      "[ 2  5  5  7  7  7  7  7  7  8  9  9  9  9 10 10 11 11 11 12 13 14 14 14\n",
      " 15 15 16 16 16 16 18 18 18 19 19 19 22 23 24 38]\n",
      "Avg fitness: 0.6581134728934497, Max: 0.7159834541254717. stdev: 0.031731442529726664\n",
      "Avg # of features: 9.46\n",
      "3.0779046148477405\n",
      "39.1 11.025\n",
      "[15 16 28 30 35 38 50 55 58 66]\n",
      "[ 2  2  3  5  5  5  5  5  6  7  7  7  9  9  9  9 10 10 10 10 10 11 11 11\n",
      " 12 12 12 12 12 13 14 14 14 16 19 19 21 21 25 27]\n",
      "Avg fitness: 0.6547390611289977, Max: 0.7138562919001329. stdev: 0.031209196818199864\n",
      "Avg # of features: 8.32\n",
      "1.4832294168100262\n",
      "36.6 11.7\n",
      "[11 15 17 23 37 42 42 53 56 70]\n",
      "[ 2  2  5  6  6  6  7  7  8  8  8  8  8  8  9  9  9  9  9  9 10 10 11 11\n",
      " 11 11 12 12 13 13 14 15 17 19 21 23 24 25 26 27]\n",
      "Avg fitness: 0.6522757791611107, Max: 0.7109704472360594. stdev: 0.03569790909232185\n",
      "Avg # of features: 8.34\n",
      "2.0584323439497085\n",
      "38.2 12.3\n",
      "[ 7 14 15 23 39 44 44 53 70 73]\n",
      "[ 3  3  5  5  5  6  6  6  7  7  8  9  9  9  9 10 10 10 10 11 11 11 12 12\n",
      " 13 13 13 15 16 16 17 17 18 18 18 20 21 23 26 34]\n",
      "Avg fitness: 0.6581583889075047, Max: 0.7268487408081674. stdev: 0.03113881488827155\n",
      "Avg # of features: 8.74\n",
      "1.0857721957795725\n",
      "29.4 11.35\n",
      "[ 5 11 16 19 25 27 38 47 48 58]\n",
      "[ 2  3  4  4  4  5  6  6  6  6  6  7  8  8  8  8  8  9 10 10 10 11 11 12\n",
      " 13 13 13 13 14 15 15 16 18 18 19 19 19 21 26 30]\n",
      "Avg fitness: 0.6380051729607547, Max: 0.706517748470235. stdev: 0.044827247334966513\n",
      "Avg # of features: 7.48\n",
      "2.283428349918455\n",
      "32.3 12.075\n",
      "[ 3 10 12 15 31 35 42 52 54 69]\n",
      "[ 4  4  4  4  5  5  7  8  8  8  9 10 10 10 10 10 10 11 11 11 11 11 12 12\n",
      " 12 13 13 14 14 14 14 15 16 17 18 19 19 21 24 35]\n",
      "Avg fitness: 0.6430804975176582, Max: 0.7143654159383441. stdev: 0.07426613521732955\n",
      "Avg # of features: 8.06\n",
      "1.7518203526521554\n",
      "35.7 13.175\n",
      "[ 3 13 13 24 40 43 47 47 59 68]\n",
      "[ 3  3  4  5  6  6  7  8  8  8  8  9  9 10 10 11 12 12 12 12 12 13 13 13\n",
      " 14 14 15 15 15 15 15 16 16 18 20 23 25 27 31 34]\n",
      "Avg fitness: 0.6509491891798916, Max: 0.7034196467434486. stdev: 0.033355939487884456\n",
      "Avg # of features: 8.84\n",
      "1.8180097411472778\n",
      "34.9 13.425\n",
      "[ 6  7 20 32 33 38 44 51 55 63]\n",
      "[ 4  4  5  6  6  7  8  8  8  8 10 10 10 10 10 12 12 12 12 13 13 14 14 14\n",
      " 15 15 15 15 15 15 16 16 17 17 18 21 24 24 25 39]\n",
      "Avg fitness: 0.6492634588883552, Max: 0.7134410617272009. stdev: 0.03314980313212142\n",
      "Avg # of features: 8.86\n",
      "2.201719573989309\n",
      "34.6 12.6\n",
      "[ 4 11 26 26 27 42 42 44 61 63]\n",
      "[ 4  4  4  5  5  5  5  6  6  7  8  8  9 10 10 11 11 12 12 13 13 13 13 13\n",
      " 13 14 14 14 15 16 16 17 17 18 19 19 19 22 28 36]\n",
      "Avg fitness: 0.6509936306688247, Max: 0.7022531540969146. stdev: 0.03324224821440982\n",
      "Avg # of features: 8.5\n",
      "2.401527080121779\n",
      "31.7 11.425\n",
      "[ 7 17 17 19 24 31 33 49 57 63]\n",
      "[ 2  4  4  4  4  5  6  7  7  7  8  9  9  9  9 10 10 11 11 11 11 11 11 11\n",
      " 12 13 13 14 14 14 14 14 15 15 17 19 19 24 24 25]\n",
      "Avg fitness: 0.6436617114829681, Max: 0.6991940845533455. stdev: 0.035628545020622224\n",
      "Avg # of features: 7.74\n",
      "2.523202116432419\n",
      "32.7 12.825\n",
      "[ 5 13 18 23 26 30 35 39 68 70]\n",
      "[ 4  6  7  7  7  8  8  8  8  9  9 10 10 10 10 10 11 11 12 13 13 13 13 14\n",
      " 14 14 14 15 15 15 16 16 16 17 17 19 20 21 25 28]\n",
      "Avg fitness: 0.6467671528219185, Max: 0.6970231797983497. stdev: 0.027089901213197203\n",
      "Avg # of features: 8.4\n",
      "1.9623537311440882\n",
      "30.0 11.05\n",
      "[ 9  9 15 20 21 29 31 41 59 66]\n",
      "[ 2  4  4  4  4  5  5  5  7  7  7  8  8  8  9  9  9  9 10 10 11 11 11 11\n",
      " 11 12 13 13 14 14 15 15 15 15 17 19 21 21 24 25]\n",
      "Avg fitness: 0.6398986150286032, Max: 0.7072053798849424. stdev: 0.040995007806182496\n",
      "Avg # of features: 7.42\n",
      "2.3045609273172345\n",
      "29.6 11.25\n",
      "[ 6 10 14 15 15 28 34 40 62 72]\n",
      "[ 2  3  4  4  5  5  6  6  7  8  8  8  9  9 10 10 10 10 10 11 11 11 11 11\n",
      " 11 11 12 12 12 12 13 13 17 19 19 20 20 22 23 25]\n",
      "Avg fitness: 0.6415722752463054, Max: 0.7106522919415867. stdev: 0.04478201573038\n",
      "Avg # of features: 7.46\n"
     ]
    }
   ],
   "source": [
    "counter = genetic_algorithm(X, y, n_gen=30, mutation_rate=0.1, truth=truth)"
   ]
  },
  {
   "cell_type": "code",
   "execution_count": 10,
   "metadata": {},
   "outputs": [
    {
     "name": "stdout",
     "output_type": "stream",
     "text": [
      "feature 60.2 [-0.5]\n",
      "feature 36.766666666666666 [0.41666667]\n",
      "feature 33.333333333333336 [-0.44444444]\n",
      "feature 20.2 [0.30555556]\n",
      "feature 17.4 [-0.38888889]\n",
      "feature 18.333333333333332 [0.25]\n",
      "feature 10.0 [-0.27777778]\n",
      "feature 19.533333333333335 [-0.33333333]\n",
      "feature 32.3 [0.36111111]\n",
      "feature 50.3 [0.47222222]\n"
     ]
    },
    {
     "data": {
      "image/png": "[encoded data removed]",
      "text/plain": [
       "<Figure size 432x288 with 1 Axes>"
      ]
     },
     "metadata": {
      "needs_background": "light"
     },
     "output_type": "display_data"
    }
   ],
   "source": [
    "counter = np.array(counter)\n",
    "\n",
    "for i_feature, counts in enumerate(counter):\n",
    "    if i_feature in truth[\"selected_features\"]:\n",
    "        plt.plot(counts)\n",
    "        print(\"feature\", np.mean(counts), truth[\"biases\"][selected==i_feature])\n",
    "plt.show()"
   ]
  },
  {
   "cell_type": "code",
   "execution_count": 44,
   "metadata": {},
   "outputs": [
    {
     "name": "stdout",
     "output_type": "stream",
     "text": [
      "[10.2        12.6        11.7        13.26666667 11.96666667 12.43333333\n",
      " 11.6        11.96666667  9.73333333 12.76666667 12.5        13.23333333\n",
      " 13.43333333  7.86666667 10.86666667 11.26666667 11.46666667 11.83333333\n",
      "  9.8        12.6         8.4         9.         10.43333333  9.46666667\n",
      "  7.33333333 25.8         8.7         9.76666667 12.1        11.26666667\n",
      " 14.96666667 13.63333333  7.8        13.6         9.7         9.\n",
      "  8.9        11.1        12.53333333 12.1       ]\n",
      "[18.33333333 10.         20.2        19.53333333 32.3        17.4\n",
      " 36.76666667 33.33333333 50.3        60.2       ]\n",
      "25\n"
     ]
    }
   ],
   "source": [
    "print(np.mean(counter[not_selected], axis=1))\n",
    "print(np.mean(counter[selected], axis=1))\n",
    "print(np.argmax(np.mean(counter[not_selected], axis=1)))"
   ]
  },
  {
   "cell_type": "code",
   "execution_count": 14,
   "metadata": {},
   "outputs": [
    {
     "data": {
      "text/plain": [
       "[<matplotlib.lines.Line2D at 0x7fa39c0fa7f0>]"
      ]
     },
     "execution_count": 14,
     "metadata": {},
     "output_type": "execute_result"
    },
    {
     "data": {
      "image/png": "[encoded data removed]",
      "text/plain": [
       "<Figure size 432x288 with 1 Axes>"
      ]
     },
     "metadata": {
      "needs_background": "light"
     },
     "output_type": "display_data"
    }
   ],
   "source": [
    "\n",
    "plt.plot(counter[not_selected[25]])"
   ]
  },
  {
   "cell_type": "code",
   "execution_count": null,
   "metadata": {},
   "outputs": [],
   "source": []
  }
 ],
 "metadata": {
  "kernelspec": {
   "display_name": "Python 3",
   "language": "python",
   "name": "python3"
  },
  "language_info": {
   "codemirror_mode": {
    "name": "ipython",
    "version": 3
   },
   "file_extension": ".py",
   "mimetype": "text/x-python",
   "name": "python",
   "nbconvert_exporter": "python",
   "pygments_lexer": "ipython3",
   "version": "3.9.6"
  }
 },
 "nbformat": 4,
 "nbformat_minor": 4
}
