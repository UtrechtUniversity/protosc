{
 "cells": [
  {
   "cell_type": "code",
   "execution_count": 1,
   "metadata": {},
   "outputs": [],
   "source": [
    "from protosc.simulation import create_independent_data, compare_results, create_categorical_data\n",
    "from protosc.model.genetic import GeneticModel\n",
    "from protosc.model.utils import train_kfold_validate\n",
    "import numpy as np\n",
    "\n",
    "from matplotlib import pyplot as plt"
   ]
  },
  {
   "cell_type": "code",
   "execution_count": 2,
   "metadata": {},
   "outputs": [],
   "source": [
    "n_features = 300\n",
    "n_random_features = 200\n",
    "mutation_rate = 0.1"
   ]
  },
  {
   "cell_type": "code",
   "execution_count": 3,
   "metadata": {},
   "outputs": [],
   "source": [
    "X, y, truth = create_independent_data(n_features=n_features, n_true_features=50)"
   ]
  },
  {
   "cell_type": "code",
   "execution_count": 4,
   "metadata": {},
   "outputs": [
    {
     "name": "stdout",
     "output_type": "stream",
     "text": [
      "0.886917833086145 0.00569396910574666\n",
      "0.8399724911129944 0.011247256539591802\n"
     ]
    }
   ],
   "source": [
    "acc_max = [train_kfold_validate(X, y, truth[\"selected_features\"]) for _ in range(10)]\n",
    "acc_all = [train_kfold_validate(X, y, np.arange(X.shape[1])) for _ in range(10)]\n",
    "print(np.mean(acc_max), np.std(acc_max))\n",
    "print(np.mean(acc_all), np.std(acc_all))"
   ]
  },
  {
   "cell_type": "code",
   "execution_count": 5,
   "metadata": {},
   "outputs": [],
   "source": [
    "gen = GeneticModel(n_random_features=n_random_features, mutation_rate=mutation_rate)"
   ]
  },
  {
   "cell_type": "code",
   "execution_count": 6,
   "metadata": {},
   "outputs": [
    {
     "name": "stderr",
     "output_type": "stream",
     "text": [
      "Acc: 0.77 (max: 0.81, #f: 18): 100%|██████████| 15/15 [00:22<00:00,  1.47s/it]"
     ]
    },
    {
     "name": "stdout",
     "output_type": "stream",
     "text": [
      "23 23\n"
     ]
    },
    {
     "name": "stderr",
     "output_type": "stream",
     "text": [
      "\n"
     ]
    }
   ],
   "source": [
    "features = gen.execute(X, y)\n",
    "n_correct = len(set(features).intersection(set(truth[\"selected_features\"])))\n",
    "print(n_correct, len(features))"
   ]
  },
  {
   "cell_type": "code",
   "execution_count": 7,
   "metadata": {},
   "outputs": [],
   "source": [
    "X, y, cat_truth = create_categorical_data(n_features=n_features, n_true_features=50, n_categories=3)"
   ]
  },
  {
   "cell_type": "code",
   "execution_count": 8,
   "metadata": {},
   "outputs": [
    {
     "name": "stderr",
     "output_type": "stream",
     "text": [
      "Acc: 0.54 (max: 0.59, #f: 14): 100%|██████████| 15/15 [00:33<00:00,  2.24s/it]\n"
     ]
    }
   ],
   "source": [
    "cat_features = gen.execute(X, y)"
   ]
  },
  {
   "cell_type": "code",
   "execution_count": 9,
   "metadata": {},
   "outputs": [
    {
     "name": "stdout",
     "output_type": "stream",
     "text": [
      "7 7\n"
     ]
    }
   ],
   "source": [
    "n_correct = len(set(cat_features).intersection(set(cat_truth[\"selected_features\"])))\n",
    "print(n_correct, len(cat_features))"
   ]
  },
  {
   "cell_type": "code",
   "execution_count": 11,
   "metadata": {},
   "outputs": [
    {
     "data": {
      "text/plain": [
       "{'%corr_feat': 1.0, '%feat_found': 0.14, '%bias_found': 0.1602721088435374}"
      ]
     },
     "execution_count": 11,
     "metadata": {},
     "output_type": "execute_result"
    }
   ],
   "source": [
    "compare_results(cat_features, cat_truth)"
   ]
  }
 ],
 "metadata": {
  "kernelspec": {
   "display_name": "Python 3",
   "language": "python",
   "name": "python3"
  },
  "language_info": {
   "codemirror_mode": {
    "name": "ipython",
    "version": 3
   },
   "file_extension": ".py",
   "mimetype": "text/x-python",
   "name": "python",
   "nbconvert_exporter": "python",
   "pygments_lexer": "ipython3",
   "version": "3.9.7"
  }
 },
 "nbformat": 4,
 "nbformat_minor": 4
}
