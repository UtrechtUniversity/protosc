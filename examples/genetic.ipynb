{
 "cells": [
  {
   "cell_type": "code",
   "execution_count": 1,
   "metadata": {},
   "outputs": [],
   "source": [
    "from protosc.simulation import create_simulation_data\n",
    "from protosc.model.genetic import genetic_algorithm, compute_significant_features, compute_coefs\n",
    "from protosc.model.utils import train_kfold_validate\n",
    "from protosc.feature_matrix import FeatureMatrix\n",
    "import numpy as np\n",
    "from matplotlib import pyplot as plt\n",
    "from scipy import stats\n",
    "from sklearn.linear_model import LinearRegression, ElasticNet"
   ]
  },
  {
   "cell_type": "code",
   "execution_count": 2,
   "metadata": {},
   "outputs": [],
   "source": [
    "n_random = 200\n",
    "n_features = 500"
   ]
  },
  {
   "cell_type": "code",
   "execution_count": 3,
   "metadata": {},
   "outputs": [],
   "source": [
    "X, y, truth = create_simulation_data(n_features=n_features, n_true_features=50)"
   ]
  },
  {
   "cell_type": "code",
   "execution_count": 4,
   "metadata": {},
   "outputs": [
    {
     "name": "stdout",
     "output_type": "stream",
     "text": [
      "0.8563316949190142 0.0037891737940709503\n",
      "0.7685748112812907 0.005636582057686871\n"
     ]
    }
   ],
   "source": [
    "acc_max = [train_kfold_validate(X, y, truth[\"selected_features\"]) for _ in range(10)]\n",
    "acc_all = [train_kfold_validate(X, y, np.arange(X.shape[1])) for _ in range(10)]\n",
    "print(np.mean(acc_max), np.std(acc_max))\n",
    "print(np.mean(acc_all), np.std(acc_all))"
   ]
  },
  {
   "cell_type": "code",
   "execution_count": 5,
   "metadata": {},
   "outputs": [
    {
     "name": "stderr",
     "output_type": "stream",
     "text": [
      "Acc: 0.77 (max: 0.84, #f: 50): 100%|██████████| 21/21 [01:05<00:00,  3.11s/it]\n"
     ]
    }
   ],
   "source": [
    "X_gen, y_gen = genetic_algorithm(X, y, n_random=n_random, mutation_rate=0.1)"
   ]
  },
  {
   "cell_type": "code",
   "execution_count": 6,
   "metadata": {},
   "outputs": [
    {
     "name": "stdout",
     "output_type": "stream",
     "text": [
      "22 23\n"
     ]
    }
   ],
   "source": [
    "coefs = compute_coefs(X_gen, y_gen, n_random)\n",
    "features = compute_significant_features(coefs, n_random, 0.5)\n",
    "n_correct = len(set(features).intersection(set(truth[\"selected_features\"])))\n",
    "print(n_correct, len(features))"
   ]
  }
 ],
 "metadata": {
  "kernelspec": {
   "display_name": "Python 3",
   "language": "python",
   "name": "python3"
  },
  "language_info": {
   "codemirror_mode": {
    "name": "ipython",
    "version": 3
   },
   "file_extension": ".py",
   "mimetype": "text/x-python",
   "name": "python",
   "nbconvert_exporter": "python",
   "pygments_lexer": "ipython3",
   "version": "3.9.7"
  }
 },
 "nbformat": 4,
 "nbformat_minor": 4
}
