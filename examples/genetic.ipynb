{
 "cells": [
  {
   "cell_type": "code",
   "execution_count": 1,
   "metadata": {},
   "outputs": [],
   "source": [
    "from protosc.simulation import create_simulation_data\n",
    "from protosc.model.genetic import GeneticModel\n",
    "from protosc.model.utils import train_kfold_validate\n",
    "import numpy as np"
   ]
  },
  {
   "cell_type": "code",
   "execution_count": 2,
   "metadata": {},
   "outputs": [],
   "source": [
    "n_features = 500\n",
    "n_random_features = 200\n",
    "mutation_rate = 0.1"
   ]
  },
  {
   "cell_type": "code",
   "execution_count": 3,
   "metadata": {},
   "outputs": [],
   "source": [
    "X, y, truth = create_simulation_data(n_features=n_features, n_true_features=50)"
   ]
  },
  {
   "cell_type": "code",
   "execution_count": 4,
   "metadata": {},
   "outputs": [
    {
     "name": "stdout",
     "output_type": "stream",
     "text": [
      "0.8755139816127719 0.005783108013355138\n",
      "0.8174686051702181 0.007191860975776137\n"
     ]
    }
   ],
   "source": [
    "acc_max = [train_kfold_validate(X, y, truth[\"selected_features\"]) for _ in range(10)]\n",
    "acc_all = [train_kfold_validate(X, y, np.arange(X.shape[1])) for _ in range(10)]\n",
    "print(np.mean(acc_max), np.std(acc_max))\n",
    "print(np.mean(acc_all), np.std(acc_all))"
   ]
  },
  {
   "cell_type": "code",
   "execution_count": 5,
   "metadata": {},
   "outputs": [],
   "source": [
    "gen = GeneticModel(n_random_features=n_random_features, mutation_rate=mutation_rate)"
   ]
  },
  {
   "cell_type": "code",
   "execution_count": null,
   "metadata": {},
   "outputs": [],
   "source": [
    "features = gen.execute(X, y)\n",
    "n_correct = len(set(features).intersection(set(truth[\"selected_features\"])))\n",
    "print(n_correct, len(features))"
   ]
  }
 ],
 "metadata": {
  "kernelspec": {
   "display_name": "Python 3",
   "language": "python",
   "name": "python3"
  },
  "language_info": {
   "codemirror_mode": {
    "name": "ipython",
    "version": 3
   },
   "file_extension": ".py",
   "mimetype": "text/x-python",
   "name": "python",
   "nbconvert_exporter": "python",
   "pygments_lexer": "ipython3",
   "version": "3.6.12"
  }
 },
 "nbformat": 4,
 "nbformat_minor": 4
}
