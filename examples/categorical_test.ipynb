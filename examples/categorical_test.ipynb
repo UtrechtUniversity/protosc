{
 "cells": [
  {
   "cell_type": "code",
   "execution_count": 1,
   "metadata": {},
   "outputs": [],
   "source": [
    "from protosc.simulation import create_categorical_data, compare_results, create_simulation_data\n",
    "from protosc.filter_model import filter_model"
   ]
  },
  {
   "cell_type": "code",
   "execution_count": 16,
   "metadata": {},
   "outputs": [],
   "source": [
    "X, y, ground_truth = create_categorical_data(min_dev=10, max_dev=20)\n",
    "# X, y, ground_truth = create_simulation_data()"
   ]
  },
  {
   "cell_type": "code",
   "execution_count": 17,
   "metadata": {},
   "outputs": [],
   "source": [
    "filter_res = filter_model(X, y)"
   ]
  },
  {
   "cell_type": "code",
   "execution_count": 18,
   "metadata": {},
   "outputs": [
    {
     "name": "stdout",
     "output_type": "stream",
     "text": [
      "Percentage of features correct: 24/24\n",
      "Percentage of features found: 24/25\n",
      "Percentage of bias found: 0.9733333333333334\n",
      "\n",
      "\n",
      "\n",
      "Percentage of features correct: 25/25\n",
      "Percentage of features found: 25/25\n",
      "Percentage of bias found: 1.0000000000000002\n",
      "\n",
      "\n",
      "\n",
      "Percentage of features correct: 25/25\n",
      "Percentage of features found: 25/25\n",
      "Percentage of bias found: 1.0\n",
      "\n",
      "\n",
      "\n",
      "Percentage of features correct: 25/25\n",
      "Percentage of features found: 25/25\n",
      "Percentage of bias found: 1.0\n",
      "\n",
      "\n",
      "\n",
      "Percentage of features correct: 25/25\n",
      "Percentage of features found: 25/25\n",
      "Percentage of bias found: 1.0000000000000002\n",
      "\n",
      "\n",
      "\n",
      "Percentage of features correct: 25/25\n",
      "Percentage of features found: 25/25\n",
      "Percentage of bias found: 1.0\n",
      "\n",
      "\n",
      "\n",
      "Percentage of features correct: 25/25\n",
      "Percentage of features found: 25/25\n",
      "Percentage of bias found: 1.0000000000000002\n",
      "\n",
      "\n",
      "\n",
      "Percentage of features correct: 24/24\n",
      "Percentage of features found: 24/25\n",
      "Percentage of bias found: 0.9733333333333334\n",
      "\n",
      "\n",
      "\n"
     ]
    }
   ],
   "source": [
    "for res in filter_res:\n",
    "    compare_results(res[0], ground_truth)\n",
    "    print(\"\\n\\n\")"
   ]
  },
  {
   "cell_type": "code",
   "execution_count": null,
   "metadata": {},
   "outputs": [],
   "source": []
  }
 ],
 "metadata": {
  "kernelspec": {
   "display_name": "Python 3",
   "language": "python",
   "name": "python3"
  },
  "language_info": {
   "codemirror_mode": {
    "name": "ipython",
    "version": 3
   },
   "file_extension": ".py",
   "mimetype": "text/x-python",
   "name": "python",
   "nbconvert_exporter": "python",
   "pygments_lexer": "ipython3",
   "version": "3.9.5"
  }
 },
 "nbformat": 4,
 "nbformat_minor": 4
}
