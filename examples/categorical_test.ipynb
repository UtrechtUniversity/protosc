{
 "cells": [
  {
   "cell_type": "code",
   "execution_count": 1,
   "metadata": {},
   "outputs": [],
   "source": [
    "from protosc.simulation import create_categorical_data, compare_models, create_simulation_data, create_correlated_data\n",
    "from protosc.wrapper import Wrapper\n",
    "from protosc.filter_model import filter_model, train_xvalidate, select_features\n",
    "from protosc.feature_matrix import FeatureMatrix\n",
    "from protosc.parallel import execute_parallel\n",
    "from protosc.shell_all_models import execute\n",
    "import pandas as pd\n",
    "import numpy as np\n",
    "import random"
   ]
  },
  {
   "cell_type": "code",
   "execution_count": 2,
   "metadata": {},
   "outputs": [
    {
     "name": "stdout",
     "output_type": "stream",
     "text": [
      "ground truth #features: 25\n"
     ]
    }
   ],
   "source": [
    "X, y, ground_truth = create_categorical_data(min_dev=10, max_dev=20, n_categories=3, seed=1234)\n",
    "print(f'ground truth #features: {len(ground_truth[\"selected_features\"])}')\n",
    "# X, y, ground_truth = create_correlated_data()"
   ]
  },
  {
   "cell_type": "markdown",
   "metadata": {},
   "source": [
    "### Run all models"
   ]
  },
  {
   "cell_type": "code",
   "execution_count": null,
   "metadata": {},
   "outputs": [
    {
     "name": "stderr",
     "output_type": "stream",
     "text": [
      " 38%|████████████████████████████████████████████████████████▎                                                                                             | 3/8 [01:19<01:53, 22.73s/it]"
     ]
    }
   ],
   "source": [
    "out = execute(X, y)\n",
    "pd.DataFrame(out)"
   ]
  },
  {
   "cell_type": "code",
   "execution_count": null,
   "metadata": {},
   "outputs": [],
   "source": [
    "compare = compare_models(out, ground_truth, mean=True)\n",
    "pd.DataFrame(compare)"
   ]
  },
  {
   "cell_type": "markdown",
   "metadata": {},
   "source": [
    "### Filter model"
   ]
  },
  {
   "cell_type": "code",
   "execution_count": null,
   "metadata": {},
   "outputs": [],
   "source": [
    "# Run filter method\n",
    "filter_res = filter_model(X, y, fold_seed = 1234)\n",
    "df = pd.DataFrame(filter_res)\n",
    "df = df.rename(columns={0: 'Features', 1: 'Accuracy'})\n",
    "df"
   ]
  },
  {
   "cell_type": "markdown",
   "metadata": {},
   "source": [
    "### Wrapper model\n",
    "#### Fast method (add immediately when cluster increases accuracy)"
   ]
  },
  {
   "cell_type": "code",
   "execution_count": null,
   "metadata": {},
   "outputs": [],
   "source": [
    "# Run fast wrapper method (add immediately = True)\n",
    "fast = Wrapper(X, y, n=10, add_im=True, fold_seed = 1234)\n",
    "out_fast = fast.wrapper(n_jobs=-1)\n",
    "\n",
    "# Print outcome in dataframe\n",
    "df = pd.DataFrame([value for key, value in out_fast.items() if key != 'recurring']).T\n",
    "df = df.rename(columns={0: 'Model', 1: 'Features', 2: 'Accuracy', 3: 'Accuracy'})\n",
    "try:\n",
    "    df['Recurring features'] = [out_fast['recurring']] * len(df)\n",
    "except KeyError:\n",
    "    pass\n",
    "df"
   ]
  },
  {
   "cell_type": "markdown",
   "metadata": {},
   "source": [
    "#### Slow method (add cluster with highest accuracy)"
   ]
  },
  {
   "cell_type": "code",
   "execution_count": null,
   "metadata": {},
   "outputs": [],
   "source": [
    "# Run fast wrapper method (add immediately = False)\n",
    "slow = Wrapper(X, y, n=10, fold_seed = 1234)\n",
    "out_slow = slow.wrapper(n_jobs=-1)\n",
    "\n",
    "# Print outcome in dataframe\n",
    "df = pd.DataFrame([value for key, value in out_slow.items() if key != 'recurring']).T\n",
    "df = df.rename(columns={0: 'Model', 1: 'Features', 2: 'Accuracy', 3: 'Accuracy'})\n",
    "try:\n",
    "    df['Recurring features'] = [out_slow['recurring']] * len(df)\n",
    "except KeyError:\n",
    "    pass\n",
    "df"
   ]
  },
  {
   "cell_type": "markdown",
   "metadata": {},
   "source": [
    "## Compare models\n",
    "* Percentage of features correct: n_correct_selected/(n_correct_selected+n_false_selected)\n",
    "* Percentage of features found: n_correct_selected/n_total_features\n",
    "* Percentage of bias found: selected_bias/total_bias"
   ]
  },
  {
   "cell_type": "code",
   "execution_count": null,
   "metadata": {},
   "outputs": [],
   "source": [
    "models = {'filter': filter_res, 'wrapper_fast': out_fast, 'wrapper_slow': out_slow}\n",
    "results = compare_models(models, ground_truth, mean=True)\n",
    "pd.DataFrame(results)"
   ]
  }
 ],
 "metadata": {
  "kernelspec": {
   "display_name": "protosc2",
   "language": "python",
   "name": "protosc2"
  },
  "language_info": {
   "codemirror_mode": {
    "name": "ipython",
    "version": 3
   },
   "file_extension": ".py",
   "mimetype": "text/x-python",
   "name": "python",
   "nbconvert_exporter": "python",
   "pygments_lexer": "ipython3",
   "version": "3.8.8"
  }
 },
 "nbformat": 4,
 "nbformat_minor": 4
}
