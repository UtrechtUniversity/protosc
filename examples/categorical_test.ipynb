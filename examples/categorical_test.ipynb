{
 "cells": [
  {
   "cell_type": "code",
   "execution_count": 1,
   "metadata": {},
   "outputs": [],
   "source": [
    "from protosc.simulation import create_categorical_data, compare_results\n",
    "from protosc.model import WrapperModel\n",
    "from protosc.model.genetic import GeneticModel\n",
    "from protosc.model.utils import train_kfold_validate\n",
    "from protosc.model import CombinedFoldModel\n",
    "import pandas as pd\n",
    "import numpy as np\n",
    "from matplotlib import pyplot as plt"
   ]
  },
  {
   "cell_type": "code",
   "execution_count": 2,
   "metadata": {},
   "outputs": [
    {
     "name": "stdout",
     "output_type": "stream",
     "text": [
      "ground truth #features: 25\n"
     ]
    }
   ],
   "source": [
    "X, y, ground_truth = create_categorical_data(min_dev=0.25, max_dev=0.5, n_categories=3, seed=1234)\n",
    "print(f'ground truth #features: {len(ground_truth[\"selected_features\"])}')\n",
    "# X, y, ground_truth = create_correlated_data()"
   ]
  },
  {
   "cell_type": "code",
   "execution_count": 3,
   "metadata": {},
   "outputs": [
    {
     "data": {
      "text/plain": [
       "0.5964334128275692"
      ]
     },
     "execution_count": 3,
     "metadata": {},
     "output_type": "execute_result"
    }
   ],
   "source": [
    "train_kfold_validate(X, y, ground_truth[\"selected_features\"])"
   ]
  },
  {
   "cell_type": "markdown",
   "metadata": {},
   "source": [
    "### Run all models"
   ]
  },
  {
   "cell_type": "code",
   "execution_count": 4,
   "metadata": {},
   "outputs": [
    {
     "name": "stderr",
     "output_type": "stream",
     "text": [
      "100%|██████████| 8/8 [00:16<00:00,  2.04s/it]\n"
     ]
    }
   ],
   "source": [
    "model = CombinedFoldModel()\n",
    "results = model.execute(X, y, progress_bar=True, n_jobs=-1)"
   ]
  },
  {
   "cell_type": "code",
   "execution_count": 5,
   "metadata": {},
   "outputs": [
    {
     "name": "stdout",
     "output_type": "stream",
     "text": [
      "filter\n",
      "{'%corr_feat': 0.35135135135135137, '%feat_found': 0.52, '%bias_found': 0.5455555555555556}\n",
      "fast_wrapper\n",
      "{'%corr_feat': 0.35294117647058826, '%feat_found': 0.48, '%bias_found': 0.49}\n",
      "slow_wrapper\n",
      "{'%corr_feat': 0.37037037037037035, '%feat_found': 0.4, '%bias_found': 0.4522222222222222}\n",
      "random\n",
      "{'%corr_feat': 0, '%feat_found': 0.0, '%bias_found': 0.0}\n",
      "pseudo_random\n",
      "{'%corr_feat': 0, '%feat_found': 0.0, '%bias_found': 0.0}\n"
     ]
    }
   ],
   "source": [
    "for name, res in results.items():\n",
    "    print(name)\n",
    "    print(compare_results(res, ground_truth))"
   ]
  },
  {
   "cell_type": "code",
   "execution_count": 6,
   "metadata": {},
   "outputs": [
    {
     "name": "stderr",
     "output_type": "stream",
     "text": [
      "Acc: 0.51 (max: 0.58, #f: 50): 100%|██████████| 30/30 [02:47<00:00,  5.59s/it]\n"
     ]
    }
   ],
   "source": [
    "gen_features = GeneticModel(n_gen_data=5, num_penalty=0.0001).execute(X, y, n_jobs=-1)"
   ]
  },
  {
   "cell_type": "code",
   "execution_count": 7,
   "metadata": {},
   "outputs": [
    {
     "data": {
      "text/plain": [
       "{'%corr_feat': 0.7142857142857143,\n",
       " '%feat_found': 0.4,\n",
       " '%bias_found': 0.4422222222222222}"
      ]
     },
     "execution_count": 7,
     "metadata": {},
     "output_type": "execute_result"
    }
   ],
   "source": [
    "compare_results(gen_features, ground_truth)"
   ]
  }
 ],
 "metadata": {
  "kernelspec": {
   "display_name": "Python 3",
   "language": "python",
   "name": "python3"
  },
  "language_info": {
   "codemirror_mode": {
    "name": "ipython",
    "version": 3
   },
   "file_extension": ".py",
   "mimetype": "text/x-python",
   "name": "python",
   "nbconvert_exporter": "python",
   "pygments_lexer": "ipython3",
   "version": "3.9.7"
  }
 },
 "nbformat": 4,
 "nbformat_minor": 4
}
