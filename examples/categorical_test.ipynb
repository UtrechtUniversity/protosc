{
 "cells": [
  {
   "cell_type": "code",
   "execution_count": 1,
   "metadata": {},
   "outputs": [],
   "source": [
    "from protosc.simulation import create_categorical_data, compare_models, compare_results\n",
    "from protosc.model.wrapper import Wrapper\n",
    "from protosc.model.shell_all_models import execute_all_models\n",
    "from protosc.model.genetic import GeneticModel\n",
    "from protosc.model.utils import train_kfold_validate\n",
    "import pandas as pd\n",
    "import numpy as np\n",
    "from matplotlib import pyplot as plt"
   ]
  },
  {
   "cell_type": "code",
   "execution_count": 2,
   "metadata": {},
   "outputs": [
    {
     "name": "stdout",
     "output_type": "stream",
     "text": [
      "ground truth #features: 25\n"
     ]
    }
   ],
   "source": [
    "X, y, ground_truth = create_categorical_data(min_dev=0.25, max_dev=0.5, n_categories=3, seed=1234)\n",
    "print(f'ground truth #features: {len(ground_truth[\"selected_features\"])}')\n",
    "# X, y, ground_truth = create_correlated_data()"
   ]
  },
  {
   "cell_type": "code",
   "execution_count": 3,
   "metadata": {},
   "outputs": [
    {
     "data": {
      "text/plain": [
       "0.5643168043758213"
      ]
     },
     "execution_count": 3,
     "metadata": {},
     "output_type": "execute_result"
    }
   ],
   "source": [
    "train_kfold_validate(X, y, ground_truth[\"selected_features\"])"
   ]
  },
  {
   "cell_type": "code",
   "execution_count": 4,
   "metadata": {},
   "outputs": [],
   "source": [
    "# model = Wrapper()\n",
    "# model.execute(X, y, fold_seed=102983, seed=787234, n_jobs=-1, progress_bar=True)"
   ]
  },
  {
   "cell_type": "markdown",
   "metadata": {},
   "source": [
    "### Run all models"
   ]
  },
  {
   "cell_type": "code",
   "execution_count": 5,
   "metadata": {},
   "outputs": [
    {
     "name": "stderr",
     "output_type": "stream",
     "text": [
      "100%|██████████| 8/8 [00:15<00:00,  1.89s/it]\n"
     ]
    }
   ],
   "source": [
    "results = execute_all_models(X, y)"
   ]
  },
  {
   "cell_type": "code",
   "execution_count": 6,
   "metadata": {},
   "outputs": [
    {
     "name": "stdout",
     "output_type": "stream",
     "text": [
      "filter\n",
      "{'%corr_feat': 0.3404255319148936, '%feat_found': 0.64, '%bias_found': 0.6611111111111111}\n",
      "fast_wrapper\n",
      "{'%corr_feat': 0.37037037037037035, '%feat_found': 0.4, '%bias_found': 0.4011111111111111}\n",
      "slow_wrapper\n",
      "{'%corr_feat': 0.391304347826087, '%feat_found': 0.36, '%bias_found': 0.38666666666666666}\n",
      "random\n",
      "{'%corr_feat': 0, '%feat_found': 0.0, '%bias_found': 0.0}\n",
      "pseudo_random\n",
      "{'%corr_feat': 0, '%feat_found': 0.0, '%bias_found': 0.0}\n"
     ]
    }
   ],
   "source": [
    "for name, res in results.items():\n",
    "    print(name)\n",
    "    print(compare_results(res, ground_truth))"
   ]
  },
  {
   "cell_type": "code",
   "execution_count": 7,
   "metadata": {},
   "outputs": [
    {
     "name": "stderr",
     "output_type": "stream",
     "text": [
      "Acc: 0.51 (max: 0.58, #f: 52): 100%|██████████| 30/30 [03:01<00:00,  6.04s/it]\n"
     ]
    }
   ],
   "source": [
    "gen_features = GeneticModel(n_gen_data=5, num_penalty=0.0001).execute(X, y, n_jobs=-1)"
   ]
  },
  {
   "cell_type": "code",
   "execution_count": 9,
   "metadata": {},
   "outputs": [
    {
     "data": {
      "text/plain": [
       "{'%corr_feat': 0.8, '%feat_found': 0.32, '%bias_found': 0.3422222222222222}"
      ]
     },
     "execution_count": 9,
     "metadata": {},
     "output_type": "execute_result"
    }
   ],
   "source": [
    "compare_results(gen_features, ground_truth)"
   ]
  }
 ],
 "metadata": {
  "kernelspec": {
   "display_name": "Python 3",
   "language": "python",
   "name": "python3"
  },
  "language_info": {
   "codemirror_mode": {
    "name": "ipython",
    "version": 3
   },
   "file_extension": ".py",
   "mimetype": "text/x-python",
   "name": "python",
   "nbconvert_exporter": "python",
   "pygments_lexer": "ipython3",
   "version": "3.9.7"
  }
 },
 "nbformat": 4,
 "nbformat_minor": 4
}
