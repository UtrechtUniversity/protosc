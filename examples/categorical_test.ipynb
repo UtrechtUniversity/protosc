{
 "cells": [
  {
   "cell_type": "code",
   "execution_count": 1,
   "metadata": {},
   "outputs": [],
   "source": [
    "from protosc.simulation import create_categorical_data, compare_models\n",
    "from protosc.model.wrapper import Wrapper\n",
    "from protosc.model.filter import filter_model\n",
    "from protosc.model.shell_all_models import execute_all_models\n",
    "import pandas as pd\n",
    "import numpy as np"
   ]
  },
  {
   "cell_type": "code",
   "execution_count": 2,
   "metadata": {},
   "outputs": [
    {
     "name": "stdout",
     "output_type": "stream",
     "text": [
      "ground truth #features: 25\n"
     ]
    }
   ],
   "source": [
    "X, y, ground_truth = create_categorical_data(min_dev=10, max_dev=20, n_categories=3, seed=1234)\n",
    "print(f'ground truth #features: {len(ground_truth[\"selected_features\"])}')\n",
    "# X, y, ground_truth = create_correlated_data()"
   ]
  },
  {
   "cell_type": "code",
   "execution_count": 3,
   "metadata": {},
   "outputs": [
    {
     "name": "stderr",
     "output_type": "stream",
     "text": [
      "100%|██████████| 8/8 [00:04<00:00,  1.95it/s]\n"
     ]
    },
    {
     "data": {
      "text/plain": [
       "[{'features': [277, 171, 426], 'accuracy': 0.6274509803921569},\n",
       " {'features': [462, 176, 229, 354, 42], 'accuracy': 0.6140350877192983},\n",
       " {'features': [171, 158], 'accuracy': 0.5},\n",
       " {'features': [321, 423], 'accuracy': 0.6041666666666666},\n",
       " {'features': [426, 319, 16, 31], 'accuracy': 0.5789473684210527},\n",
       " {'features': [7, 475], 'accuracy': 0.47058823529411764},\n",
       " {'features': [277, 158, 405], 'accuracy': 0.6153846153846154},\n",
       " {'features': [424], 'accuracy': 0.48148148148148145}]"
      ]
     },
     "execution_count": 3,
     "metadata": {},
     "output_type": "execute_result"
    }
   ],
   "source": [
    "model = Wrapper()\n",
    "model.execute(X, y, fold_seed=102983, seed=787234, n_jobs=-1, progress_bar=True)"
   ]
  },
  {
   "cell_type": "markdown",
   "metadata": {},
   "source": [
    "### Run all models"
   ]
  },
  {
   "cell_type": "code",
   "execution_count": 4,
   "metadata": {},
   "outputs": [
    {
     "name": "stderr",
     "output_type": "stream",
     "text": [
      "100%|██████████| 8/8 [00:18<00:00,  2.27s/it]\n"
     ]
    },
    {
     "data": {
      "text/html": [
       "<div>\n",
       "<style scoped>\n",
       "    .dataframe tbody tr th:only-of-type {\n",
       "        vertical-align: middle;\n",
       "    }\n",
       "\n",
       "    .dataframe tbody tr th {\n",
       "        vertical-align: top;\n",
       "    }\n",
       "\n",
       "    .dataframe thead th {\n",
       "        text-align: right;\n",
       "    }\n",
       "</style>\n",
       "<table border=\"1\" class=\"dataframe\">\n",
       "  <thead>\n",
       "    <tr style=\"text-align: right;\">\n",
       "      <th></th>\n",
       "      <th>filter</th>\n",
       "      <th>fast_wrapper</th>\n",
       "      <th>slow_wrapper</th>\n",
       "      <th>random</th>\n",
       "      <th>pseudo_random</th>\n",
       "    </tr>\n",
       "  </thead>\n",
       "  <tbody>\n",
       "    <tr>\n",
       "      <th>features</th>\n",
       "      <td>[[176, 288, 91, 42, 379, 80, 167, 487, 403, 16...</td>\n",
       "      <td>[[176, 91, 167, 426, 99, 31], [451, 274, 74, 1...</td>\n",
       "      <td>[[91, 171], [196], [74, 423, 274, 226, 451, 33...</td>\n",
       "      <td>[[403, 309, 364, 499, 138, 474, 58, 71, 46, 31...</td>\n",
       "      <td>[[309, 364, 499, 138, 474, 58, 46, 315, 370, 3...</td>\n",
       "    </tr>\n",
       "    <tr>\n",
       "      <th>accuracy</th>\n",
       "      <td>[0.29411764705882354, 0.2807017543859649, 0.37...</td>\n",
       "      <td>[0.47058823529411764, 0.5087719298245614, 0.53...</td>\n",
       "      <td>[0.5490196078431373, 0.45614035087719296, 0.55...</td>\n",
       "      <td>[0.27450980392156865, 0.22807017543859648, 0.4...</td>\n",
       "      <td>[0.2549019607843137, 0.22807017543859648, 0.29...</td>\n",
       "    </tr>\n",
       "    <tr>\n",
       "      <th>recurring</th>\n",
       "      <td>[91, 288, 423, 451]</td>\n",
       "      <td>[]</td>\n",
       "      <td>[]</td>\n",
       "      <td>[]</td>\n",
       "      <td>[]</td>\n",
       "    </tr>\n",
       "  </tbody>\n",
       "</table>\n",
       "</div>"
      ],
      "text/plain": [
       "                                                      filter  \\\n",
       "features   [[176, 288, 91, 42, 379, 80, 167, 487, 403, 16...   \n",
       "accuracy   [0.29411764705882354, 0.2807017543859649, 0.37...   \n",
       "recurring                                [91, 288, 423, 451]   \n",
       "\n",
       "                                                fast_wrapper  \\\n",
       "features   [[176, 91, 167, 426, 99, 31], [451, 274, 74, 1...   \n",
       "accuracy   [0.47058823529411764, 0.5087719298245614, 0.53...   \n",
       "recurring                                                 []   \n",
       "\n",
       "                                                slow_wrapper  \\\n",
       "features   [[91, 171], [196], [74, 423, 274, 226, 451, 33...   \n",
       "accuracy   [0.5490196078431373, 0.45614035087719296, 0.55...   \n",
       "recurring                                                 []   \n",
       "\n",
       "                                                      random  \\\n",
       "features   [[403, 309, 364, 499, 138, 474, 58, 71, 46, 31...   \n",
       "accuracy   [0.27450980392156865, 0.22807017543859648, 0.4...   \n",
       "recurring                                                 []   \n",
       "\n",
       "                                               pseudo_random  \n",
       "features   [[309, 364, 499, 138, 474, 58, 46, 315, 370, 3...  \n",
       "accuracy   [0.2549019607843137, 0.22807017543859648, 0.29...  \n",
       "recurring                                                 []  "
      ]
     },
     "execution_count": 4,
     "metadata": {},
     "output_type": "execute_result"
    }
   ],
   "source": [
    "out = execute_all_models(X, y)\n",
    "pd.DataFrame(out)"
   ]
  },
  {
   "cell_type": "markdown",
   "metadata": {},
   "source": [
    "## Compare models\n",
    "* Percentage of features correct: n_correct_selected/(n_correct_selected+n_false_selected)\n",
    "* Percentage of features found: n_correct_selected/n_total_features\n",
    "* Percentage of bias found: selected_bias/total_bias"
   ]
  },
  {
   "cell_type": "code",
   "execution_count": 5,
   "metadata": {},
   "outputs": [
    {
     "data": {
      "text/html": [
       "<div>\n",
       "<style scoped>\n",
       "    .dataframe tbody tr th:only-of-type {\n",
       "        vertical-align: middle;\n",
       "    }\n",
       "\n",
       "    .dataframe tbody tr th {\n",
       "        vertical-align: top;\n",
       "    }\n",
       "\n",
       "    .dataframe thead th {\n",
       "        text-align: right;\n",
       "    }\n",
       "</style>\n",
       "<table border=\"1\" class=\"dataframe\">\n",
       "  <thead>\n",
       "    <tr style=\"text-align: right;\">\n",
       "      <th></th>\n",
       "      <th>filter</th>\n",
       "      <th>fast_wrapper</th>\n",
       "      <th>slow_wrapper</th>\n",
       "      <th>random</th>\n",
       "      <th>pseudo_random</th>\n",
       "    </tr>\n",
       "  </thead>\n",
       "  <tbody>\n",
       "    <tr>\n",
       "      <th>%corr_feat</th>\n",
       "      <td>0.318705</td>\n",
       "      <td>0.543885</td>\n",
       "      <td>0.118056</td>\n",
       "      <td>0.119847</td>\n",
       "      <td>0.031563</td>\n",
       "    </tr>\n",
       "    <tr>\n",
       "      <th>%feat_found</th>\n",
       "      <td>0.515000</td>\n",
       "      <td>0.465000</td>\n",
       "      <td>0.085000</td>\n",
       "      <td>0.215000</td>\n",
       "      <td>0.050000</td>\n",
       "    </tr>\n",
       "    <tr>\n",
       "      <th>%bias_found</th>\n",
       "      <td>0.569306</td>\n",
       "      <td>0.520694</td>\n",
       "      <td>0.094444</td>\n",
       "      <td>0.224167</td>\n",
       "      <td>0.043750</td>\n",
       "    </tr>\n",
       "    <tr>\n",
       "      <th>mean_acc</th>\n",
       "      <td>0.319107</td>\n",
       "      <td>0.540785</td>\n",
       "      <td>0.560448</td>\n",
       "      <td>0.322802</td>\n",
       "      <td>0.307420</td>\n",
       "    </tr>\n",
       "  </tbody>\n",
       "</table>\n",
       "</div>"
      ],
      "text/plain": [
       "               filter  fast_wrapper  slow_wrapper    random  pseudo_random\n",
       "%corr_feat   0.318705      0.543885      0.118056  0.119847       0.031563\n",
       "%feat_found  0.515000      0.465000      0.085000  0.215000       0.050000\n",
       "%bias_found  0.569306      0.520694      0.094444  0.224167       0.043750\n",
       "mean_acc     0.319107      0.540785      0.560448  0.322802       0.307420"
      ]
     },
     "execution_count": 5,
     "metadata": {},
     "output_type": "execute_result"
    }
   ],
   "source": [
    "compare = compare_models(out, ground_truth, mean=True)\n",
    "pd.DataFrame(compare)"
   ]
  },
  {
   "cell_type": "markdown",
   "metadata": {},
   "source": [
    "### Filter model"
   ]
  },
  {
   "cell_type": "code",
   "execution_count": 6,
   "metadata": {},
   "outputs": [
    {
     "data": {
      "text/html": [
       "<div>\n",
       "<style scoped>\n",
       "    .dataframe tbody tr th:only-of-type {\n",
       "        vertical-align: middle;\n",
       "    }\n",
       "\n",
       "    .dataframe tbody tr th {\n",
       "        vertical-align: top;\n",
       "    }\n",
       "\n",
       "    .dataframe thead th {\n",
       "        text-align: right;\n",
       "    }\n",
       "</style>\n",
       "<table border=\"1\" class=\"dataframe\">\n",
       "  <thead>\n",
       "    <tr style=\"text-align: right;\">\n",
       "      <th></th>\n",
       "      <th>Features</th>\n",
       "      <th>Accuracy</th>\n",
       "    </tr>\n",
       "  </thead>\n",
       "  <tbody>\n",
       "    <tr>\n",
       "      <th>0</th>\n",
       "      <td>[176, 288, 91, 42, 379, 80, 167, 487, 403, 16,...</td>\n",
       "      <td>0.294118</td>\n",
       "    </tr>\n",
       "    <tr>\n",
       "      <th>1</th>\n",
       "      <td>[451, 274, 74, 122, 185, 231, 281, 423, 83, 22...</td>\n",
       "      <td>0.280702</td>\n",
       "    </tr>\n",
       "    <tr>\n",
       "      <th>2</th>\n",
       "      <td>[74, 423, 274, 226, 451, 334, 185, 281, 83, 12...</td>\n",
       "      <td>0.370370</td>\n",
       "    </tr>\n",
       "    <tr>\n",
       "      <th>3</th>\n",
       "      <td>[42, 91, 288, 218, 229, 407, 274, 151, 304, 27...</td>\n",
       "      <td>0.395833</td>\n",
       "    </tr>\n",
       "    <tr>\n",
       "      <th>4</th>\n",
       "      <td>[423, 274, 451, 74, 185, 226, 281, 83, 122, 33...</td>\n",
       "      <td>0.333333</td>\n",
       "    </tr>\n",
       "    <tr>\n",
       "      <th>5</th>\n",
       "      <td>[185, 274, 451, 423, 334, 240, 281, 74, 226, 3...</td>\n",
       "      <td>0.274510</td>\n",
       "    </tr>\n",
       "    <tr>\n",
       "      <th>6</th>\n",
       "      <td>[74, 451, 185, 274, 423, 226, 334, 231, 122, 2...</td>\n",
       "      <td>0.307692</td>\n",
       "    </tr>\n",
       "    <tr>\n",
       "      <th>7</th>\n",
       "      <td>[423, 274, 226, 194, 451, 185, 83, 74, 334, 28...</td>\n",
       "      <td>0.296296</td>\n",
       "    </tr>\n",
       "  </tbody>\n",
       "</table>\n",
       "</div>"
      ],
      "text/plain": [
       "                                            Features  Accuracy\n",
       "0  [176, 288, 91, 42, 379, 80, 167, 487, 403, 16,...  0.294118\n",
       "1  [451, 274, 74, 122, 185, 231, 281, 423, 83, 22...  0.280702\n",
       "2  [74, 423, 274, 226, 451, 334, 185, 281, 83, 12...  0.370370\n",
       "3  [42, 91, 288, 218, 229, 407, 274, 151, 304, 27...  0.395833\n",
       "4  [423, 274, 451, 74, 185, 226, 281, 83, 122, 33...  0.333333\n",
       "5  [185, 274, 451, 423, 334, 240, 281, 74, 226, 3...  0.274510\n",
       "6  [74, 451, 185, 274, 423, 226, 334, 231, 122, 2...  0.307692\n",
       "7  [423, 274, 226, 194, 451, 185, 83, 74, 334, 28...  0.296296"
      ]
     },
     "execution_count": 6,
     "metadata": {},
     "output_type": "execute_result"
    }
   ],
   "source": [
    "# Run filter method\n",
    "filter_res = filter_model(X, y, fold_seed = 1234)\n",
    "df = pd.DataFrame(filter_res)\n",
    "df = df.rename(columns={0: 'Features', 1: 'Accuracy'})\n",
    "df"
   ]
  },
  {
   "cell_type": "markdown",
   "metadata": {},
   "source": [
    "### Wrapper model\n",
    "#### Fast method (add immediately when cluster increases accuracy)"
   ]
  },
  {
   "cell_type": "code",
   "execution_count": 7,
   "metadata": {},
   "outputs": [
    {
     "ename": "AttributeError",
     "evalue": "'list' object has no attribute 'items'",
     "output_type": "error",
     "traceback": [
      "\u001b[0;31m---------------------------------------------------------------------------\u001b[0m",
      "\u001b[0;31mAttributeError\u001b[0m                            Traceback (most recent call last)",
      "\u001b[0;32m<ipython-input-7-d257254bd4c5>\u001b[0m in \u001b[0;36m<module>\u001b[0;34m\u001b[0m\n\u001b[1;32m      4\u001b[0m \u001b[0;34m\u001b[0m\u001b[0m\n\u001b[1;32m      5\u001b[0m \u001b[0;31m# Print outcome in dataframe\u001b[0m\u001b[0;34m\u001b[0m\u001b[0;34m\u001b[0m\u001b[0m\n\u001b[0;32m----> 6\u001b[0;31m \u001b[0mdf\u001b[0m \u001b[0;34m=\u001b[0m \u001b[0mpd\u001b[0m\u001b[0;34m.\u001b[0m\u001b[0mDataFrame\u001b[0m\u001b[0;34m(\u001b[0m\u001b[0;34m[\u001b[0m\u001b[0mvalue\u001b[0m \u001b[0;32mfor\u001b[0m \u001b[0mkey\u001b[0m\u001b[0;34m,\u001b[0m \u001b[0mvalue\u001b[0m \u001b[0;32min\u001b[0m \u001b[0mout_fast\u001b[0m\u001b[0;34m.\u001b[0m\u001b[0mitems\u001b[0m\u001b[0;34m(\u001b[0m\u001b[0;34m)\u001b[0m \u001b[0;32mif\u001b[0m \u001b[0mkey\u001b[0m \u001b[0;34m!=\u001b[0m \u001b[0;34m'recurring'\u001b[0m\u001b[0;34m]\u001b[0m\u001b[0;34m)\u001b[0m\u001b[0;34m.\u001b[0m\u001b[0mT\u001b[0m\u001b[0;34m\u001b[0m\u001b[0;34m\u001b[0m\u001b[0m\n\u001b[0m\u001b[1;32m      7\u001b[0m \u001b[0mdf\u001b[0m \u001b[0;34m=\u001b[0m \u001b[0mdf\u001b[0m\u001b[0;34m.\u001b[0m\u001b[0mrename\u001b[0m\u001b[0;34m(\u001b[0m\u001b[0mcolumns\u001b[0m\u001b[0;34m=\u001b[0m\u001b[0;34m{\u001b[0m\u001b[0;36m0\u001b[0m\u001b[0;34m:\u001b[0m \u001b[0;34m'Model'\u001b[0m\u001b[0;34m,\u001b[0m \u001b[0;36m1\u001b[0m\u001b[0;34m:\u001b[0m \u001b[0;34m'Features'\u001b[0m\u001b[0;34m,\u001b[0m \u001b[0;36m2\u001b[0m\u001b[0;34m:\u001b[0m \u001b[0;34m'Accuracy'\u001b[0m\u001b[0;34m,\u001b[0m \u001b[0;36m3\u001b[0m\u001b[0;34m:\u001b[0m \u001b[0;34m'Accuracy'\u001b[0m\u001b[0;34m}\u001b[0m\u001b[0;34m)\u001b[0m\u001b[0;34m\u001b[0m\u001b[0;34m\u001b[0m\u001b[0m\n\u001b[1;32m      8\u001b[0m \u001b[0;32mtry\u001b[0m\u001b[0;34m:\u001b[0m\u001b[0;34m\u001b[0m\u001b[0;34m\u001b[0m\u001b[0m\n",
      "\u001b[0;31mAttributeError\u001b[0m: 'list' object has no attribute 'items'"
     ]
    }
   ],
   "source": [
    "# Run fast wrapper method (add immediately = True)\n",
    "fast = Wrapper(n=10, add_im=True)\n",
    "out_fast = fast.execute(X, y, fold_seed=1234)\n",
    "\n",
    "# Print outcome in dataframe\n",
    "df = pd.DataFrame([value for key, value in out_fast.items() if key != 'recurring']).T\n",
    "df = df.rename(columns={0: 'Model', 1: 'Features', 2: 'Accuracy', 3: 'Accuracy'})\n",
    "try:\n",
    "    df['Recurring features'] = [out_fast['recurring']] * len(df)\n",
    "except KeyError:\n",
    "    pass\n",
    "df"
   ]
  },
  {
   "cell_type": "code",
   "execution_count": null,
   "metadata": {},
   "outputs": [],
   "source": [
    "out_fast"
   ]
  },
  {
   "cell_type": "markdown",
   "metadata": {},
   "source": [
    "#### Slow method (add cluster with highest accuracy)"
   ]
  },
  {
   "cell_type": "code",
   "execution_count": null,
   "metadata": {},
   "outputs": [],
   "source": [
    "# Run fast wrapper method (add immediately = False)\n",
    "slow = Wrapper(n=10, add_im=False)\n",
    "out_slow = slow.execute(X, y, fold_seed=1234, n_jobs=-1)\n",
    "\n",
    "# Print outcome in dataframe\n",
    "df = pd.DataFrame([value for key, value in out_slow.items() if key != 'recurring']).T\n",
    "df = df.rename(columns={0: 'Model', 1: 'Features', 2: 'Accuracy', 3: 'Accuracy'})\n",
    "try:\n",
    "    df['Recurring features'] = [out_slow['recurring']] * len(df)\n",
    "except KeyError:\n",
    "    pass\n",
    "df"
   ]
  },
  {
   "cell_type": "code",
   "execution_count": null,
   "metadata": {},
   "outputs": [],
   "source": []
  }
 ],
 "metadata": {
  "kernelspec": {
   "display_name": "Python 3",
   "language": "python",
   "name": "python3"
  },
  "language_info": {
   "codemirror_mode": {
    "name": "ipython",
    "version": 3
   },
   "file_extension": ".py",
   "mimetype": "text/x-python",
   "name": "python",
   "nbconvert_exporter": "python",
   "pygments_lexer": "ipython3",
   "version": "3.6.12"
  }
 },
 "nbformat": 4,
 "nbformat_minor": 4
}
