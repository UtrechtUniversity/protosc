{
 "cells": [
  {
   "cell_type": "code",
   "execution_count": 1,
   "metadata": {},
   "outputs": [],
   "source": [
    "from pathlib import Path\n",
    "import itertools\n",
    "from matplotlib import pyplot as plt\n",
    "\n",
    "stim_data_dir = Path(\"..\", \"data\", \"Nimstim faces\")\n",
    "grayscale = True\n",
    "\n",
    "open_files = [x for x in stim_data_dir.glob(\"*_O.bmp\")]\n",
    "closed_files = [x for x in stim_data_dir.glob(\"*_C.bmp\")]\n",
    "\n",
    "#     img = open_files[0]\n",
    "data_file = list(itertools.islice(open_files, 1))[0]\n"
   ]
  },
  {
   "cell_type": "code",
   "execution_count": 2,
   "metadata": {},
   "outputs": [],
   "source": [
    "from protosc.preprocessing import GreyScale, ViolaJones, CutCircle\n",
    "from protosc.pipe_complex import PipeComplex\n",
    "from protosc.feature_extraction import FourierFeatures\n",
    "from protosc.io import ReadImage"
   ]
  },
  {
   "cell_type": "code",
   "execution_count": 5,
   "metadata": {
    "scrolled": true
   },
   "outputs": [
    {
     "name": "stdout",
     "output_type": "stream",
     "text": [
      "Pipe: ReadImage -> ViolaJones_20 -> CutCircle -> FourierFeatures_a8s7\n",
      "Pipe: ReadImage -> ViolaJones_10 -> CutCircle -> FourierFeatures_a8s7\n",
      "Pipe: ReadImage -> CutCircle -> FourierFeatures_a8s7\n"
     ]
    }
   ],
   "source": [
    "pipe1 = ReadImage()*(ViolaJones()+ViolaJones(10))*CutCircle()*FourierFeatures()\n",
    "pipe3 = ReadImage()*CutCircle()*FourierFeatures()\n",
    "pipe_complex = pipe1 + pipe3\n",
    "print(pipe_complex)"
   ]
  },
  {
   "cell_type": "code",
   "execution_count": null,
   "metadata": {},
   "outputs": [],
   "source": [
    "images = pipe_complex.execute(open_files, max_depth=1)"
   ]
  }
 ],
 "metadata": {
  "kernelspec": {
   "display_name": "Python 3",
   "language": "python",
   "name": "python3"
  },
  "language_info": {
   "codemirror_mode": {
    "name": "ipython",
    "version": 3
   },
   "file_extension": ".py",
   "mimetype": "text/x-python",
   "name": "python",
   "nbconvert_exporter": "python",
   "pygments_lexer": "ipython3",
   "version": "3.9.1"
  }
 },
 "nbformat": 4,
 "nbformat_minor": 4
}
