{
 "cells": [
  {
   "cell_type": "code",
   "execution_count": 1,
   "metadata": {},
   "outputs": [],
   "source": [
    "from pathlib import Path\n",
    "import itertools\n",
    "from matplotlib import pyplot as plt\n",
    "\n",
    "stim_data_dir = Path(\"..\", \"data\", \"Nimstim faces\")\n",
    "grayscale = True\n",
    "\n",
    "open_files = [x for x in stim_data_dir.glob(\"*_O.bmp\")]\n",
    "closed_files = [x for x in stim_data_dir.glob(\"*_C.bmp\")]\n",
    "\n",
    "#     img = open_files[0]\n",
    "data_file = list(itertools.islice(open_files, 1))[0]\n"
   ]
  },
  {
   "cell_type": "code",
   "execution_count": 2,
   "metadata": {},
   "outputs": [],
   "source": [
    "from protosc.preprocessing import GreyScale, ViolaJones, CutCircle\n",
    "from protosc.pipe_complex import PipeComplex\n",
    "from protosc.feature_extraction import FourierFeatures\n",
    "from protosc.io import ReadImage"
   ]
  },
  {
   "cell_type": "code",
   "execution_count": 3,
   "metadata": {},
   "outputs": [],
   "source": [
    "pipe1 = ReadImage()*GreyScale()*ViolaJones()*CutCircle()*FourierFeatures()\n",
    "pipe2 = ReadImage()*GreyScale()*ViolaJones(10)*FourierFeatures()\n",
    "pipe_complex = PipeComplex(pipe1, pipe2)"
   ]
  },
  {
   "cell_type": "code",
   "execution_count": 4,
   "metadata": {},
   "outputs": [
    {
     "name": "stdout",
     "output_type": "stream",
     "text": [
      "(200, 200, 1)\n"
     ]
    },
    {
     "data": {
      "text/plain": [
       "{'ReadImage+GreyScale+ViolaJones_20+CutCircle+FourierFeatures_a8s7': array([[ 4.91190792e+01-1.52831981e+03j],\n",
       "        [-5.36231511e+03+3.09737553e+02j],\n",
       "        [-2.87874849e+05+8.52651283e-13j],\n",
       "        [-5.36231511e+03-3.09737553e+02j],\n",
       "        [-2.11002459e+04+1.52831981e+03j],\n",
       "        [-1.13639961e+03-2.88565938e+02j],\n",
       "        [-2.97408450e+05-7.95807864e-13j],\n",
       "        [-1.13639961e+03+2.88565938e+02j],\n",
       "        [-1.68921157e+03+2.67709693e+02j],\n",
       "        [ 6.84538296e+03-8.61564920e+02j],\n",
       "        [-3.04860533e+05-1.13686838e-12j],\n",
       "        [ 6.84538296e+03+8.61564920e+02j],\n",
       "        [-1.68921157e+03-2.67709693e+02j],\n",
       "        [ 5.76851739e+03-8.18264599e+02j],\n",
       "        [-3.00977842e+05-7.24753590e-13j],\n",
       "        [ 5.76851739e+03+8.18264599e+02j],\n",
       "        [ 4.57737428e+02+3.11816081e+02j],\n",
       "        [ 6.81953726e+03+1.30123150e+03j],\n",
       "        [-3.07437053e+05+1.47792889e-12j],\n",
       "        [ 6.81953726e+03-1.30123150e+03j],\n",
       "        [ 4.57737428e+02-3.11816081e+02j],\n",
       "        [-2.80089166e+03-9.86304010e+02j],\n",
       "        [-2.93532729e+05+2.50111043e-12j],\n",
       "        [-2.80089166e+03+9.86304010e+02j],\n",
       "        [-1.39247956e+03+5.88307079e+02j],\n",
       "        [ 1.25308233e+04-4.45017781e+02j],\n",
       "        [-3.36864042e+05+2.38742359e-12j],\n",
       "        [ 1.25308233e+04+4.45017781e+02j],\n",
       "        [-1.39247956e+03-5.88307079e+02j],\n",
       "        [ 8.71710125e+02+3.59069012e+02j],\n",
       "        [-3.23234271e+05+3.12638804e-12j],\n",
       "        [ 8.71710125e+02-3.59069012e+02j],\n",
       "        [-5.82590645e+02-6.67764114e+02j],\n",
       "        [-1.56254042e+04+2.84862099e+03j],\n",
       "        [-2.78852263e+05+6.59383659e-12j],\n",
       "        [-1.56254042e+04-2.84862099e+03j],\n",
       "        [-5.82590645e+02+6.67764114e+02j],\n",
       "        [-2.82987380e+03-4.50406623e+03j],\n",
       "        [-2.78501333e+05+1.13686838e-12j],\n",
       "        [-2.82987380e+03+4.50406623e+03j],\n",
       "        [ 1.06180254e+03-4.02122251e+02j],\n",
       "        [ 2.22957161e+04-7.29457363e+02j],\n",
       "        [-2.71914622e+05-1.13686838e-13j],\n",
       "        [ 2.22957161e+04+7.29457363e+02j],\n",
       "        [ 1.06180254e+03+4.02122251e+02j],\n",
       "        [ 3.21634555e+04-1.56474592e+03j],\n",
       "        [-2.89755885e+05+4.14956958e-12j],\n",
       "        [ 3.21634555e+04+1.56474592e+03j],\n",
       "        [-9.65856378e+02+1.80591695e+02j],\n",
       "        [-2.39437209e+04+1.55849975e+03j],\n",
       "        [ 1.04638724e+05-1.42108547e-12j],\n",
       "        [-2.39437209e+04-1.55849975e+03j],\n",
       "        [-9.65856378e+02-1.80591695e+02j],\n",
       "        [-3.70168712e+04-4.17971086e+03j],\n",
       "        [ 1.18828529e+05-3.52429197e-12j],\n",
       "        [-3.70168712e+04+4.17971086e+03j]]),\n",
       " 'ReadImage+GreyScale+ViolaJones_10+FourierFeatures_a8s7': array([[ 4.63413299e+04-2.49176951e+04j],\n",
       "        [ 6.54984144e+04-1.40416391e+04j],\n",
       "        [ 1.96985618e+05-4.54747351e-13j],\n",
       "        [ 6.54984144e+04+1.40416391e+04j],\n",
       "        [ 3.43746949e+04+2.49176951e+04j],\n",
       "        [ 3.76561570e+04+1.56218224e+04j],\n",
       "        [-2.80840295e+05+9.09494702e-13j],\n",
       "        [ 3.76561570e+04-1.56218224e+04j],\n",
       "        [ 1.61703657e+04-4.82715285e+04j],\n",
       "        [-2.14744614e+04-1.60295630e+03j],\n",
       "        [ 3.52198666e+05+9.23705556e-14j],\n",
       "        [-2.14744614e+04+1.60295630e+03j],\n",
       "        [ 1.61703657e+04+4.82715285e+04j],\n",
       "        [ 3.61169328e+03+2.51309250e+04j],\n",
       "        [-2.84117108e+05+1.29318778e-12j],\n",
       "        [ 3.61169328e+03-2.51309250e+04j],\n",
       "        [-9.30258127e+03-5.88965190e+04j],\n",
       "        [ 1.64604327e+03+2.70107711e+03j],\n",
       "        [ 3.45822209e+05+1.93267624e-12j],\n",
       "        [ 1.64604327e+03-2.70107711e+03j],\n",
       "        [-9.30258127e+03+5.88965190e+04j],\n",
       "        [ 6.95748924e+01+5.79227519e+03j],\n",
       "        [-2.89268798e+05+1.98951966e-13j],\n",
       "        [ 6.95748924e+01-5.79227519e+03j],\n",
       "        [-3.68585714e+04-3.00450247e+04j],\n",
       "        [ 2.34936851e+03+4.65134904e+02j],\n",
       "        [ 3.67915825e+05-5.45696821e-12j],\n",
       "        [ 2.34936851e+03-4.65134904e+02j],\n",
       "        [-3.68585714e+04+3.00450247e+04j],\n",
       "        [ 6.00261760e+03-2.77383300e+03j],\n",
       "        [ 6.48733852e+02+2.50111043e-12j],\n",
       "        [ 6.00261760e+03+2.77383300e+03j],\n",
       "        [-2.91887947e+04-1.83631721e+04j],\n",
       "        [-1.24550883e+02+1.67771588e+02j],\n",
       "        [ 3.28599461e+05-6.82121026e-13j],\n",
       "        [-1.24550883e+02-1.67771588e+02j],\n",
       "        [-2.91887947e+04+1.83631721e+04j],\n",
       "        [ 4.57062445e+03+1.87358420e+03j],\n",
       "        [ 3.69114739e+05+3.89377419e-12j],\n",
       "        [ 4.57062445e+03-1.87358420e+03j],\n",
       "        [-1.77929445e+04-8.85366229e+03j],\n",
       "        [-1.01196974e+03+2.02050564e+03j],\n",
       "        [ 3.48803233e+05+1.15107923e-12j],\n",
       "        [-1.01196974e+03-2.02050564e+03j],\n",
       "        [-1.77929445e+04+8.85366229e+03j],\n",
       "        [ 1.29751486e+04-1.54061212e+03j],\n",
       "        [ 3.49315118e+05+6.82121026e-13j],\n",
       "        [ 1.29751486e+04+1.54061212e+03j],\n",
       "        [-2.71615826e+04-5.09866205e+03j],\n",
       "        [ 1.89351981e+03-3.45007244e+03j],\n",
       "        [ 3.32954556e+05-2.50111043e-12j],\n",
       "        [ 1.89351981e+03+3.45007244e+03j],\n",
       "        [-2.71615826e+04+5.09866205e+03j],\n",
       "        [ 2.76169299e+04+1.32425281e+04j],\n",
       "        [ 3.08030033e+05-2.27373675e-12j],\n",
       "        [ 2.76169299e+04-1.32425281e+04j]])}"
      ]
     },
     "execution_count": 4,
     "metadata": {},
     "output_type": "execute_result"
    }
   ],
   "source": [
    "pipe_complex.execute(data_file)"
   ]
  },
  {
   "cell_type": "code",
   "execution_count": 5,
   "metadata": {},
   "outputs": [
    {
     "ename": "NameError",
     "evalue": "name 'pipe' is not defined",
     "output_type": "error",
     "traceback": [
      "\u001b[0;31m---------------------------------------------------------------------------\u001b[0m",
      "\u001b[0;31mNameError\u001b[0m                                 Traceback (most recent call last)",
      "\u001b[0;32m<ipython-input-5-691d9ee9df63>\u001b[0m in \u001b[0;36m<module>\u001b[0;34m\u001b[0m\n\u001b[0;32m----> 1\u001b[0;31m \u001b[0mprint\u001b[0m\u001b[0;34m(\u001b[0m\u001b[0mpipe\u001b[0m\u001b[0;34m)\u001b[0m\u001b[0;34m\u001b[0m\u001b[0;34m\u001b[0m\u001b[0m\n\u001b[0m",
      "\u001b[0;31mNameError\u001b[0m: name 'pipe' is not defined"
     ]
    }
   ],
   "source": [
    "print(pipe)"
   ]
  },
  {
   "cell_type": "code",
   "execution_count": null,
   "metadata": {},
   "outputs": [],
   "source": [
    "images = pipe.execute(open_files, max_depth=1)"
   ]
  },
  {
   "cell_type": "code",
   "execution_count": null,
   "metadata": {},
   "outputs": [],
   "source": [
    "images"
   ]
  },
  {
   "cell_type": "code",
   "execution_count": null,
   "metadata": {},
   "outputs": [],
   "source": [
    "x= {None: \"x\"}"
   ]
  },
  {
   "cell_type": "code",
   "execution_count": null,
   "metadata": {},
   "outputs": [],
   "source": [
    "x = [1,2,3]\n",
    "x.pop()"
   ]
  },
  {
   "cell_type": "code",
   "execution_count": null,
   "metadata": {},
   "outputs": [],
   "source": [
    "x"
   ]
  },
  {
   "cell_type": "code",
   "execution_count": null,
   "metadata": {},
   "outputs": [],
   "source": []
  }
 ],
 "metadata": {
  "kernelspec": {
   "display_name": "Python 3",
   "language": "python",
   "name": "python3"
  },
  "language_info": {
   "codemirror_mode": {
    "name": "ipython",
    "version": 3
   },
   "file_extension": ".py",
   "mimetype": "text/x-python",
   "name": "python",
   "nbconvert_exporter": "python",
   "pygments_lexer": "ipython3",
   "version": "3.9.1"
  }
 },
 "nbformat": 4,
 "nbformat_minor": 4
}
