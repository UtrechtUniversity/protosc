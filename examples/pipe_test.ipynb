{
 "cells": [
  {
   "cell_type": "code",
   "execution_count": 1,
   "metadata": {},
   "outputs": [],
   "source": [
    "from pathlib import Path\n",
    "import numpy as np\n",
    "\n",
    "from nimstim import create_csv\n",
    "from protosc.feature_matrix import FeatureMatrix\n",
    "from protosc.model.filter import FilterModel\n",
    "from protosc.preprocessing import GreyScale, ViolaJones, CutCircle\n",
    "from protosc.feature_extraction import FourierFeatures, HOGFeatures\n",
    "from protosc.io import ReadImage"
   ]
  },
  {
   "cell_type": "code",
   "execution_count": 2,
   "metadata": {},
   "outputs": [],
   "source": [
    "# Set path to folder with faces: stim_data_dir\n",
    "stim_data_dir = Path(\"..\", \"data\", \"Nimstim faces\")"
   ]
  },
  {
   "cell_type": "code",
   "execution_count": 3,
   "metadata": {},
   "outputs": [],
   "source": [
    "# Create overview of all images with their corresponding sex, emotion and mouth positioning\n",
    "overview = create_csv(stim_data_dir)\n",
    "overview = overview.iloc[:50]"
   ]
  },
  {
   "cell_type": "code",
   "execution_count": 4,
   "metadata": {
    "scrolled": true
   },
   "outputs": [],
   "source": [
    "# Define pipeline\n",
    "pipe1 = ReadImage()*ViolaJones(20)*CutCircle()*FourierFeatures()\n",
    "pipe2 = ReadImage()*GreyScale()*ViolaJones(20)*CutCircle()*FourierFeatures()\n",
    "pipe3 = ReadImage()*ViolaJones()*HOGFeatures()\n",
    "pipe_complex = pipe1 + pipe2 + pipe3"
   ]
  },
  {
   "cell_type": "code",
   "execution_count": 5,
   "metadata": {},
   "outputs": [],
   "source": [
    "def select_y(df, **kwargs):\n",
    "    selected = np.ones(len(df), dtype=int)\n",
    "    for col, val in kwargs.items():\n",
    "        selected *= (df[col].values == val).astype(int)\n",
    "    return selected"
   ]
  },
  {
   "cell_type": "code",
   "execution_count": 6,
   "metadata": {},
   "outputs": [],
   "source": [
    "files = overview['file'].values\n",
    "y = select_y(overview, mouth=\"open\")\n",
    "feature_res = pipe_complex.execute(files)"
   ]
  },
  {
   "cell_type": "code",
   "execution_count": 7,
   "metadata": {},
   "outputs": [],
   "source": [
    "X = FeatureMatrix.from_pipe_data(feature_res)"
   ]
  },
  {
   "cell_type": "code",
   "execution_count": 9,
   "metadata": {},
   "outputs": [
    {
     "name": "stderr",
     "output_type": "stream",
     "text": [
      "/home/qubix/Documents/shared_work/protosc/protosc/protosc/model/utils.py:132: RuntimeWarning: divide by zero encountered in true_divide\n",
      "  ts = r * r * (df / (1 - r * r))\n",
      "/home/qubix/Documents/shared_work/protosc/protosc/protosc/model/utils.py:132: RuntimeWarning: divide by zero encountered in true_divide\n",
      "  ts = r * r * (df / (1 - r * r))\n",
      "/home/qubix/Documents/shared_work/protosc/protosc/protosc/model/utils.py:132: RuntimeWarning: divide by zero encountered in true_divide\n",
      "  ts = r * r * (df / (1 - r * r))\n",
      "/home/qubix/Documents/shared_work/protosc/protosc/protosc/model/utils.py:132: RuntimeWarning: divide by zero encountered in true_divide\n",
      "  ts = r * r * (df / (1 - r * r))\n",
      "/home/qubix/Documents/shared_work/protosc/protosc/protosc/model/utils.py:132: RuntimeWarning: divide by zero encountered in true_divide\n",
      "  ts = r * r * (df / (1 - r * r))\n",
      "/home/qubix/Documents/shared_work/protosc/protosc/protosc/model/utils.py:132: RuntimeWarning: divide by zero encountered in true_divide\n",
      "  ts = r * r * (df / (1 - r * r))\n",
      "/home/qubix/Documents/shared_work/protosc/protosc/protosc/model/utils.py:132: RuntimeWarning: divide by zero encountered in true_divide\n",
      "  ts = r * r * (df / (1 - r * r))\n",
      "/home/qubix/Documents/shared_work/protosc/protosc/protosc/model/utils.py:132: RuntimeWarning: divide by zero encountered in true_divide\n",
      "  ts = r * r * (df / (1 - r * r))\n"
     ]
    }
   ],
   "source": [
    "filter_res = FilterModel().execute(X, y, fold_seed=1928742, seed=293884, n_jobs=-1)"
   ]
  },
  {
   "cell_type": "code",
   "execution_count": 10,
   "metadata": {},
   "outputs": [],
   "source": [
    "X.plot(filter_res)"
   ]
  },
  {
   "cell_type": "code",
   "execution_count": null,
   "metadata": {},
   "outputs": [],
   "source": []
  }
 ],
 "metadata": {
  "kernelspec": {
   "display_name": "Python 3",
   "language": "python",
   "name": "python3"
  },
  "language_info": {
   "codemirror_mode": {
    "name": "ipython",
    "version": 3
   },
   "file_extension": ".py",
   "mimetype": "text/x-python",
   "name": "python",
   "nbconvert_exporter": "python",
   "pygments_lexer": "ipython3",
   "version": "3.9.7"
  }
 },
 "nbformat": 4,
 "nbformat_minor": 4
}
