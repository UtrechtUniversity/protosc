{
 "cells": [
  {
   "cell_type": "code",
   "execution_count": 1,
   "metadata": {},
   "outputs": [],
   "source": [
    "from pathlib import Path\n",
    "import itertools\n",
    "from matplotlib import pyplot as plt\n",
    "import pandas as pd\n",
    "import re\n",
    "from nimstim import create_csv\n",
    "import numpy as np\n",
    "from protosc.feature_matrix import FeatureMatrix\n",
    "from protosc.filter_model import select_with_filter\n",
    "from protosc.preprocessing import GreyScale, ViolaJones, CutCircle\n",
    "from protosc.pipe_complex import PipeComplex\n",
    "from protosc.feature_extraction import FourierFeatures, HOGFeatures\n",
    "from protosc.io import ReadImage"
   ]
  },
  {
   "cell_type": "code",
   "execution_count": 2,
   "metadata": {},
   "outputs": [],
   "source": [
    "# Set path to folder with faces: stim_data_dir\n",
    "stim_data_dir = Path(\"..\", \"data\", \"Nimstim faces\")"
   ]
  },
  {
   "cell_type": "code",
   "execution_count": 3,
   "metadata": {},
   "outputs": [],
   "source": [
    "# Create overview of all images with their corresponding sex, emotion and mouth positioning\n",
    "overview = create_csv(stim_data_dir)\n",
    "overview = overview.iloc[:50]"
   ]
  },
  {
   "cell_type": "code",
   "execution_count": 4,
   "metadata": {
    "scrolled": true
   },
   "outputs": [],
   "source": [
    "# Define pipeline\n",
    "pipe1 = ReadImage()*ViolaJones(20)*CutCircle()*FourierFeatures()\n",
    "pipe2 = ReadImage()*GreyScale()*ViolaJones(20)*CutCircle()*FourierFeatures()\n",
    "pipe3 = ReadImage()*ViolaJones()*HOGFeatures()\n",
    "pipe_complex = pipe1 + pipe2 + pipe3"
   ]
  },
  {
   "cell_type": "code",
   "execution_count": 5,
   "metadata": {},
   "outputs": [],
   "source": [
    "def select_y(df, **kwargs):\n",
    "    selected = np.ones(len(df), dtype=int)\n",
    "    for col, val in kwargs.items():\n",
    "        selected *= (df[col].values == val).astype(int)\n",
    "    return selected"
   ]
  },
  {
   "cell_type": "code",
   "execution_count": 6,
   "metadata": {},
   "outputs": [],
   "source": [
    "files = overview['file'].values\n",
    "y = select_y(overview, mouth=\"open\")\n",
    "feature_res = pipe_complex.execute(files)"
   ]
  },
  {
   "cell_type": "code",
   "execution_count": 7,
   "metadata": {},
   "outputs": [],
   "source": [
    "X = FeatureMatrix.from_pipe_data(feature_res)"
   ]
  },
  {
   "cell_type": "code",
   "execution_count": null,
   "metadata": {},
   "outputs": [],
   "source": [
    "np.random.seed(1928794)\n",
    "filter_res = select_with_filter(X, y, fold_seed=1928742)"
   ]
  },
  {
   "cell_type": "code",
   "execution_count": null,
   "metadata": {},
   "outputs": [],
   "source": [
    "X.plot(filter_res)"
   ]
  },
  {
   "cell_type": "code",
   "execution_count": null,
   "metadata": {},
   "outputs": [],
   "source": []
  }
 ],
 "metadata": {
  "kernelspec": {
   "display_name": "Python 3",
   "language": "python",
   "name": "python3"
  },
  "language_info": {
   "codemirror_mode": {
    "name": "ipython",
    "version": 3
   },
   "file_extension": ".py",
   "mimetype": "text/x-python",
   "name": "python",
   "nbconvert_exporter": "python",
   "pygments_lexer": "ipython3",
   "version": "3.9.6"
  }
 },
 "nbformat": 4,
 "nbformat_minor": 4
}
