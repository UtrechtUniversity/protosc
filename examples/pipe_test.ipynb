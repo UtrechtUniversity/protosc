{
 "cells": [
  {
   "cell_type": "code",
   "execution_count": 1,
   "metadata": {},
   "outputs": [],
   "source": [
    "from pathlib import Path\n",
    "import numpy as np\n",
    "\n",
    "from nimstim import create_csv\n",
    "from protosc.feature_matrix import FeatureMatrix\n",
    "from protosc.model.filter import FilterModel\n",
    "from protosc.preprocessing import GreyScale, ViolaJones, CutCircle\n",
    "from protosc.feature_extraction import FourierFeatures, HOGFeatures\n",
    "from protosc.io import ReadImage\n",
    "from protosc.settings import default_visual_pipeline as pipe_complex"
   ]
  },
  {
   "cell_type": "code",
   "execution_count": 2,
   "metadata": {},
   "outputs": [],
   "source": [
    "# Set path to folder with faces: stim_data_dir\n",
    "stim_data_dir = Path(\"..\", \"data\", \"Nimstim faces\")"
   ]
  },
  {
   "cell_type": "code",
   "execution_count": 3,
   "metadata": {},
   "outputs": [],
   "source": [
    "# Create overview of all images with their corresponding sex, emotion and mouth positioning\n",
    "overview = create_csv(stim_data_dir)\n",
    "# overview = overview.iloc[:10]"
   ]
  },
  {
   "cell_type": "code",
   "execution_count": 4,
   "metadata": {},
   "outputs": [],
   "source": [
    "def select_y(df, **kwargs):\n",
    "    selected = np.ones(len(df), dtype=int)\n",
    "    for col, val in kwargs.items():\n",
    "        selected *= (df[col].values == val).astype(int)\n",
    "    return selected"
   ]
  },
  {
   "cell_type": "code",
   "execution_count": 5,
   "metadata": {},
   "outputs": [],
   "source": [
    "files = overview['file'].values\n",
    "y = select_y(overview, mouth=\"open\")\n",
    "feature_res = pipe_complex.execute(files)"
   ]
  },
  {
   "cell_type": "code",
   "execution_count": 6,
   "metadata": {},
   "outputs": [],
   "source": [
    "X = FeatureMatrix.from_pipe_data(feature_res)"
   ]
  },
  {
   "cell_type": "code",
   "execution_count": 7,
   "metadata": {},
   "outputs": [],
   "source": [
    "filter_res = FilterModel().execute(X, y, fold_seed=1928742, seed=293884, n_jobs=-1)"
   ]
  },
  {
   "cell_type": "code",
   "execution_count": 8,
   "metadata": {},
   "outputs": [
    {
     "data": {
      "image/png": "[encoded data removed]",
      "text/plain": [
       "<Figure size 600x400 with 1 Axes>"
      ]
     },
     "metadata": {
      "needs_background": "light"
     },
     "output_type": "display_data"
    }
   ],
   "source": [
    "X.plot(filter_res)"
   ]
  },
  {
   "cell_type": "code",
   "execution_count": 9,
   "metadata": {},
   "outputs": [
    {
     "data": {
      "text/plain": [
       "[20, 28, 12, 36, 44, 52]"
      ]
     },
     "execution_count": 9,
     "metadata": {},
     "output_type": "execute_result"
    }
   ],
   "source": [
    "filter_res"
   ]
  },
  {
   "cell_type": "code",
   "execution_count": 12,
   "metadata": {},
   "outputs": [
    {
     "data": {
      "text/plain": [
       "FourierFeatures:\n",
       "    ReadImage:\n",
       "    ViolaJones:\n",
       "        add_perc = 40\n",
       "    CutCircle:\n",
       "    FourierFeatures:\n",
       "        n_angular = 8\n",
       "        n_spatial = 7\n",
       "        cut_circle = True\n",
       "        absolute = True\n",
       "HOGFeatures:\n",
       "    ReadImage:\n",
       "    ViolaJones:\n",
       "        add_perc = 20\n",
       "    CutCircle:\n",
       "    HOGFeatures:\n",
       "        orientations = 9\n",
       "        hog_cellsize = [10, 10]\n",
       "FourierFeatures_2:\n",
       "    ReadImage:\n",
       "    FourierFeatures:\n",
       "        n_angular = 8\n",
       "        n_spatial = 7\n",
       "        cut_circle = True\n",
       "        absolute = True"
      ]
     },
     "execution_count": 12,
     "metadata": {},
     "output_type": "execute_result"
    }
   ],
   "source": [
    "pipe_complex.settings"
   ]
  },
  {
   "cell_type": "code",
   "execution_count": null,
   "metadata": {},
   "outputs": [],
   "source": []
  }
 ],
 "metadata": {
  "kernelspec": {
   "display_name": "Python 3 (ipykernel)",
   "language": "python",
   "name": "python3"
  },
  "language_info": {
   "codemirror_mode": {
    "name": "ipython",
    "version": 3
   },
   "file_extension": ".py",
   "mimetype": "text/x-python",
   "name": "python",
   "nbconvert_exporter": "python",
   "pygments_lexer": "ipython3",
   "version": "3.9.9"
  }
 },
 "nbformat": 4,
 "nbformat_minor": 4
}
