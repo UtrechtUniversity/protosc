{
 "cells": [
  {
   "cell_type": "code",
   "execution_count": 1,
   "metadata": {},
   "outputs": [],
   "source": [
    "from pathlib import Path\n",
    "import itertools\n",
    "from matplotlib import pyplot as plt\n",
    "import pandas as pd\n",
    "import re\n",
    "from nimstim import create_csv\n",
    "import numpy as np\n",
    "from protosc.feature_matrix import FeatureMatrix\n",
    "from protosc.filter_model import filter_model"
   ]
  },
  {
   "cell_type": "code",
   "execution_count": 2,
   "metadata": {},
   "outputs": [],
   "source": [
    "# Set path to folder with faces: stim_data_dir\n",
    "stim_data_dir = Path(\"..\", \"data\", \"Nimstim faces\")"
   ]
  },
  {
   "cell_type": "code",
   "execution_count": 3,
   "metadata": {},
   "outputs": [],
   "source": [
    "# Create overview of all images with their corresponding sex, emotion and mouth positioning\n",
    "overview = create_csv(stim_data_dir)\n",
    "overview = overview.iloc[:50]"
   ]
  },
  {
   "cell_type": "code",
   "execution_count": 4,
   "metadata": {},
   "outputs": [],
   "source": [
    "from protosc.preprocessing import GreyScale, ViolaJones, CutCircle\n",
    "from protosc.pipe_complex import PipeComplex\n",
    "from protosc.feature_extraction import FourierFeatures\n",
    "from protosc.io import ReadImage\n",
    "grayscale = True"
   ]
  },
  {
   "cell_type": "code",
   "execution_count": 5,
   "metadata": {
    "scrolled": true
   },
   "outputs": [],
   "source": [
    "# Define pipeline\n",
    "pipe1 = ReadImage()*ViolaJones(20)*CutCircle()*FourierFeatures()\n",
    "pipe2 = ReadImage()*GreyScale()*ViolaJones(20)*CutCircle()*FourierFeatures()\n",
    "\n",
    "pipe_complex = pipe1 + pipe2"
   ]
  },
  {
   "cell_type": "code",
   "execution_count": 6,
   "metadata": {},
   "outputs": [],
   "source": [
    "def execute_pipeline(overview, sex=False, emotion=False, mouth=False):\n",
    "    \"\"\" Put specified files through the pipeline\"\"\"\n",
    "       \n",
    "    if sex:\n",
    "        overview = overview[overview['sex'] == sex]\n",
    "    if emotion:\n",
    "        overview = overview[overview['emotion'] == emotion]\n",
    "    if mouth:\n",
    "        overview = overview[overview['mouth'] == mouth]\n",
    "    \n",
    "    files = list(overview['file'])\n",
    "    \n",
    "    images = pipe_complex.execute(files)\n",
    "    \n",
    "    return images"
   ]
  },
  {
   "cell_type": "code",
   "execution_count": 7,
   "metadata": {},
   "outputs": [],
   "source": [
    "def select_y(df, **kwargs):\n",
    "    selected = np.ones(len(df), dtype=int)\n",
    "    for col, val in kwargs.items():\n",
    "        selected *= (df[col].values == val).astype(int)\n",
    "    return selected"
   ]
  },
  {
   "cell_type": "code",
   "execution_count": 8,
   "metadata": {},
   "outputs": [],
   "source": [
    "files = overview['file'].values\n",
    "y = select_y(overview, mouth=\"open\")\n",
    "feature_res = pipe_complex.execute(files)"
   ]
  },
  {
   "cell_type": "code",
   "execution_count": 9,
   "metadata": {},
   "outputs": [
    {
     "data": {
      "text/plain": [
       "(50, 6)"
      ]
     },
     "execution_count": 9,
     "metadata": {},
     "output_type": "execute_result"
    }
   ],
   "source": [
    "X = FeatureMatrix.from_pipe_data(feature_res)\n",
    "X[:, 1:3].shape"
   ]
  },
  {
   "cell_type": "code",
   "execution_count": 10,
   "metadata": {},
   "outputs": [],
   "source": [
    "filter_res = filter_model(X, y)"
   ]
  },
  {
   "cell_type": "code",
   "execution_count": 11,
   "metadata": {},
   "outputs": [],
   "source": [
    "from protosc.feature_extraction import transform_matrix\n",
    "def plot_fourier(shape, i_feature):\n",
    "    _, inv_matrix = transform_matrix(shape, n_spatial=7)\n",
    "    feature_vec = np.zeros(56).reshape(-1, 1)\n",
    "    feature_vec[i_feature] = 1\n",
    "    print(inv_matrix.shape, feature_vec.shape)\n",
    "    img = inv_matrix.dot(feature_vec).reshape(shape)\n",
    "    plt.imshow(img)\n",
    "    plt.show()"
   ]
  },
  {
   "cell_type": "code",
   "execution_count": 12,
   "metadata": {},
   "outputs": [
    {
     "name": "stdout",
     "output_type": "stream",
     "text": [
      "(160000, 56) (56, 1)\n"
     ]
    },
    {
     "data": {
      "image/png": "[encoded data removed]",
      "text/plain": [
       "<Figure size 432x288 with 1 Axes>"
      ]
     },
     "metadata": {
      "needs_background": "light"
     },
     "output_type": "display_data"
    }
   ],
   "source": [
    "plot_fourier((400,400), 2*np.arange(20))"
   ]
  },
  {
   "cell_type": "code",
   "execution_count": null,
   "metadata": {},
   "outputs": [],
   "source": []
  }
 ],
 "metadata": {
  "kernelspec": {
   "display_name": "Python 3",
   "language": "python",
   "name": "python3"
  },
  "language_info": {
   "codemirror_mode": {
    "name": "ipython",
    "version": 3
   },
   "file_extension": ".py",
   "mimetype": "text/x-python",
   "name": "python",
   "nbconvert_exporter": "python",
   "pygments_lexer": "ipython3",
   "version": "3.9.5"
  }
 },
 "nbformat": 4,
 "nbformat_minor": 4
}
