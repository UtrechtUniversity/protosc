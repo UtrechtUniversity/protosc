{
 "cells": [
  {
   "cell_type": "code",
   "execution_count": 1,
   "metadata": {},
   "outputs": [],
   "source": [
    "from pathlib import Path\n",
    "import itertools\n",
    "from matplotlib import pyplot as plt\n",
    "import pandas as pd\n",
    "import re"
   ]
  },
  {
   "cell_type": "code",
   "execution_count": 2,
   "metadata": {},
   "outputs": [],
   "source": [
    "# Set path to folder with faces: stim_data_dir\n",
    "stim_data_dir = Path(\"..\", \"data\", \"Nimstim faces\")"
   ]
  },
  {
   "cell_type": "code",
   "execution_count": 3,
   "metadata": {},
   "outputs": [],
   "source": [
    "def create_csv(path=stim_data_dir, write=False):\n",
    "    \"\"\" Create dataframe with all image IDs and sex, emotion, and mouth position depicted on image\"\"\"\n",
    "\n",
    "    # Read all images\n",
    "    files_path = list(path.glob('*.bmp'))\n",
    "    files = list(x.stem for x in files_path)\n",
    "\n",
    "    # Create codebook with the meaning of all abbreviations\n",
    "    codebook = {0: {'female', 'male'},\n",
    "           1: {'calm', 'angry', 'happy', 'fear', 'sad', 'surprised', 'neutral', 'disgust'},\n",
    "           2: {'open', 'closed', 'exuberant'}}\n",
    "    output = [[], [], []]\n",
    "\n",
    "    # Decode sex, emotion, and mouth position depicted on image\n",
    "    for file in files:\n",
    "        file_parts = file.split('_')\n",
    "        file_parts[0] = file_parts[0][-1]\n",
    "\n",
    "        for i in range(0, 3):\n",
    "            try:\n",
    "                code = re.findall('(?<=\\')' + file_parts[i].lower() + '\\w*', str(codebook[i]))[0]\n",
    "                output[i].append(code)\n",
    "            except:\n",
    "                if file_parts[i].lower() == 'sp':\n",
    "                    output[i].append('surprised')\n",
    "                elif file_parts[i].lower() == 'x':\n",
    "                    output[i].append('exuberant')\n",
    "                else:\n",
    "                    next\n",
    "\n",
    "    # Create dataframe with all collected info about the image\n",
    "    df = {'file': files_path,\n",
    "          'sex': output[0],\n",
    "          'emotion': output[1],\n",
    "          'mouth': output[2]}\n",
    "    df = pd.DataFrame(df)\n",
    "    df.index.name = 'picture_id'\n",
    "    \n",
    "    # Write dataframe to csv file\n",
    "    if write:\n",
    "        df.to_csv('overview.csv', index=True)\n",
    "    \n",
    "    return df\n"
   ]
  },
  {
   "cell_type": "code",
   "execution_count": 4,
   "metadata": {},
   "outputs": [
    {
     "data": {
      "text/html": [
       "<div>\n",
       "<style scoped>\n",
       "    .dataframe tbody tr th:only-of-type {\n",
       "        vertical-align: middle;\n",
       "    }\n",
       "\n",
       "    .dataframe tbody tr th {\n",
       "        vertical-align: top;\n",
       "    }\n",
       "\n",
       "    .dataframe thead th {\n",
       "        text-align: right;\n",
       "    }\n",
       "</style>\n",
       "<table border=\"1\" class=\"dataframe\">\n",
       "  <thead>\n",
       "    <tr style=\"text-align: right;\">\n",
       "      <th></th>\n",
       "      <th>file</th>\n",
       "      <th>sex</th>\n",
       "      <th>emotion</th>\n",
       "      <th>mouth</th>\n",
       "    </tr>\n",
       "    <tr>\n",
       "      <th>picture_id</th>\n",
       "      <th></th>\n",
       "      <th></th>\n",
       "      <th></th>\n",
       "      <th></th>\n",
       "    </tr>\n",
       "  </thead>\n",
       "  <tbody>\n",
       "    <tr>\n",
       "      <th>0</th>\n",
       "      <td>../data/Nimstim faces/03F_HA_X.bmp</td>\n",
       "      <td>female</td>\n",
       "      <td>happy</td>\n",
       "      <td>exuberant</td>\n",
       "    </tr>\n",
       "    <tr>\n",
       "      <th>1</th>\n",
       "      <td>../data/Nimstim faces/05F_CA_C.bmp</td>\n",
       "      <td>female</td>\n",
       "      <td>calm</td>\n",
       "      <td>closed</td>\n",
       "    </tr>\n",
       "    <tr>\n",
       "      <th>2</th>\n",
       "      <td>../data/Nimstim faces/01F_CA_C.bmp</td>\n",
       "      <td>female</td>\n",
       "      <td>calm</td>\n",
       "      <td>closed</td>\n",
       "    </tr>\n",
       "    <tr>\n",
       "      <th>3</th>\n",
       "      <td>../data/Nimstim faces/06F_CA_C.bmp</td>\n",
       "      <td>female</td>\n",
       "      <td>calm</td>\n",
       "      <td>closed</td>\n",
       "    </tr>\n",
       "    <tr>\n",
       "      <th>4</th>\n",
       "      <td>../data/Nimstim faces/26M_AN_C.bmp</td>\n",
       "      <td>male</td>\n",
       "      <td>angry</td>\n",
       "      <td>closed</td>\n",
       "    </tr>\n",
       "    <tr>\n",
       "      <th>...</th>\n",
       "      <td>...</td>\n",
       "      <td>...</td>\n",
       "      <td>...</td>\n",
       "      <td>...</td>\n",
       "    </tr>\n",
       "    <tr>\n",
       "      <th>110</th>\n",
       "      <td>../data/Nimstim faces/05F_SA_O.bmp</td>\n",
       "      <td>female</td>\n",
       "      <td>sad</td>\n",
       "      <td>open</td>\n",
       "    </tr>\n",
       "    <tr>\n",
       "      <th>111</th>\n",
       "      <td>../data/Nimstim faces/32M_AN_C.bmp</td>\n",
       "      <td>male</td>\n",
       "      <td>angry</td>\n",
       "      <td>closed</td>\n",
       "    </tr>\n",
       "    <tr>\n",
       "      <th>112</th>\n",
       "      <td>../data/Nimstim faces/01F_FE_C.bmp</td>\n",
       "      <td>female</td>\n",
       "      <td>fear</td>\n",
       "      <td>closed</td>\n",
       "    </tr>\n",
       "    <tr>\n",
       "      <th>113</th>\n",
       "      <td>../data/Nimstim faces/05F_DI_C.bmp</td>\n",
       "      <td>female</td>\n",
       "      <td>disgust</td>\n",
       "      <td>closed</td>\n",
       "    </tr>\n",
       "    <tr>\n",
       "      <th>114</th>\n",
       "      <td>../data/Nimstim faces/05F_HA_C.bmp</td>\n",
       "      <td>female</td>\n",
       "      <td>happy</td>\n",
       "      <td>closed</td>\n",
       "    </tr>\n",
       "  </tbody>\n",
       "</table>\n",
       "<p>115 rows × 4 columns</p>\n",
       "</div>"
      ],
      "text/plain": [
       "                                          file     sex  emotion      mouth\n",
       "picture_id                                                                \n",
       "0           ../data/Nimstim faces/03F_HA_X.bmp  female    happy  exuberant\n",
       "1           ../data/Nimstim faces/05F_CA_C.bmp  female     calm     closed\n",
       "2           ../data/Nimstim faces/01F_CA_C.bmp  female     calm     closed\n",
       "3           ../data/Nimstim faces/06F_CA_C.bmp  female     calm     closed\n",
       "4           ../data/Nimstim faces/26M_AN_C.bmp    male    angry     closed\n",
       "...                                        ...     ...      ...        ...\n",
       "110         ../data/Nimstim faces/05F_SA_O.bmp  female      sad       open\n",
       "111         ../data/Nimstim faces/32M_AN_C.bmp    male    angry     closed\n",
       "112         ../data/Nimstim faces/01F_FE_C.bmp  female     fear     closed\n",
       "113         ../data/Nimstim faces/05F_DI_C.bmp  female  disgust     closed\n",
       "114         ../data/Nimstim faces/05F_HA_C.bmp  female    happy     closed\n",
       "\n",
       "[115 rows x 4 columns]"
      ]
     },
     "execution_count": 4,
     "metadata": {},
     "output_type": "execute_result"
    }
   ],
   "source": [
    "# Create overview of all images with their corresponding sex, emotion and mouth positioning\n",
    "overview = create_csv(write=True)\n",
    "overview"
   ]
  },
  {
   "cell_type": "code",
   "execution_count": 5,
   "metadata": {},
   "outputs": [],
   "source": [
    "from protosc.preprocessing import GreyScale, ViolaJones, CutCircle\n",
    "from protosc.pipe_complex import PipeComplex\n",
    "from protosc.feature_extraction import FourierFeatures\n",
    "from protosc.io import ReadImage\n",
    "grayscale = True"
   ]
  },
  {
   "cell_type": "code",
   "execution_count": 6,
   "metadata": {
    "scrolled": true
   },
   "outputs": [],
   "source": [
    "# Define pipeline\n",
    "pipe1 = ReadImage()*ViolaJones(20)*CutCircle()*FourierFeatures()\n",
    "pipe2 = ReadImage()*GreyScale()*ViolaJones(20)*CutCircle()*FourierFeatures()\n",
    "\n",
    "pipe_complex = pipe1 + pipe2"
   ]
  },
  {
   "cell_type": "code",
   "execution_count": 7,
   "metadata": {},
   "outputs": [],
   "source": [
    "def execute_pipeline(sex=False, emotion=False, mouth=False):\n",
    "    \"\"\" Put specified files through the pipeline\"\"\"\n",
    "    \n",
    "    overview = create_csv()\n",
    "    \n",
    "    if sex:\n",
    "        overview = overview[overview['sex'] == sex]\n",
    "    if emotion:\n",
    "        overview = overview[overview['emotion'] == emotion]\n",
    "    if mouth:\n",
    "        overview = overview[overview['mouth'] == mouth]\n",
    "    \n",
    "    files = list(overview['file'])\n",
    "    \n",
    "    images = pipe_complex.execute(files)\n",
    "    \n",
    "    return images"
   ]
  },
  {
   "cell_type": "code",
   "execution_count": 8,
   "metadata": {},
   "outputs": [],
   "source": [
    "# Put selected images through pipeline\n",
    "output = execute_pipeline(sex='female', emotion='angry', mouth='open')"
   ]
  },
  {
   "cell_type": "code",
   "execution_count": 9,
   "metadata": {},
   "outputs": [
    {
     "ename": "KeyError",
     "evalue": "'ReadImage+GreyScale+ViolaJones_20+CutCircle+FourierFeatures_a8s7'",
     "output_type": "error",
     "traceback": [
      "\u001b[0;31m---------------------------------------------------------------------------\u001b[0m",
      "\u001b[0;31mKeyError\u001b[0m                                  Traceback (most recent call last)",
      "\u001b[0;32m<ipython-input-9-b6d9fe43bd51>\u001b[0m in \u001b[0;36m<module>\u001b[0;34m\u001b[0m\n\u001b[1;32m      2\u001b[0m \u001b[0mmatrix\u001b[0m \u001b[0;34m=\u001b[0m \u001b[0mpd\u001b[0m\u001b[0;34m.\u001b[0m\u001b[0mDataFrame\u001b[0m\u001b[0;34m(\u001b[0m\u001b[0;34m)\u001b[0m\u001b[0;34m\u001b[0m\u001b[0;34m\u001b[0m\u001b[0m\n\u001b[1;32m      3\u001b[0m \u001b[0;32mfor\u001b[0m \u001b[0mrow\u001b[0m \u001b[0;32min\u001b[0m \u001b[0mrange\u001b[0m\u001b[0;34m(\u001b[0m\u001b[0mlen\u001b[0m\u001b[0;34m(\u001b[0m\u001b[0moutput\u001b[0m\u001b[0;34m)\u001b[0m\u001b[0;34m)\u001b[0m\u001b[0;34m:\u001b[0m\u001b[0;34m\u001b[0m\u001b[0;34m\u001b[0m\u001b[0m\n\u001b[0;32m----> 4\u001b[0;31m     \u001b[0msnip\u001b[0m \u001b[0;34m=\u001b[0m \u001b[0moutput\u001b[0m\u001b[0;34m[\u001b[0m\u001b[0mrow\u001b[0m\u001b[0;34m]\u001b[0m\u001b[0;34m[\u001b[0m\u001b[0;34m'ReadImage+GreyScale+ViolaJones_20+CutCircle+FourierFeatures_a8s7'\u001b[0m\u001b[0;34m]\u001b[0m\u001b[0;34m\u001b[0m\u001b[0;34m\u001b[0m\u001b[0m\n\u001b[0m\u001b[1;32m      5\u001b[0m     \u001b[0;32mfor\u001b[0m \u001b[0mcol\u001b[0m \u001b[0;32min\u001b[0m \u001b[0mrange\u001b[0m\u001b[0;34m(\u001b[0m\u001b[0mlen\u001b[0m\u001b[0;34m(\u001b[0m\u001b[0msnip\u001b[0m\u001b[0;34m)\u001b[0m\u001b[0;34m)\u001b[0m\u001b[0;34m:\u001b[0m\u001b[0;34m\u001b[0m\u001b[0;34m\u001b[0m\u001b[0m\n\u001b[1;32m      6\u001b[0m         \u001b[0mmatrix\u001b[0m\u001b[0;34m.\u001b[0m\u001b[0mloc\u001b[0m\u001b[0;34m[\u001b[0m\u001b[0mrow\u001b[0m\u001b[0;34m,\u001b[0m \u001b[0mcol\u001b[0m\u001b[0;34m]\u001b[0m \u001b[0;34m=\u001b[0m \u001b[0msnip\u001b[0m\u001b[0;34m[\u001b[0m\u001b[0mcol\u001b[0m\u001b[0;34m]\u001b[0m\u001b[0;34m\u001b[0m\u001b[0;34m\u001b[0m\u001b[0m\n",
      "\u001b[0;31mKeyError\u001b[0m: 'ReadImage+GreyScale+ViolaJones_20+CutCircle+FourierFeatures_a8s7'"
     ]
    }
   ],
   "source": [
    "# Create Fourier Matrix: row = image, column = Feature\n",
    "matrix = pd.DataFrame()\n",
    "for row in range(len(output)):\n",
    "    snip = output[row]['ReadImage+GreyScale+ViolaJones_20+CutCircle+FourierFeatures_a8s7']\n",
    "    for col in range(len(snip)):\n",
    "        matrix.loc[row, col] = snip[col]\n",
    "matrix"
   ]
  },
  {
   "cell_type": "code",
   "execution_count": null,
   "metadata": {},
   "outputs": [],
   "source": []
  }
 ],
 "metadata": {
  "kernelspec": {
   "display_name": "Python 3",
   "language": "python",
   "name": "python3"
  },
  "language_info": {
   "codemirror_mode": {
    "name": "ipython",
    "version": 3
   },
   "file_extension": ".py",
   "mimetype": "text/x-python",
   "name": "python",
   "nbconvert_exporter": "python",
   "pygments_lexer": "ipython3",
   "version": "3.9.2"
  }
 },
 "nbformat": 4,
 "nbformat_minor": 4
}
